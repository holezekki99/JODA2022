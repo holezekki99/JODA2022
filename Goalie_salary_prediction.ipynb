{
  "nbformat": 4,
  "nbformat_minor": 0,
  "metadata": {
    "colab": {
      "name": "Goalie_salary_prediction.ipynb",
      "provenance": [],
      "authorship_tag": "ABX9TyMuk1ew3UtF+/sbOkkLRMAW",
      "include_colab_link": true
    },
    "kernelspec": {
      "name": "python3",
      "display_name": "Python 3"
    },
    "language_info": {
      "name": "python"
    }
  },
  "cells": [
    {
      "cell_type": "markdown",
      "metadata": {
        "id": "view-in-github",
        "colab_type": "text"
      },
      "source": [
        "<a href=\"https://colab.research.google.com/github/holezekki99/JODA2022/blob/main/Goalie_salary_prediction.ipynb\" target=\"_parent\"><img src=\"https://colab.research.google.com/assets/colab-badge.svg\" alt=\"Open In Colab\"/></a>"
      ]
    },
    {
      "cell_type": "markdown",
      "source": [
        "# Goalie salary predictor\n",
        "\n",
        "In this workbook we're trying to make a model that could predict what would be the fair salary for NHL goalie based on his performance.\n",
        "\n",
        "The statistical data for goelies performance is downloaded from Moneypuck.com website. The earnings are webscraped from spotrac.com."
      ],
      "metadata": {
        "id": "FxobsQXj_e8e"
      }
    },
    {
      "cell_type": "markdown",
      "source": [
        "### Aquiring data\n",
        "\n",
        "We need goalie game statistics first. Separate files for seasons 20-21 and 21-22:"
      ],
      "metadata": {
        "id": "izWCNBKfFyhq"
      }
    },
    {
      "cell_type": "code",
      "source": [
        "# Create data-directory\n",
        "!mkdir ./data"
      ],
      "metadata": {
        "id": "EYm6u86HJana"
      },
      "execution_count": 2,
      "outputs": []
    },
    {
      "cell_type": "code",
      "source": [
        "# Get the data for seasons 20-21 and 21-22 and write them to files\n",
        "import pandas as pd\n",
        "import requests\n",
        "\n",
        "years = ['2017', '2018', '2019', '2020', '2021']\n",
        "\n",
        "url_20 = 'https://moneypuck.com/moneypuck/playerData/seasonSummary/2020/regular/goalies.csv'\n",
        "url_21 = 'https://moneypuck.com/moneypuck/playerData/seasonSummary/2021/regular/goalies.csv'\n",
        "\n",
        "r = requests.get(url_20)\n",
        "open('./data/stat20.csv', 'wb').write(r.content)\n",
        "\n",
        "r = requests.get(url_21)\n",
        "open('./data/stat21.csv', 'wb').write(r.content)\n"
      ],
      "metadata": {
        "colab": {
          "base_uri": "https://localhost:8080/"
        },
        "id": "Zui4zh2RF6jY",
        "outputId": "f9fab072-ecd7-4550-ea3b-efe54fcc2279"
      },
      "execution_count": 3,
      "outputs": [
        {
          "output_type": "execute_result",
          "data": {
            "text/plain": [
              "111789"
            ]
          },
          "metadata": {},
          "execution_count": 3
        }
      ]
    },
    {
      "cell_type": "code",
      "source": [
        "# Get the data for seasons 20-21 and 21-22 and write them to files\n",
        "import pandas as pd\n",
        "import requests\n",
        "\n",
        "years = ['2017', '2018', '2019', '2020', '2021']\n",
        "\n",
        "for i in years:\n",
        "  year = str(i)\n",
        "  url = ('https://moneypuck.com/moneypuck/playerData/seasonSummary/' + year + '/regular/goalies.csv')\n",
        "  page = requests.get(url)\n",
        "  r = requests.get(url_20)\n",
        "  fname = ('./data/stat' + year + '.csv')\n",
        "  open(fname, 'wb').write(r.content)\n"
      ],
      "metadata": {
        "id": "i_FohJC2-v_o"
      },
      "execution_count": 70,
      "outputs": []
    },
    {
      "cell_type": "markdown",
      "source": [
        "Next step is to webscrape salary information for seasons 2018-2022 and wite the result into a csv file.\n",
        "\n",
        "We use beautifulsoup library for scraping:"
      ],
      "metadata": {
        "id": "KcYL4JTnLHe5"
      }
    },
    {
      "cell_type": "code",
      "source": [
        "from bs4 import BeautifulSoup\n",
        "\n",
        "# Defining of the dataframe, we collect only name, year and caphit\n",
        "df = pd.DataFrame(columns=['name', 'year', 'caphit'])\n",
        "\n",
        "for i in years:\n",
        "  year = str(i)\n",
        "  url = ('https://www.spotrac.com/nhl/positional/' + year + '/goaltender/active-cap/')\n",
        "  page = requests.get(url)\n",
        "  soup = BeautifulSoup(page20.content, 'html.parser')\n",
        "  table = soup.find_all('table')[1]\n",
        "\n",
        "  table = soup.find_all('table')[1] # Table 1 is the list of goalies\n",
        "  # Collecting Ddata\n",
        "  for row in table.tbody.find_all('tr'):    \n",
        "    # Find all data for each column\n",
        "    columns = row.find_all('td')\n",
        "    if(columns != []):\n",
        "      name = columns[2].text.strip()\n",
        "      year = year\n",
        "      caphit = columns[3].text.strip()\n",
        "      df = df.append({'name': name,  'year': year, 'caphit': caphit}, ignore_index=True)\n"
      ],
      "metadata": {
        "id": "1JJwVV2LTssS"
      },
      "execution_count": 72,
      "outputs": []
    },
    {
      "cell_type": "code",
      "source": [
        "df.info()"
      ],
      "metadata": {
        "colab": {
          "base_uri": "https://localhost:8080/"
        },
        "id": "vrWQrdQcznAi",
        "outputId": "c5192b7c-6ca0-41a1-8f78-32cab1405c75"
      },
      "execution_count": 73,
      "outputs": [
        {
          "output_type": "stream",
          "name": "stdout",
          "text": [
            "<class 'pandas.core.frame.DataFrame'>\n",
            "RangeIndex: 430 entries, 0 to 429\n",
            "Data columns (total 3 columns):\n",
            " #   Column  Non-Null Count  Dtype \n",
            "---  ------  --------------  ----- \n",
            " 0   name    430 non-null    object\n",
            " 1   year    430 non-null    object\n",
            " 2   caphit  430 non-null    object\n",
            "dtypes: object(3)\n",
            "memory usage: 10.2+ KB\n"
          ]
        }
      ]
    },
    {
      "cell_type": "code",
      "source": [
        "df.describe()"
      ],
      "metadata": {
        "colab": {
          "base_uri": "https://localhost:8080/",
          "height": 175
        },
        "id": "LPCVLwrCaQRE",
        "outputId": "a931f3d0-791e-4dc6-9eb4-2020b81f3a15"
      },
      "execution_count": 74,
      "outputs": [
        {
          "output_type": "execute_result",
          "data": {
            "text/plain": [
              "               name  year    caphit\n",
              "count           430   430       430\n",
              "unique           86     5        55\n",
              "top     Carey Price  2017  $700,000\n",
              "freq              5    86        60"
            ],
            "text/html": [
              "\n",
              "  <div id=\"df-a0c207ee-a7a8-413c-a94d-fb8c04010fec\">\n",
              "    <div class=\"colab-df-container\">\n",
              "      <div>\n",
              "<style scoped>\n",
              "    .dataframe tbody tr th:only-of-type {\n",
              "        vertical-align: middle;\n",
              "    }\n",
              "\n",
              "    .dataframe tbody tr th {\n",
              "        vertical-align: top;\n",
              "    }\n",
              "\n",
              "    .dataframe thead th {\n",
              "        text-align: right;\n",
              "    }\n",
              "</style>\n",
              "<table border=\"1\" class=\"dataframe\">\n",
              "  <thead>\n",
              "    <tr style=\"text-align: right;\">\n",
              "      <th></th>\n",
              "      <th>name</th>\n",
              "      <th>year</th>\n",
              "      <th>caphit</th>\n",
              "    </tr>\n",
              "  </thead>\n",
              "  <tbody>\n",
              "    <tr>\n",
              "      <th>count</th>\n",
              "      <td>430</td>\n",
              "      <td>430</td>\n",
              "      <td>430</td>\n",
              "    </tr>\n",
              "    <tr>\n",
              "      <th>unique</th>\n",
              "      <td>86</td>\n",
              "      <td>5</td>\n",
              "      <td>55</td>\n",
              "    </tr>\n",
              "    <tr>\n",
              "      <th>top</th>\n",
              "      <td>Carey Price</td>\n",
              "      <td>2017</td>\n",
              "      <td>$700,000</td>\n",
              "    </tr>\n",
              "    <tr>\n",
              "      <th>freq</th>\n",
              "      <td>5</td>\n",
              "      <td>86</td>\n",
              "      <td>60</td>\n",
              "    </tr>\n",
              "  </tbody>\n",
              "</table>\n",
              "</div>\n",
              "      <button class=\"colab-df-convert\" onclick=\"convertToInteractive('df-a0c207ee-a7a8-413c-a94d-fb8c04010fec')\"\n",
              "              title=\"Convert this dataframe to an interactive table.\"\n",
              "              style=\"display:none;\">\n",
              "        \n",
              "  <svg xmlns=\"http://www.w3.org/2000/svg\" height=\"24px\"viewBox=\"0 0 24 24\"\n",
              "       width=\"24px\">\n",
              "    <path d=\"M0 0h24v24H0V0z\" fill=\"none\"/>\n",
              "    <path d=\"M18.56 5.44l.94 2.06.94-2.06 2.06-.94-2.06-.94-.94-2.06-.94 2.06-2.06.94zm-11 1L8.5 8.5l.94-2.06 2.06-.94-2.06-.94L8.5 2.5l-.94 2.06-2.06.94zm10 10l.94 2.06.94-2.06 2.06-.94-2.06-.94-.94-2.06-.94 2.06-2.06.94z\"/><path d=\"M17.41 7.96l-1.37-1.37c-.4-.4-.92-.59-1.43-.59-.52 0-1.04.2-1.43.59L10.3 9.45l-7.72 7.72c-.78.78-.78 2.05 0 2.83L4 21.41c.39.39.9.59 1.41.59.51 0 1.02-.2 1.41-.59l7.78-7.78 2.81-2.81c.8-.78.8-2.07 0-2.86zM5.41 20L4 18.59l7.72-7.72 1.47 1.35L5.41 20z\"/>\n",
              "  </svg>\n",
              "      </button>\n",
              "      \n",
              "  <style>\n",
              "    .colab-df-container {\n",
              "      display:flex;\n",
              "      flex-wrap:wrap;\n",
              "      gap: 12px;\n",
              "    }\n",
              "\n",
              "    .colab-df-convert {\n",
              "      background-color: #E8F0FE;\n",
              "      border: none;\n",
              "      border-radius: 50%;\n",
              "      cursor: pointer;\n",
              "      display: none;\n",
              "      fill: #1967D2;\n",
              "      height: 32px;\n",
              "      padding: 0 0 0 0;\n",
              "      width: 32px;\n",
              "    }\n",
              "\n",
              "    .colab-df-convert:hover {\n",
              "      background-color: #E2EBFA;\n",
              "      box-shadow: 0px 1px 2px rgba(60, 64, 67, 0.3), 0px 1px 3px 1px rgba(60, 64, 67, 0.15);\n",
              "      fill: #174EA6;\n",
              "    }\n",
              "\n",
              "    [theme=dark] .colab-df-convert {\n",
              "      background-color: #3B4455;\n",
              "      fill: #D2E3FC;\n",
              "    }\n",
              "\n",
              "    [theme=dark] .colab-df-convert:hover {\n",
              "      background-color: #434B5C;\n",
              "      box-shadow: 0px 1px 3px 1px rgba(0, 0, 0, 0.15);\n",
              "      filter: drop-shadow(0px 1px 2px rgba(0, 0, 0, 0.3));\n",
              "      fill: #FFFFFF;\n",
              "    }\n",
              "  </style>\n",
              "\n",
              "      <script>\n",
              "        const buttonEl =\n",
              "          document.querySelector('#df-a0c207ee-a7a8-413c-a94d-fb8c04010fec button.colab-df-convert');\n",
              "        buttonEl.style.display =\n",
              "          google.colab.kernel.accessAllowed ? 'block' : 'none';\n",
              "\n",
              "        async function convertToInteractive(key) {\n",
              "          const element = document.querySelector('#df-a0c207ee-a7a8-413c-a94d-fb8c04010fec');\n",
              "          const dataTable =\n",
              "            await google.colab.kernel.invokeFunction('convertToInteractive',\n",
              "                                                     [key], {});\n",
              "          if (!dataTable) return;\n",
              "\n",
              "          const docLinkHtml = 'Like what you see? Visit the ' +\n",
              "            '<a target=\"_blank\" href=https://colab.research.google.com/notebooks/data_table.ipynb>data table notebook</a>'\n",
              "            + ' to learn more about interactive tables.';\n",
              "          element.innerHTML = '';\n",
              "          dataTable['output_type'] = 'display_data';\n",
              "          await google.colab.output.renderOutput(dataTable, element);\n",
              "          const docLink = document.createElement('div');\n",
              "          docLink.innerHTML = docLinkHtml;\n",
              "          element.appendChild(docLink);\n",
              "        }\n",
              "      </script>\n",
              "    </div>\n",
              "  </div>\n",
              "  "
            ]
          },
          "metadata": {},
          "execution_count": 74
        }
      ]
    },
    {
      "cell_type": "code",
      "source": [
        "df.to_csv('./data/salaries.csv', index=False)  "
      ],
      "metadata": {
        "colab": {
          "base_uri": "https://localhost:8080/"
        },
        "id": "PB9h_64x11k0",
        "outputId": "bfbb320d-1ce9-4e32-d67b-522562f53168"
      },
      "execution_count": 23,
      "outputs": [
        {
          "output_type": "execute_result",
          "data": {
            "text/plain": [
              " \\n    86\n",
              "Name: caphit, dtype: int64"
            ]
          },
          "metadata": {},
          "execution_count": 23
        }
      ]
    },
    {
      "cell_type": "markdown",
      "source": [
        "-----"
      ],
      "metadata": {
        "id": "lDol-8rMUNuT"
      }
    },
    {
      "cell_type": "code",
      "source": [
        "# nstall mechanize\n",
        "!pip install mechanize"
      ],
      "metadata": {
        "colab": {
          "base_uri": "https://localhost:8080/"
        },
        "id": "0VCU7zJMNFoN",
        "outputId": "46fbb6a8-46bd-4e56-d6c8-a537f4198d61"
      },
      "execution_count": 17,
      "outputs": [
        {
          "output_type": "stream",
          "name": "stdout",
          "text": [
            "Collecting mechanize\n",
            "  Downloading mechanize-0.4.8-py2.py3-none-any.whl (110 kB)\n",
            "\u001b[?25l\r\u001b[K     |███                             | 10 kB 19.9 MB/s eta 0:00:01\r\u001b[K     |██████                          | 20 kB 12.6 MB/s eta 0:00:01\r\u001b[K     |█████████                       | 30 kB 9.4 MB/s eta 0:00:01\r\u001b[K     |███████████▉                    | 40 kB 4.5 MB/s eta 0:00:01\r\u001b[K     |██████████████▉                 | 51 kB 4.4 MB/s eta 0:00:01\r\u001b[K     |█████████████████▉              | 61 kB 5.2 MB/s eta 0:00:01\r\u001b[K     |████████████████████▉           | 71 kB 5.4 MB/s eta 0:00:01\r\u001b[K     |███████████████████████▊        | 81 kB 5.4 MB/s eta 0:00:01\r\u001b[K     |██████████████████████████▊     | 92 kB 6.0 MB/s eta 0:00:01\r\u001b[K     |█████████████████████████████▊  | 102 kB 5.2 MB/s eta 0:00:01\r\u001b[K     |████████████████████████████████| 110 kB 5.2 MB/s \n",
            "\u001b[?25hRequirement already satisfied: html5lib>=0.999999999 in /usr/local/lib/python3.7/dist-packages (from mechanize) (1.0.1)\n",
            "Requirement already satisfied: webencodings in /usr/local/lib/python3.7/dist-packages (from html5lib>=0.999999999->mechanize) (0.5.1)\n",
            "Requirement already satisfied: six>=1.9 in /usr/local/lib/python3.7/dist-packages (from html5lib>=0.999999999->mechanize) (1.15.0)\n",
            "Installing collected packages: mechanize\n",
            "Successfully installed mechanize-0.4.8\n"
          ]
        }
      ]
    },
    {
      "cell_type": "code",
      "source": [
        "import mechanize\n",
        "br=mechanize.Browser()\n",
        "br.open('https://www.spotrac.com/nhl/positional/2020/goaltender/active-cap/')"
      ],
      "metadata": {
        "colab": {
          "base_uri": "https://localhost:8080/"
        },
        "id": "7mIwUNwJLP8F",
        "outputId": "0e3f5e4f-fd92-4e8e-dd86-61548d00261d"
      },
      "execution_count": 18,
      "outputs": [
        {
          "output_type": "execute_result",
          "data": {
            "text/plain": [
              "<response_seek_wrapper at 0x7f743bcd0b10 whose wrapped object = <closeable_response at 0x7f743ac33110 whose fp = <_io.BufferedReader name=70>>>"
            ]
          },
          "metadata": {},
          "execution_count": 18
        }
      ]
    },
    {
      "cell_type": "code",
      "source": [
        "# Find out how to access to the filters\n",
        "for f in br.forms():\n",
        "    print (f)\n",
        "# The filter form is number 3"
      ],
      "metadata": {
        "colab": {
          "base_uri": "https://localhost:8080/"
        },
        "id": "EUEaqPDPNhk4",
        "outputId": "c3a00dc4-eecd-4288-936f-47717c24cc43"
      },
      "execution_count": 20,
      "outputs": [
        {
          "output_type": "stream",
          "name": "stdout",
          "text": [
            "<mc-embedded-subscribe-form post https://spotrac.us20.list-manage.com/subscribe/post?u=bdbf75e587e47e54ff02bfd31&id=b4f59a427b application/x-www-form-urlencoded\n",
            "  <TextControl(EMAIL=)>\n",
            "  <TextControl(FNAME=)>\n",
            "  <TextControl(LNAME=)>\n",
            "  <TextControl(b_bdbf75e587e47e54ff02bfd31_b4f59a427b=)>\n",
            "  <SubmitControl(subscribe=Subscribe) (readonly)>>\n",
            "<post https://www.spotrac.com/redirect/search/ application/x-www-form-urlencoded\n",
            "  <TextControl(search=)>>\n",
            "<post https://www.spotrac.com/redirect/search/ application/x-www-form-urlencoded\n",
            "  <TextControl(search=)>\n",
            "  <SubmitButtonControl(<None>=) (readonly)>>\n",
            "<post https://www.spotrac.com/nhlPositional/positionalFilterRedirect/ application/x-www-form-urlencoded\n",
            "  <HiddenControl(sportUrl=nhl) (readonly)>\n",
            "  <SelectControl(position=[all, forward, center, left-wing, right-wing, defenseman, *goaltender])>\n",
            "  <SelectControl(year=[2028, 2027, 2026, 2025, 2024, 2023, 2022, 2021, *2020, 2019, 2018, 2017, 2016, 2015, 2014, 2013, 2012, 2011])>\n",
            "  <SelectControl(view=[full-cap, full-cash, full-aav, *active-cap, active-cash, active-aav])>\n",
            "  <SelectControl(team=[*, anaheim-ducks, arizona-coyotes, boston-bruins, buffalo-sabres, calgary-flames, carolina-hurricanes, chicago-blackhawks, colorado-avalanche, columbus-blue-jackets, dallas-stars, detroit-red-wings, edmonton-oilers, florida-panthers, los-angeles-kings, minnesota-wild, montreal-canadiens, nashville-predators, new-jersey-devils, new-york-islanders, new-york-rangers, ottawa-senators, philadelphia-flyers, pittsburgh-penguins, san-jose-sharks, seattle-kraken, st-louis-blues, tampa-bay-lightning, toronto-maple-leafs, vancouver-canucks, vegas-golden-knights, washington-capitals, winnipeg-jets])>\n",
            "  <SubmitControl(<None>=UPDATE) (readonly)>>\n"
          ]
        }
      ]
    },
    {
      "cell_type": "code",
      "source": [
        ""
      ],
      "metadata": {
        "colab": {
          "base_uri": "https://localhost:8080/",
          "height": 287
        },
        "id": "D2owZDUuRjiV",
        "outputId": "b0b1af43-ca4c-4777-c165-02a54f27f40c"
      },
      "execution_count": 29,
      "outputs": [
        {
          "output_type": "error",
          "ename": "AttributeError",
          "evalue": "ignored",
          "traceback": [
            "\u001b[0;31m---------------------------------------------------------------------------\u001b[0m",
            "\u001b[0;31mAttributeError\u001b[0m                            Traceback (most recent call last)",
            "\u001b[0;32m<ipython-input-29-31c5287e9b64>\u001b[0m in \u001b[0;36m<module>\u001b[0;34m()\u001b[0m\n\u001b[0;32m----> 1\u001b[0;31m \u001b[0mitem\u001b[0m \u001b[0;34m=\u001b[0m \u001b[0mbr\u001b[0m\u001b[0;34m.\u001b[0m\u001b[0mfind_control\u001b[0m\u001b[0;34m(\u001b[0m\u001b[0mname\u001b[0m\u001b[0;34m=\u001b[0m\u001b[0;34m\"year\"\u001b[0m\u001b[0;34m,\u001b[0m \u001b[0mtype\u001b[0m\u001b[0;34m=\u001b[0m\u001b[0;34m\"selectControl\"\u001b[0m\u001b[0;34m)\u001b[0m\u001b[0;34m.\u001b[0m\u001b[0mget\u001b[0m\u001b[0;34m(\u001b[0m\u001b[0;34m\"2021\"\u001b[0m\u001b[0;34m)\u001b[0m\u001b[0;34m\u001b[0m\u001b[0;34m\u001b[0m\u001b[0m\n\u001b[0m",
            "\u001b[0;32m/usr/local/lib/python3.7/dist-packages/mechanize/_mechanize.py\u001b[0m in \u001b[0;36m__getattr__\u001b[0;34m(self, name)\u001b[0m\n\u001b[1;32m    796\u001b[0m             raise AttributeError(\n\u001b[1;32m    797\u001b[0m                 \u001b[0;34m\"%s instance has no attribute %s (perhaps you forgot to \"\u001b[0m\u001b[0;34m\u001b[0m\u001b[0;34m\u001b[0m\u001b[0m\n\u001b[0;32m--> 798\u001b[0;31m                 \".select_form()?)\" % (self.__class__, name))\n\u001b[0m\u001b[1;32m    799\u001b[0m         \u001b[0;32mreturn\u001b[0m \u001b[0mgetattr\u001b[0m\u001b[0;34m(\u001b[0m\u001b[0mform\u001b[0m\u001b[0;34m,\u001b[0m \u001b[0mname\u001b[0m\u001b[0;34m)\u001b[0m\u001b[0;34m\u001b[0m\u001b[0;34m\u001b[0m\u001b[0m\n\u001b[1;32m    800\u001b[0m \u001b[0;34m\u001b[0m\u001b[0m\n",
            "\u001b[0;31mAttributeError\u001b[0m: <class 'mechanize._mechanize.Browser'> instance has no attribute find_control (perhaps you forgot to .select_form()?)"
          ]
        }
      ]
    },
    {
      "cell_type": "code",
      "source": [
        "br.select_form(nr=3)\n",
        "br.form[\"year\"] =  ['2021',]\n",
        "res = br.submit()\n",
        "\n",
        "response = browser.open('http://yeezy.shoezgallery.com/')\n",
        "\n",
        "            print response.read()"
      ],
      "metadata": {
        "colab": {
          "base_uri": "https://localhost:8080/"
        },
        "id": "EWKVixJYOyNE",
        "outputId": "edb49aa3-d5c7-44cc-ed60-cf8133bb6087"
      },
      "execution_count": 25,
      "outputs": [
        {
          "output_type": "execute_result",
          "data": {
            "text/plain": [
              "<response_seek_wrapper at 0x7f7438cd8d10 whose wrapped object = <closeable_response at 0x7f7438843d90 whose fp = <_io.BufferedReader name=69>>>"
            ]
          },
          "metadata": {},
          "execution_count": 25
        }
      ]
    },
    {
      "cell_type": "code",
      "execution_count": 3,
      "metadata": {
        "colab": {
          "base_uri": "https://localhost:8080/"
        },
        "id": "bkx3oM5X_BRH",
        "outputId": "2c348fdd-ea81-4c34-d68d-a3659b26bf79"
      },
      "outputs": [
        {
          "output_type": "execute_result",
          "data": {
            "text/plain": [
              "<Response [200]>"
            ]
          },
          "metadata": {},
          "execution_count": 3
        }
      ],
      "source": [
        ""
      ]
    }
  ]
}