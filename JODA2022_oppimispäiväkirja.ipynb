{
  "nbformat": 4,
  "nbformat_minor": 0,
  "metadata": {
    "colab": {
      "name": "JODA2022_workbook.ipynb",
      "provenance": [],
      "authorship_tag": "ABX9TyODVBkhqgS8l8Nw6Ldnzxy+",
      "include_colab_link": true
    },
    "kernelspec": {
      "name": "python3",
      "display_name": "Python 3"
    },
    "language_info": {
      "name": "python"
    }
  },
  "cells": [
    {
      "cell_type": "markdown",
      "metadata": {
        "id": "view-in-github",
        "colab_type": "text"
      },
      "source": [
        "<a href=\"https://colab.research.google.com/github/holezekki99/JODA2022/blob/oppimispaivakirjav2/JODA2022_oppimisp%C3%A4iv%C3%A4kirja.ipynb\" target=\"_parent\"><img src=\"https://colab.research.google.com/assets/colab-badge.svg\" alt=\"Open In Colab\"/></a>"
      ]
    },
    {
      "cell_type": "markdown",
      "source": [
        "# JODA2022\n",
        "## Juha Holstila\n"
      ],
      "metadata": {
        "id": "n6ugCF2bKNfo"
      }
    },
    {
      "cell_type": "markdown",
      "source": [
        "\n",
        "---\n",
        "### Keskeiset oppimistavoitteet\n",
        "Tavoitteet keväälle:\n",
        "\n",
        "1. Omaksu datatieteen peruskäsitteet (määritelmiä, historiaa, pohdintaa nykytilasta ja tulevaisuudesta, ym.)\n",
        "2. Opi pystyttämään kehitysympäristö ja työskentelemään nykyään yleisesti käytössä olevilla työkaluilla (github, jupyter ym.).\n",
        "3. Opi ja laajenna ymmärrystä saatavilla olevista datasäilöistä (avoin data ym.)\n",
        "4. Paranna teoreettista ja käytännön osaamista datan muokkauksessa Pythonilla, pandasilla ja opi käyttämään eri kirjastoja.\n",
        "5. Selvitä mitä eri tilastollisia menetelmiä on käytettävissä datan analysoinnissa.\n",
        "6. Opi koneoppimisen perusteet ja osaa hyödyntää koneoppimista pythonilla.\n",
        "7. Opi ja laajenna ymmärrystä datan visualisoinnin työkaluista ja parhaista käytänteistä.\n",
        "\n",
        "\n",
        "\n"
      ],
      "metadata": {
        "id": "VDto043XNd7I"
      }
    },
    {
      "cell_type": "markdown",
      "source": [
        "### Lähtötilanne\n",
        "Olen viimeiset pari vuotta harrastuksena ja oman työni ohella tehnyt lentoliikenteen parissa jonkin sortin datatiedettä. Lentoliikenne on siitä hyvä ala tähän, että kaikki toimijat, ml. lentoyhtiöt, lennonvarmistuspalvelun tarjoajat ja ilmatieteenlaitokset toimittavat kaiken relevantin tietonsa keskitettyyn paikkaan Eurocontrolliin. Alan toimijoille on kehitetty tehokas rajapinta tähän dataan.\n",
        "Aluksi tarkoitus oli kerätä meitä kiinnostava data omalle alustalle jatkoa varten. Tarkoituksena on ensinnäkin muuttaa toimintamme nolliksi ja ykkösiksi, eräänlaiseksi digitaaliseksi kaksoseksi. Tämä antaa meille mahdollisuuden oikeasti ymmärtää mitä operatiivisessa ympäristössämme tapahtuu.\n",
        "Datan hakemista, käsittelyä ja visualisointia tein aluksi excelillä joka vaatii paljon käsityötä. Viimeisen vuoden aikana olen alkanut muokkaamaan dataa pythonilla. Datan analysointiin ja visualisointiin olen toistaiseksi käyttänyt  Power BI:ta. "
      ],
      "metadata": {
        "id": "QMb3lSNFLci9"
      }
    },
    {
      "cell_type": "markdown",
      "source": [
        "---\n",
        "### Viikko 1\n"
      ],
      "metadata": {
        "id": "GBtZ4XcaK0xq"
      }
    },
    {
      "cell_type": "markdown",
      "source": [
        "#### Viikon 1 tapahtumat\n",
        "\n",
        "Opinnot alkoivat. Osallistuin 9.3. aloitusluennolle ja 11.3. demo-session katsoin nauhoituksena viikonloppuna.\n",
        "\n",
        "Kurssin sisältö esiteltiin riittävän kattavasti luennolla."
      ],
      "metadata": {
        "id": "HWWb-xxlKP_4"
      }
    },
    {
      "cell_type": "markdown",
      "source": [
        "#### Viikon 1 tavoitteet\n",
        "Tavoitteena oli saada opinnot käyntiin ja työskentelyympäristö luotua. "
      ],
      "metadata": {
        "id": "1jh5wklFL9Ve"
      }
    },
    {
      "cell_type": "markdown",
      "source": [
        "#### Viikon 1 Luentotiivistelmä ja omat oivallukset\n",
        "- Datatieteen ja -tieteilijän määritelmät osoittautuivat yhtä laajoiksi kuin olen ne mieltänyt.\n",
        "- Datatiede käsittää koko putken aina datan olemassaolon tunnistamisesta siihen että organisaatio pystyy kehittämään ja analysoimaan toimintaansa. Pitää alkaa ymmärtää se, että yksi ihminen ei välttämättä voi olla paras asiantuntija joka osa-alueella. Paras vaihtoehto olisi luoda tiimi, jossa jokaisella jäsenellä on yleisosaaminen lähes koko putkesta, mutta erityisosaaminen osasta:\n",
        "  - Business-osaajalla (asiakasrajapinnassa) tulisi olla hyvä tietämys sekä liiketoiminnasta, että siitä mitä datalähteitä on käytettävissä ja mitkä ovat datan hyödyntämisen mahdollisuudet.\n",
        "  - Tekninen Datainsinööri osaa integroida olemassaolevat tietolähteet käyttöön, varmistaa datan uiminen oikeisiin paikkoihin, esiprosessoida dataa ja tuoda se saataville.\n",
        "  - Data-analyytikko osaa auttaa liiketoimintaosaajaa datan analysoinnissa, korrelaatioiden löytämisessä, tilastollisissa menetelmissä ja kone-oppimisen hyödyntämisessä datan prosessoinnissa ja analyysissä.\n",
        "  - Datan visualisoija osaa hyödyntää olemassa olevia ympäristöjä ja luoda datasta näkymiä/työkaluja.\n"
      ],
      "metadata": {
        "id": "F5BW-QRWY0m7"
      }
    },
    {
      "cell_type": "markdown",
      "source": [
        "#### Viikon 1 koodaus - kehitys ja julkaisuympäristön pystyttäminen\n",
        "##### **Julkaisuympäristö**\n",
        "En ole ennen käyttänyt githubia, joten ensimmäinen tavoite oli saada se luotua.\n",
        "Jupyterista minulla oli vain vähän aikaisempaa käyttökokemusta. En halunnut ensin asentaa Jupyteria koneelle vaan tutkiskelin mahdollisuuksia online versioihin. Löysin Googlen CoLabin, johon sain työkirjan tehtyä ja linkattua sen uusille Githubin sivuilleni. Onko tämä toimiva ratkaisu, selviää varmasti myöhemmin.\n",
        "\n",
        "##### **Kehitysympäristö**\n",
        "Harjoitustyötä varten pystytin omalle koneelle Anacondan."
      ],
      "metadata": {
        "id": "545ynED5MdXE"
      }
    },
    {
      "cell_type": "markdown",
      "source": [
        "##### **Viikko 1 opit**\n",
        "\n",
        "- opin ymmärtämään datatieteen moniuloitteisuuden\n",
        "- opin pystyttämään julkaisuympäristön githubin ja colabin avulla\n",
        "- opin pystyttämään oman paikallisen anaconda kehitysympäristön"
      ],
      "metadata": {
        "id": "YZMCboOuKCW2"
      }
    },
    {
      "cell_type": "markdown",
      "source": [
        "---\n",
        "#### **Viikko 2 - Datan kerääminen ja jalostaminen**\n",
        "#### Viikon 2 tapahtumat\n",
        "Katselin keskiviikkoisen luennon sekä perjantain koodi-klinikan jälkilähetyksenä.\n",
        "#### Viikon 2 tavoitteet\n",
        "- Datalähteiden löytäminen ja tunnistaminen\n",
        "- Datan kerääminen käytännössä\n",
        "- Ohjelmointirapapinnat ja ruudunraavinta datan keräämisen työkaluina\n",
        "\n",
        "#### Viikon 2 yhteenveto\n",
        "Viisi keskeiseintä asiaa luennolta:\n",
        "1. Analytiikan nelikenttä kuvaa mielestäni hyvin organisaation datan hyödyntämisen maturiteettia: \n",
        "- Aluksi kuvailevan analytiikan avulla muutetaan operatiivinen toiminta nolliksija ykkösiksi jotta pystytään tutkimaan mitä tapahtui.\n",
        "- Diagnosoiva analytiikka auttaa selvittämään datan avulla miksi jotain tapahtui. Tässä haetaan korrelaatioita eri asioiden välille.\n",
        "- Ohjaava analytiikka antaa mahdollisuuden datan avulla parantaa toimintaa ja operatiivisia prosesseja.\n",
        "- Ennakoiva analytiikka taasen pystyy arvioimaan mitä tulevaisuudessa tapahtuu.\n",
        "2. Luennolla pohdittiin mistä kulmasta kannattaa datan hyödyntäminen aloittaa. Alkaako se siitä, että johdolla/operatiivisella puolella on kysymyksiä joihin halutaan vastauksia vai siitä että kerätään dataa ja jälkikäteen opitaan mitä siitä voitaisiin nähdä.\n",
        "On tärkeää löytää eri roolien tasapaino kun aletaan hyödyntämään dataa. Toisaalta on tärkeää, että kehityspuoli tekee valmistelevia toimia esim. datan keräämiseksi ja luo ympäristön joka mahdollistaa datan käsittelyn, visualisoinnin ja tulosten jakamisen. Toisaalta taas tämä pitää olla operatiivisen puolen ohjauksessa jotta kehittäjät ymmärtävät alusta alkaen mitä datalla aiotaan tehdä.\n",
        "Tällä hetkellä olen itse sitä mieltä että tarvitaan ihmisiä jotka toimivat tässä välimaastossa, eli ymmärtävät riittävästi datan mahdollisuudet ja käytännön toteutuksia yleisellä tasolla mutta pääosaaminen on operatiivisella puolella. Tämän jälkeen tiimiä voi vahvistaa kehittäjillä jotka osaavat toteuttaa halutut toiminnot.\n",
        "Käytäntö on osoittanut, että alkuperäinen datan hyödyntäminen laajenee huomattavasti kun dataa on saatu käyttöön. Uusia kysymyksiä ja mittareita joita voidaan datan hyödyntämisellä ratkaista nousee valtavalla tahdilla sitä mukaa kun organisaation ymmärrys kasvaa.\n",
        "3. Datan profilointi käsite - tutki/lue/ymmärrä\n",
        "4. Pohdittiin Suomalaisten yritysten maturiteettia datan ja analytiikan osalta. Ilmailussa ja etenkin lennonvarmistuksessa eletään nyt eräänlaista ajattelun muutosharppausta (\"paradigm shift\"). Viimeisten parin vuoden aikana on ollut häkellyttävää seurata miten ala on noussut poteroistaan ja tekee vahvaa siirtymää kohti nykyaikaa ja on kykenevä omaksumaan muilta aloilta tuttuja tekniikoita ja arkkitehtuureja.\n",
        "5. Esiteltiin ryömijät ja raapijat. Pohdittiin niiden käyttöä myös eettisyyden ja laillisuuden näkökulmasta.\n",
        "Itse olen ollut siinä uskossa, että niiden käyttö verkkosivuilta tiedon naaraamiseen ei ole enää juurikaan mahdollista koska sivut tehdään dynaamisesti latausvaiheessa. Tätä täytyy tutkia muutamalla esimerkillä.\n",
        "5. Esiteltiin datatyyppien tärkeyttä datan käsittelyssä. Tästä minulla onkin jo jonkin verran kokemusta ja voin vain liputtaa tämän puolesta.\n",
        "\n",
        "\n"
      ],
      "metadata": {
        "id": "5CL3Ua01P9RF"
      }
    },
    {
      "cell_type": "markdown",
      "source": [
        "##### Viikko 2 koodaus\n",
        "\n",
        "Tein kaksi koodausta:\n",
        "1. Tutkin helsingin alueen moottoripyöräonnettomuuksia ja\n",
        "2. Tein raapijan, joka hakee työtuntikirjanpidosta tuntini\n",
        "\n",
        "##### Viiko 2 - Koodaus 1\n",
        "Tämän koodauksen tarkoitus on hakea joku datasetti ja käytännössä pandan metodeilla tarkkailla sitä. Halusin lisäksi oppia miten saan datan kartalle."
      ],
      "metadata": {
        "id": "vlPwnA2O54bj"
      }
    },
    {
      "cell_type": "markdown",
      "source": [
        "Haeskelin avoindata.fi sivusta moottoripyöräaiheisia datasettejä ja vastaan tuli lista Helsingin kaupungin alueella tapahtuneista liikenneonnettomuuksista. "
      ],
      "metadata": {
        "id": "gvWXZrlrzr6L"
      }
    },
    {
      "cell_type": "markdown",
      "source": [
        "Haetaan tiedosto ja aletaan tutkia mitä pitää sisällään:"
      ],
      "metadata": {
        "id": "BUjVLPGC09Fo"
      }
    },
    {
      "cell_type": "code",
      "source": [
        "import pandas as pd\n",
        "\n",
        "DATAFILE = \"https://www.hel.fi/hel2/tietokeskus/data/helsinki/ksv/liikenneonnettomuudet_Helsingissa.csv\"\n",
        "df = pd.read_csv(DATAFILE, sep=';')"
      ],
      "metadata": {
        "id": "2h58dl0twzrA"
      },
      "execution_count": null,
      "outputs": []
    },
    {
      "cell_type": "code",
      "source": [
        "df.info()"
      ],
      "metadata": {
        "colab": {
          "base_uri": "https://localhost:8080/"
        },
        "id": "doUF7xMg0wne",
        "outputId": "72233ee4-9a64-4b49-c892-1b0d613e2798"
      },
      "execution_count": null,
      "outputs": [
        {
          "output_type": "stream",
          "name": "stdout",
          "text": [
            "<class 'pandas.core.frame.DataFrame'>\n",
            "RangeIndex: 50724 entries, 0 to 50723\n",
            "Data columns (total 5 columns):\n",
            " #   Column     Non-Null Count  Dtype  \n",
            "---  ------     --------------  -----  \n",
            " 0   LAJI       50724 non-null  object \n",
            " 1   pohj_etrs  50724 non-null  float64\n",
            " 2   ita_etrs   50724 non-null  float64\n",
            " 3   VAKAV_A    50724 non-null  int64  \n",
            " 4   VV         50724 non-null  int64  \n",
            "dtypes: float64(2), int64(2), object(1)\n",
            "memory usage: 1.9+ MB\n"
          ]
        }
      ]
    },
    {
      "cell_type": "code",
      "source": [
        "df.head()"
      ],
      "metadata": {
        "colab": {
          "base_uri": "https://localhost:8080/",
          "height": 206
        },
        "id": "ZhNtsnVr07O1",
        "outputId": "5b782ba1-c4e3-47f1-d2b2-d6fb2896167e"
      },
      "execution_count": null,
      "outputs": [
        {
          "output_type": "execute_result",
          "data": {
            "text/plain": [
              "  LAJI    pohj_etrs      ita_etrs  VAKAV_A    VV\n",
              "0   MA  6679525.638  2.550357e+07        1  2010\n",
              "1   MA  6681957.849  2.550356e+07        2  2010\n",
              "2   MA  6684750.304  2.550004e+07        1  2010\n",
              "3   MA  6674428.942  2.549505e+07        1  2010\n",
              "4   MA  6674447.788  2.550076e+07        1  2010"
            ],
            "text/html": [
              "\n",
              "  <div id=\"df-e9971f40-8e0a-417e-967e-75293d2f9c9a\">\n",
              "    <div class=\"colab-df-container\">\n",
              "      <div>\n",
              "<style scoped>\n",
              "    .dataframe tbody tr th:only-of-type {\n",
              "        vertical-align: middle;\n",
              "    }\n",
              "\n",
              "    .dataframe tbody tr th {\n",
              "        vertical-align: top;\n",
              "    }\n",
              "\n",
              "    .dataframe thead th {\n",
              "        text-align: right;\n",
              "    }\n",
              "</style>\n",
              "<table border=\"1\" class=\"dataframe\">\n",
              "  <thead>\n",
              "    <tr style=\"text-align: right;\">\n",
              "      <th></th>\n",
              "      <th>LAJI</th>\n",
              "      <th>pohj_etrs</th>\n",
              "      <th>ita_etrs</th>\n",
              "      <th>VAKAV_A</th>\n",
              "      <th>VV</th>\n",
              "    </tr>\n",
              "  </thead>\n",
              "  <tbody>\n",
              "    <tr>\n",
              "      <th>0</th>\n",
              "      <td>MA</td>\n",
              "      <td>6679525.638</td>\n",
              "      <td>2.550357e+07</td>\n",
              "      <td>1</td>\n",
              "      <td>2010</td>\n",
              "    </tr>\n",
              "    <tr>\n",
              "      <th>1</th>\n",
              "      <td>MA</td>\n",
              "      <td>6681957.849</td>\n",
              "      <td>2.550356e+07</td>\n",
              "      <td>2</td>\n",
              "      <td>2010</td>\n",
              "    </tr>\n",
              "    <tr>\n",
              "      <th>2</th>\n",
              "      <td>MA</td>\n",
              "      <td>6684750.304</td>\n",
              "      <td>2.550004e+07</td>\n",
              "      <td>1</td>\n",
              "      <td>2010</td>\n",
              "    </tr>\n",
              "    <tr>\n",
              "      <th>3</th>\n",
              "      <td>MA</td>\n",
              "      <td>6674428.942</td>\n",
              "      <td>2.549505e+07</td>\n",
              "      <td>1</td>\n",
              "      <td>2010</td>\n",
              "    </tr>\n",
              "    <tr>\n",
              "      <th>4</th>\n",
              "      <td>MA</td>\n",
              "      <td>6674447.788</td>\n",
              "      <td>2.550076e+07</td>\n",
              "      <td>1</td>\n",
              "      <td>2010</td>\n",
              "    </tr>\n",
              "  </tbody>\n",
              "</table>\n",
              "</div>\n",
              "      <button class=\"colab-df-convert\" onclick=\"convertToInteractive('df-e9971f40-8e0a-417e-967e-75293d2f9c9a')\"\n",
              "              title=\"Convert this dataframe to an interactive table.\"\n",
              "              style=\"display:none;\">\n",
              "        \n",
              "  <svg xmlns=\"http://www.w3.org/2000/svg\" height=\"24px\"viewBox=\"0 0 24 24\"\n",
              "       width=\"24px\">\n",
              "    <path d=\"M0 0h24v24H0V0z\" fill=\"none\"/>\n",
              "    <path d=\"M18.56 5.44l.94 2.06.94-2.06 2.06-.94-2.06-.94-.94-2.06-.94 2.06-2.06.94zm-11 1L8.5 8.5l.94-2.06 2.06-.94-2.06-.94L8.5 2.5l-.94 2.06-2.06.94zm10 10l.94 2.06.94-2.06 2.06-.94-2.06-.94-.94-2.06-.94 2.06-2.06.94z\"/><path d=\"M17.41 7.96l-1.37-1.37c-.4-.4-.92-.59-1.43-.59-.52 0-1.04.2-1.43.59L10.3 9.45l-7.72 7.72c-.78.78-.78 2.05 0 2.83L4 21.41c.39.39.9.59 1.41.59.51 0 1.02-.2 1.41-.59l7.78-7.78 2.81-2.81c.8-.78.8-2.07 0-2.86zM5.41 20L4 18.59l7.72-7.72 1.47 1.35L5.41 20z\"/>\n",
              "  </svg>\n",
              "      </button>\n",
              "      \n",
              "  <style>\n",
              "    .colab-df-container {\n",
              "      display:flex;\n",
              "      flex-wrap:wrap;\n",
              "      gap: 12px;\n",
              "    }\n",
              "\n",
              "    .colab-df-convert {\n",
              "      background-color: #E8F0FE;\n",
              "      border: none;\n",
              "      border-radius: 50%;\n",
              "      cursor: pointer;\n",
              "      display: none;\n",
              "      fill: #1967D2;\n",
              "      height: 32px;\n",
              "      padding: 0 0 0 0;\n",
              "      width: 32px;\n",
              "    }\n",
              "\n",
              "    .colab-df-convert:hover {\n",
              "      background-color: #E2EBFA;\n",
              "      box-shadow: 0px 1px 2px rgba(60, 64, 67, 0.3), 0px 1px 3px 1px rgba(60, 64, 67, 0.15);\n",
              "      fill: #174EA6;\n",
              "    }\n",
              "\n",
              "    [theme=dark] .colab-df-convert {\n",
              "      background-color: #3B4455;\n",
              "      fill: #D2E3FC;\n",
              "    }\n",
              "\n",
              "    [theme=dark] .colab-df-convert:hover {\n",
              "      background-color: #434B5C;\n",
              "      box-shadow: 0px 1px 3px 1px rgba(0, 0, 0, 0.15);\n",
              "      filter: drop-shadow(0px 1px 2px rgba(0, 0, 0, 0.3));\n",
              "      fill: #FFFFFF;\n",
              "    }\n",
              "  </style>\n",
              "\n",
              "      <script>\n",
              "        const buttonEl =\n",
              "          document.querySelector('#df-e9971f40-8e0a-417e-967e-75293d2f9c9a button.colab-df-convert');\n",
              "        buttonEl.style.display =\n",
              "          google.colab.kernel.accessAllowed ? 'block' : 'none';\n",
              "\n",
              "        async function convertToInteractive(key) {\n",
              "          const element = document.querySelector('#df-e9971f40-8e0a-417e-967e-75293d2f9c9a');\n",
              "          const dataTable =\n",
              "            await google.colab.kernel.invokeFunction('convertToInteractive',\n",
              "                                                     [key], {});\n",
              "          if (!dataTable) return;\n",
              "\n",
              "          const docLinkHtml = 'Like what you see? Visit the ' +\n",
              "            '<a target=\"_blank\" href=https://colab.research.google.com/notebooks/data_table.ipynb>data table notebook</a>'\n",
              "            + ' to learn more about interactive tables.';\n",
              "          element.innerHTML = '';\n",
              "          dataTable['output_type'] = 'display_data';\n",
              "          await google.colab.output.renderOutput(dataTable, element);\n",
              "          const docLink = document.createElement('div');\n",
              "          docLink.innerHTML = docLinkHtml;\n",
              "          element.appendChild(docLink);\n",
              "        }\n",
              "      </script>\n",
              "    </div>\n",
              "  </div>\n",
              "  "
            ]
          },
          "metadata": {},
          "execution_count": 4
        }
      ]
    },
    {
      "cell_type": "markdown",
      "source": [
        "Muuttujat\n",
        "\n",
        "Alla oleva tieto oli annettuna:\n",
        "\n",
        "vakav_a = vakavuusaste, (1 = omaisuusvahinko, 2 = loukkaantumiseen johtanut, 3 = kuolemaan johtanut)\n",
        "POHJ_ETRS = Pohjoiskoordinaatti ETRS-GK25-järjestelmässä\n",
        "ITA_ETRS = Itäkoordinaatti ETRS-GK25-järjestelmässä\n",
        "vv = vuosi\n",
        "laji = onnettomuuslaji heikoimman osallisen mukaan, (jk = jalankulkijaonnettomuus, pp = polkupyöräonnettomuus, mp = mopo/moottoripyöräonnettomuus, ma = moottoriajoneuvo-onnettomuus)"
      ],
      "metadata": {
        "id": "8AQzgR3b1lSh"
      }
    },
    {
      "cell_type": "markdown",
      "source": [
        "Monta onnettomuutta per onnettomuuslaji:"
      ],
      "metadata": {
        "id": "wHWYPW4t5pF1"
      }
    },
    {
      "cell_type": "code",
      "source": [
        "df['LAJI'].unique()"
      ],
      "metadata": {
        "colab": {
          "base_uri": "https://localhost:8080/"
        },
        "id": "-OA58eNe4276",
        "outputId": "0de88e3b-2a38-4ea4-aac9-3879a9b640c2"
      },
      "execution_count": null,
      "outputs": [
        {
          "output_type": "execute_result",
          "data": {
            "text/plain": [
              "array(['MA', 'JK', 'PP', 'MP'], dtype=object)"
            ]
          },
          "metadata": {},
          "execution_count": 5
        }
      ]
    },
    {
      "cell_type": "code",
      "source": [
        "df['LAJI'].value_counts()"
      ],
      "metadata": {
        "colab": {
          "base_uri": "https://localhost:8080/"
        },
        "id": "qbjuZ9tF5PEX",
        "outputId": "feef2c9e-dd05-4473-a8de-2acaffe4f1c4"
      },
      "execution_count": null,
      "outputs": [
        {
          "output_type": "execute_result",
          "data": {
            "text/plain": [
              "MA    42435\n",
              "PP     3291\n",
              "JK     2970\n",
              "MP     2028\n",
              "Name: LAJI, dtype: int64"
            ]
          },
          "metadata": {},
          "execution_count": 6
        }
      ]
    },
    {
      "cell_type": "markdown",
      "source": [
        "Tehdään kuvaaja josta näkee eri vuosina moottoripyörä onnettomuuksien kehittymisen:"
      ],
      "metadata": {
        "id": "I6BcJnGp6HQ6"
      }
    },
    {
      "cell_type": "code",
      "source": [
        "import matplotlib.pyplot as plt\n",
        "from matplotlib.pyplot import figure\n"
      ],
      "metadata": {
        "id": "eVPKaPg26NzA"
      },
      "execution_count": null,
      "outputs": []
    },
    {
      "cell_type": "markdown",
      "source": [
        "Otetaan datasta vain moottoripyöräonnettomuudet:"
      ],
      "metadata": {
        "id": "ZQmdEVDG1wOm"
      }
    },
    {
      "cell_type": "code",
      "source": [
        "df_mp = df[df['LAJI'] == 'MP']\n",
        "df_mp.head()"
      ],
      "metadata": {
        "colab": {
          "base_uri": "https://localhost:8080/",
          "height": 206
        },
        "id": "tKkjmOBS1rRR",
        "outputId": "b9172221-4619-4c88-80b0-aee1636b9734"
      },
      "execution_count": null,
      "outputs": [
        {
          "output_type": "execute_result",
          "data": {
            "text/plain": [
              "    LAJI    pohj_etrs      ita_etrs  VAKAV_A    VV\n",
              "535   MP  6680351.668  2.549378e+07        1  2010\n",
              "624   MP  6671513.485  2.549636e+07        2  2010\n",
              "626   MP  6674590.598  2.550260e+07        2  2010\n",
              "651   MP  6673763.117  2.549573e+07        1  2010\n",
              "679   MP  6685107.509  2.550159e+07        2  2010"
            ],
            "text/html": [
              "\n",
              "  <div id=\"df-b14090e8-7d5e-4585-ace0-f120f0e2d66d\">\n",
              "    <div class=\"colab-df-container\">\n",
              "      <div>\n",
              "<style scoped>\n",
              "    .dataframe tbody tr th:only-of-type {\n",
              "        vertical-align: middle;\n",
              "    }\n",
              "\n",
              "    .dataframe tbody tr th {\n",
              "        vertical-align: top;\n",
              "    }\n",
              "\n",
              "    .dataframe thead th {\n",
              "        text-align: right;\n",
              "    }\n",
              "</style>\n",
              "<table border=\"1\" class=\"dataframe\">\n",
              "  <thead>\n",
              "    <tr style=\"text-align: right;\">\n",
              "      <th></th>\n",
              "      <th>LAJI</th>\n",
              "      <th>pohj_etrs</th>\n",
              "      <th>ita_etrs</th>\n",
              "      <th>VAKAV_A</th>\n",
              "      <th>VV</th>\n",
              "    </tr>\n",
              "  </thead>\n",
              "  <tbody>\n",
              "    <tr>\n",
              "      <th>535</th>\n",
              "      <td>MP</td>\n",
              "      <td>6680351.668</td>\n",
              "      <td>2.549378e+07</td>\n",
              "      <td>1</td>\n",
              "      <td>2010</td>\n",
              "    </tr>\n",
              "    <tr>\n",
              "      <th>624</th>\n",
              "      <td>MP</td>\n",
              "      <td>6671513.485</td>\n",
              "      <td>2.549636e+07</td>\n",
              "      <td>2</td>\n",
              "      <td>2010</td>\n",
              "    </tr>\n",
              "    <tr>\n",
              "      <th>626</th>\n",
              "      <td>MP</td>\n",
              "      <td>6674590.598</td>\n",
              "      <td>2.550260e+07</td>\n",
              "      <td>2</td>\n",
              "      <td>2010</td>\n",
              "    </tr>\n",
              "    <tr>\n",
              "      <th>651</th>\n",
              "      <td>MP</td>\n",
              "      <td>6673763.117</td>\n",
              "      <td>2.549573e+07</td>\n",
              "      <td>1</td>\n",
              "      <td>2010</td>\n",
              "    </tr>\n",
              "    <tr>\n",
              "      <th>679</th>\n",
              "      <td>MP</td>\n",
              "      <td>6685107.509</td>\n",
              "      <td>2.550159e+07</td>\n",
              "      <td>2</td>\n",
              "      <td>2010</td>\n",
              "    </tr>\n",
              "  </tbody>\n",
              "</table>\n",
              "</div>\n",
              "      <button class=\"colab-df-convert\" onclick=\"convertToInteractive('df-b14090e8-7d5e-4585-ace0-f120f0e2d66d')\"\n",
              "              title=\"Convert this dataframe to an interactive table.\"\n",
              "              style=\"display:none;\">\n",
              "        \n",
              "  <svg xmlns=\"http://www.w3.org/2000/svg\" height=\"24px\"viewBox=\"0 0 24 24\"\n",
              "       width=\"24px\">\n",
              "    <path d=\"M0 0h24v24H0V0z\" fill=\"none\"/>\n",
              "    <path d=\"M18.56 5.44l.94 2.06.94-2.06 2.06-.94-2.06-.94-.94-2.06-.94 2.06-2.06.94zm-11 1L8.5 8.5l.94-2.06 2.06-.94-2.06-.94L8.5 2.5l-.94 2.06-2.06.94zm10 10l.94 2.06.94-2.06 2.06-.94-2.06-.94-.94-2.06-.94 2.06-2.06.94z\"/><path d=\"M17.41 7.96l-1.37-1.37c-.4-.4-.92-.59-1.43-.59-.52 0-1.04.2-1.43.59L10.3 9.45l-7.72 7.72c-.78.78-.78 2.05 0 2.83L4 21.41c.39.39.9.59 1.41.59.51 0 1.02-.2 1.41-.59l7.78-7.78 2.81-2.81c.8-.78.8-2.07 0-2.86zM5.41 20L4 18.59l7.72-7.72 1.47 1.35L5.41 20z\"/>\n",
              "  </svg>\n",
              "      </button>\n",
              "      \n",
              "  <style>\n",
              "    .colab-df-container {\n",
              "      display:flex;\n",
              "      flex-wrap:wrap;\n",
              "      gap: 12px;\n",
              "    }\n",
              "\n",
              "    .colab-df-convert {\n",
              "      background-color: #E8F0FE;\n",
              "      border: none;\n",
              "      border-radius: 50%;\n",
              "      cursor: pointer;\n",
              "      display: none;\n",
              "      fill: #1967D2;\n",
              "      height: 32px;\n",
              "      padding: 0 0 0 0;\n",
              "      width: 32px;\n",
              "    }\n",
              "\n",
              "    .colab-df-convert:hover {\n",
              "      background-color: #E2EBFA;\n",
              "      box-shadow: 0px 1px 2px rgba(60, 64, 67, 0.3), 0px 1px 3px 1px rgba(60, 64, 67, 0.15);\n",
              "      fill: #174EA6;\n",
              "    }\n",
              "\n",
              "    [theme=dark] .colab-df-convert {\n",
              "      background-color: #3B4455;\n",
              "      fill: #D2E3FC;\n",
              "    }\n",
              "\n",
              "    [theme=dark] .colab-df-convert:hover {\n",
              "      background-color: #434B5C;\n",
              "      box-shadow: 0px 1px 3px 1px rgba(0, 0, 0, 0.15);\n",
              "      filter: drop-shadow(0px 1px 2px rgba(0, 0, 0, 0.3));\n",
              "      fill: #FFFFFF;\n",
              "    }\n",
              "  </style>\n",
              "\n",
              "      <script>\n",
              "        const buttonEl =\n",
              "          document.querySelector('#df-b14090e8-7d5e-4585-ace0-f120f0e2d66d button.colab-df-convert');\n",
              "        buttonEl.style.display =\n",
              "          google.colab.kernel.accessAllowed ? 'block' : 'none';\n",
              "\n",
              "        async function convertToInteractive(key) {\n",
              "          const element = document.querySelector('#df-b14090e8-7d5e-4585-ace0-f120f0e2d66d');\n",
              "          const dataTable =\n",
              "            await google.colab.kernel.invokeFunction('convertToInteractive',\n",
              "                                                     [key], {});\n",
              "          if (!dataTable) return;\n",
              "\n",
              "          const docLinkHtml = 'Like what you see? Visit the ' +\n",
              "            '<a target=\"_blank\" href=https://colab.research.google.com/notebooks/data_table.ipynb>data table notebook</a>'\n",
              "            + ' to learn more about interactive tables.';\n",
              "          element.innerHTML = '';\n",
              "          dataTable['output_type'] = 'display_data';\n",
              "          await google.colab.output.renderOutput(dataTable, element);\n",
              "          const docLink = document.createElement('div');\n",
              "          docLink.innerHTML = docLinkHtml;\n",
              "          element.appendChild(docLink);\n",
              "        }\n",
              "      </script>\n",
              "    </div>\n",
              "  </div>\n",
              "  "
            ]
          },
          "metadata": {},
          "execution_count": 8
        }
      ]
    },
    {
      "cell_type": "code",
      "source": [
        "df_mp['VV'].value_counts().sort_index().plot.bar()\n",
        "#plt.show()"
      ],
      "metadata": {
        "colab": {
          "base_uri": "https://localhost:8080/",
          "height": 298
        },
        "id": "7BaVpnXQ1l_A",
        "outputId": "2a894d67-da1e-439c-a771-1b4388008930"
      },
      "execution_count": null,
      "outputs": [
        {
          "output_type": "execute_result",
          "data": {
            "text/plain": [
              "<matplotlib.axes._subplots.AxesSubplot at 0x7fe9f7bcced0>"
            ]
          },
          "metadata": {},
          "execution_count": 9
        },
        {
          "output_type": "display_data",
          "data": {
            "text/plain": [
              "<Figure size 432x288 with 1 Axes>"
            ],
            "image/png": "[encoded data removed]"
          },
          "metadata": {
            "needs_background": "light"
          }
        }
      ]
    },
    {
      "cell_type": "markdown",
      "source": [
        "Koitetaan saada MP-onnettomuuksia kartalle."
      ],
      "metadata": {
        "id": "90aJDhVzc36R"
      }
    },
    {
      "cell_type": "code",
      "source": [
        "figure(figsize=(10, 10))\n",
        "plt.scatter(df['pohj_etrs'], df['ita_etrs'], c =\"blue\", s=0.3)"
      ],
      "metadata": {
        "colab": {
          "base_uri": "https://localhost:8080/",
          "height": 633
        },
        "id": "KpVkfOfFBD78",
        "outputId": "ef20bcda-1f0e-492e-fb02-c3598e914543"
      },
      "execution_count": null,
      "outputs": [
        {
          "output_type": "execute_result",
          "data": {
            "text/plain": [
              "<matplotlib.collections.PathCollection at 0x7fe9f7595790>"
            ]
          },
          "metadata": {},
          "execution_count": 10
        },
        {
          "output_type": "display_data",
          "data": {
            "text/plain": [
              "<Figure size 720x720 with 1 Axes>"
            ],
            "image/png": "[encoded data removed]"
          },
          "metadata": {
            "needs_background": "light"
          }
        }
      ]
    },
    {
      "cell_type": "markdown",
      "source": [
        "Hyvä. Koitetaan saada parempaa karttaa pohjalle:"
      ],
      "metadata": {
        "id": "gGMCE43bfvDY"
      }
    },
    {
      "cell_type": "code",
      "source": [
        "mp_onnettomuus_loc = df_mp[['pohj_etrs', 'ita_etrs']]\n",
        "mp_onnettomuus_loc = mp_onnettomuus_loc.rename(columns={\"pohj_etrs\":\"lat\", \"ita_etrs\":\"lon\"})\n",
        "mp_onnettomuus_loc.head()\n",
        "\n"
      ],
      "metadata": {
        "colab": {
          "base_uri": "https://localhost:8080/",
          "height": 206
        },
        "id": "D9we9c8_eb17",
        "outputId": "92416244-d59b-495c-e545-34644f57c2a2"
      },
      "execution_count": null,
      "outputs": [
        {
          "output_type": "execute_result",
          "data": {
            "text/plain": [
              "             lat           lon\n",
              "535  6680351.668  2.549378e+07\n",
              "624  6671513.485  2.549636e+07\n",
              "626  6674590.598  2.550260e+07\n",
              "651  6673763.117  2.549573e+07\n",
              "679  6685107.509  2.550159e+07"
            ],
            "text/html": [
              "\n",
              "  <div id=\"df-e8876f5e-cb63-4091-8806-df799e23df89\">\n",
              "    <div class=\"colab-df-container\">\n",
              "      <div>\n",
              "<style scoped>\n",
              "    .dataframe tbody tr th:only-of-type {\n",
              "        vertical-align: middle;\n",
              "    }\n",
              "\n",
              "    .dataframe tbody tr th {\n",
              "        vertical-align: top;\n",
              "    }\n",
              "\n",
              "    .dataframe thead th {\n",
              "        text-align: right;\n",
              "    }\n",
              "</style>\n",
              "<table border=\"1\" class=\"dataframe\">\n",
              "  <thead>\n",
              "    <tr style=\"text-align: right;\">\n",
              "      <th></th>\n",
              "      <th>lat</th>\n",
              "      <th>lon</th>\n",
              "    </tr>\n",
              "  </thead>\n",
              "  <tbody>\n",
              "    <tr>\n",
              "      <th>535</th>\n",
              "      <td>6680351.668</td>\n",
              "      <td>2.549378e+07</td>\n",
              "    </tr>\n",
              "    <tr>\n",
              "      <th>624</th>\n",
              "      <td>6671513.485</td>\n",
              "      <td>2.549636e+07</td>\n",
              "    </tr>\n",
              "    <tr>\n",
              "      <th>626</th>\n",
              "      <td>6674590.598</td>\n",
              "      <td>2.550260e+07</td>\n",
              "    </tr>\n",
              "    <tr>\n",
              "      <th>651</th>\n",
              "      <td>6673763.117</td>\n",
              "      <td>2.549573e+07</td>\n",
              "    </tr>\n",
              "    <tr>\n",
              "      <th>679</th>\n",
              "      <td>6685107.509</td>\n",
              "      <td>2.550159e+07</td>\n",
              "    </tr>\n",
              "  </tbody>\n",
              "</table>\n",
              "</div>\n",
              "      <button class=\"colab-df-convert\" onclick=\"convertToInteractive('df-e8876f5e-cb63-4091-8806-df799e23df89')\"\n",
              "              title=\"Convert this dataframe to an interactive table.\"\n",
              "              style=\"display:none;\">\n",
              "        \n",
              "  <svg xmlns=\"http://www.w3.org/2000/svg\" height=\"24px\"viewBox=\"0 0 24 24\"\n",
              "       width=\"24px\">\n",
              "    <path d=\"M0 0h24v24H0V0z\" fill=\"none\"/>\n",
              "    <path d=\"M18.56 5.44l.94 2.06.94-2.06 2.06-.94-2.06-.94-.94-2.06-.94 2.06-2.06.94zm-11 1L8.5 8.5l.94-2.06 2.06-.94-2.06-.94L8.5 2.5l-.94 2.06-2.06.94zm10 10l.94 2.06.94-2.06 2.06-.94-2.06-.94-.94-2.06-.94 2.06-2.06.94z\"/><path d=\"M17.41 7.96l-1.37-1.37c-.4-.4-.92-.59-1.43-.59-.52 0-1.04.2-1.43.59L10.3 9.45l-7.72 7.72c-.78.78-.78 2.05 0 2.83L4 21.41c.39.39.9.59 1.41.59.51 0 1.02-.2 1.41-.59l7.78-7.78 2.81-2.81c.8-.78.8-2.07 0-2.86zM5.41 20L4 18.59l7.72-7.72 1.47 1.35L5.41 20z\"/>\n",
              "  </svg>\n",
              "      </button>\n",
              "      \n",
              "  <style>\n",
              "    .colab-df-container {\n",
              "      display:flex;\n",
              "      flex-wrap:wrap;\n",
              "      gap: 12px;\n",
              "    }\n",
              "\n",
              "    .colab-df-convert {\n",
              "      background-color: #E8F0FE;\n",
              "      border: none;\n",
              "      border-radius: 50%;\n",
              "      cursor: pointer;\n",
              "      display: none;\n",
              "      fill: #1967D2;\n",
              "      height: 32px;\n",
              "      padding: 0 0 0 0;\n",
              "      width: 32px;\n",
              "    }\n",
              "\n",
              "    .colab-df-convert:hover {\n",
              "      background-color: #E2EBFA;\n",
              "      box-shadow: 0px 1px 2px rgba(60, 64, 67, 0.3), 0px 1px 3px 1px rgba(60, 64, 67, 0.15);\n",
              "      fill: #174EA6;\n",
              "    }\n",
              "\n",
              "    [theme=dark] .colab-df-convert {\n",
              "      background-color: #3B4455;\n",
              "      fill: #D2E3FC;\n",
              "    }\n",
              "\n",
              "    [theme=dark] .colab-df-convert:hover {\n",
              "      background-color: #434B5C;\n",
              "      box-shadow: 0px 1px 3px 1px rgba(0, 0, 0, 0.15);\n",
              "      filter: drop-shadow(0px 1px 2px rgba(0, 0, 0, 0.3));\n",
              "      fill: #FFFFFF;\n",
              "    }\n",
              "  </style>\n",
              "\n",
              "      <script>\n",
              "        const buttonEl =\n",
              "          document.querySelector('#df-e8876f5e-cb63-4091-8806-df799e23df89 button.colab-df-convert');\n",
              "        buttonEl.style.display =\n",
              "          google.colab.kernel.accessAllowed ? 'block' : 'none';\n",
              "\n",
              "        async function convertToInteractive(key) {\n",
              "          const element = document.querySelector('#df-e8876f5e-cb63-4091-8806-df799e23df89');\n",
              "          const dataTable =\n",
              "            await google.colab.kernel.invokeFunction('convertToInteractive',\n",
              "                                                     [key], {});\n",
              "          if (!dataTable) return;\n",
              "\n",
              "          const docLinkHtml = 'Like what you see? Visit the ' +\n",
              "            '<a target=\"_blank\" href=https://colab.research.google.com/notebooks/data_table.ipynb>data table notebook</a>'\n",
              "            + ' to learn more about interactive tables.';\n",
              "          element.innerHTML = '';\n",
              "          dataTable['output_type'] = 'display_data';\n",
              "          await google.colab.output.renderOutput(dataTable, element);\n",
              "          const docLink = document.createElement('div');\n",
              "          docLink.innerHTML = docLinkHtml;\n",
              "          element.appendChild(docLink);\n",
              "        }\n",
              "      </script>\n",
              "    </div>\n",
              "  </div>\n",
              "  "
            ]
          },
          "metadata": {},
          "execution_count": 11
        }
      ]
    },
    {
      "cell_type": "markdown",
      "source": [
        "Muutetaan koordinaatit WGS84:ksi:"
      ],
      "metadata": {
        "id": "7LahlrC-7D6n"
      }
    },
    {
      "cell_type": "code",
      "source": [
        "!pip install pyproj"
      ],
      "metadata": {
        "id": "NVVa_Q5WpfR6",
        "outputId": "f01a13c0-c9ce-4dd3-a2ab-08e4f80315f5",
        "colab": {
          "base_uri": "https://localhost:8080/"
        }
      },
      "execution_count": null,
      "outputs": [
        {
          "output_type": "stream",
          "name": "stdout",
          "text": [
            "Collecting pyproj\n",
            "  Downloading pyproj-3.2.1-cp37-cp37m-manylinux2010_x86_64.whl (6.3 MB)\n",
            "\u001b[K     |████████████████████████████████| 6.3 MB 5.1 MB/s \n",
            "\u001b[?25hRequirement already satisfied: certifi in /usr/local/lib/python3.7/dist-packages (from pyproj) (2021.10.8)\n",
            "Installing collected packages: pyproj\n",
            "Successfully installed pyproj-3.2.1\n"
          ]
        }
      ]
    },
    {
      "cell_type": "code",
      "source": [
        "import pyproj\n",
        "\n",
        "transformer = pyproj.Transformer.from_crs(\"epsg:3879\", \"epsg:4326\")\n",
        "\n",
        "lat = mp_onnettomuus_loc['lat'].values\n",
        "lon = mp_onnettomuus_loc['lon'].values\n",
        "\n",
        "mp_onnettomuus_loc['lat'], mp_onnettomuus_loc['lon'] = transformer.transform(lat, lon) \n",
        "\n",
        "mp_onnettomuus_loc.head()"
      ],
      "metadata": {
        "colab": {
          "base_uri": "https://localhost:8080/",
          "height": 206
        },
        "id": "Ng52vuLx4YbU",
        "outputId": "45feb01a-e27d-44e2-8e41-258285b794ce"
      },
      "execution_count": null,
      "outputs": [
        {
          "output_type": "execute_result",
          "data": {
            "text/plain": [
              "           lat        lon\n",
              "535  60.235819  24.887813\n",
              "624  60.156524  24.934439\n",
              "626  60.184150  25.046860\n",
              "651  60.176709  24.923128\n",
              "679  60.278548  25.028736"
            ],
            "text/html": [
              "\n",
              "  <div id=\"df-028661b7-21ce-4bc8-b927-815d857a2379\">\n",
              "    <div class=\"colab-df-container\">\n",
              "      <div>\n",
              "<style scoped>\n",
              "    .dataframe tbody tr th:only-of-type {\n",
              "        vertical-align: middle;\n",
              "    }\n",
              "\n",
              "    .dataframe tbody tr th {\n",
              "        vertical-align: top;\n",
              "    }\n",
              "\n",
              "    .dataframe thead th {\n",
              "        text-align: right;\n",
              "    }\n",
              "</style>\n",
              "<table border=\"1\" class=\"dataframe\">\n",
              "  <thead>\n",
              "    <tr style=\"text-align: right;\">\n",
              "      <th></th>\n",
              "      <th>lat</th>\n",
              "      <th>lon</th>\n",
              "    </tr>\n",
              "  </thead>\n",
              "  <tbody>\n",
              "    <tr>\n",
              "      <th>535</th>\n",
              "      <td>60.235819</td>\n",
              "      <td>24.887813</td>\n",
              "    </tr>\n",
              "    <tr>\n",
              "      <th>624</th>\n",
              "      <td>60.156524</td>\n",
              "      <td>24.934439</td>\n",
              "    </tr>\n",
              "    <tr>\n",
              "      <th>626</th>\n",
              "      <td>60.184150</td>\n",
              "      <td>25.046860</td>\n",
              "    </tr>\n",
              "    <tr>\n",
              "      <th>651</th>\n",
              "      <td>60.176709</td>\n",
              "      <td>24.923128</td>\n",
              "    </tr>\n",
              "    <tr>\n",
              "      <th>679</th>\n",
              "      <td>60.278548</td>\n",
              "      <td>25.028736</td>\n",
              "    </tr>\n",
              "  </tbody>\n",
              "</table>\n",
              "</div>\n",
              "      <button class=\"colab-df-convert\" onclick=\"convertToInteractive('df-028661b7-21ce-4bc8-b927-815d857a2379')\"\n",
              "              title=\"Convert this dataframe to an interactive table.\"\n",
              "              style=\"display:none;\">\n",
              "        \n",
              "  <svg xmlns=\"http://www.w3.org/2000/svg\" height=\"24px\"viewBox=\"0 0 24 24\"\n",
              "       width=\"24px\">\n",
              "    <path d=\"M0 0h24v24H0V0z\" fill=\"none\"/>\n",
              "    <path d=\"M18.56 5.44l.94 2.06.94-2.06 2.06-.94-2.06-.94-.94-2.06-.94 2.06-2.06.94zm-11 1L8.5 8.5l.94-2.06 2.06-.94-2.06-.94L8.5 2.5l-.94 2.06-2.06.94zm10 10l.94 2.06.94-2.06 2.06-.94-2.06-.94-.94-2.06-.94 2.06-2.06.94z\"/><path d=\"M17.41 7.96l-1.37-1.37c-.4-.4-.92-.59-1.43-.59-.52 0-1.04.2-1.43.59L10.3 9.45l-7.72 7.72c-.78.78-.78 2.05 0 2.83L4 21.41c.39.39.9.59 1.41.59.51 0 1.02-.2 1.41-.59l7.78-7.78 2.81-2.81c.8-.78.8-2.07 0-2.86zM5.41 20L4 18.59l7.72-7.72 1.47 1.35L5.41 20z\"/>\n",
              "  </svg>\n",
              "      </button>\n",
              "      \n",
              "  <style>\n",
              "    .colab-df-container {\n",
              "      display:flex;\n",
              "      flex-wrap:wrap;\n",
              "      gap: 12px;\n",
              "    }\n",
              "\n",
              "    .colab-df-convert {\n",
              "      background-color: #E8F0FE;\n",
              "      border: none;\n",
              "      border-radius: 50%;\n",
              "      cursor: pointer;\n",
              "      display: none;\n",
              "      fill: #1967D2;\n",
              "      height: 32px;\n",
              "      padding: 0 0 0 0;\n",
              "      width: 32px;\n",
              "    }\n",
              "\n",
              "    .colab-df-convert:hover {\n",
              "      background-color: #E2EBFA;\n",
              "      box-shadow: 0px 1px 2px rgba(60, 64, 67, 0.3), 0px 1px 3px 1px rgba(60, 64, 67, 0.15);\n",
              "      fill: #174EA6;\n",
              "    }\n",
              "\n",
              "    [theme=dark] .colab-df-convert {\n",
              "      background-color: #3B4455;\n",
              "      fill: #D2E3FC;\n",
              "    }\n",
              "\n",
              "    [theme=dark] .colab-df-convert:hover {\n",
              "      background-color: #434B5C;\n",
              "      box-shadow: 0px 1px 3px 1px rgba(0, 0, 0, 0.15);\n",
              "      filter: drop-shadow(0px 1px 2px rgba(0, 0, 0, 0.3));\n",
              "      fill: #FFFFFF;\n",
              "    }\n",
              "  </style>\n",
              "\n",
              "      <script>\n",
              "        const buttonEl =\n",
              "          document.querySelector('#df-028661b7-21ce-4bc8-b927-815d857a2379 button.colab-df-convert');\n",
              "        buttonEl.style.display =\n",
              "          google.colab.kernel.accessAllowed ? 'block' : 'none';\n",
              "\n",
              "        async function convertToInteractive(key) {\n",
              "          const element = document.querySelector('#df-028661b7-21ce-4bc8-b927-815d857a2379');\n",
              "          const dataTable =\n",
              "            await google.colab.kernel.invokeFunction('convertToInteractive',\n",
              "                                                     [key], {});\n",
              "          if (!dataTable) return;\n",
              "\n",
              "          const docLinkHtml = 'Like what you see? Visit the ' +\n",
              "            '<a target=\"_blank\" href=https://colab.research.google.com/notebooks/data_table.ipynb>data table notebook</a>'\n",
              "            + ' to learn more about interactive tables.';\n",
              "          element.innerHTML = '';\n",
              "          dataTable['output_type'] = 'display_data';\n",
              "          await google.colab.output.renderOutput(dataTable, element);\n",
              "          const docLink = document.createElement('div');\n",
              "          docLink.innerHTML = docLinkHtml;\n",
              "          element.appendChild(docLink);\n",
              "        }\n",
              "      </script>\n",
              "    </div>\n",
              "  </div>\n",
              "  "
            ]
          },
          "metadata": {},
          "execution_count": 13
        }
      ]
    },
    {
      "cell_type": "markdown",
      "source": [
        "Piirretään onnettomuuspaikat kartalle:"
      ],
      "metadata": {
        "id": "yIU6Civ3fiKZ"
      }
    },
    {
      "cell_type": "code",
      "source": [
        "import plotly.express as px\n",
        "api_token = (\"pk.eyJ1IjoiaG9sZXpla2tpIiwiYSI6ImNsMXFpZWptejBtc2EzY211cnBob2RtdHAifQ.g08p_WBGItqghHsU7HuKHg\")\n",
        "figure(figsize=(10, 10))\n",
        "\n",
        "fig = px.scatter_mapbox(mp_onnettomuus_loc, lat=\"lat\", lon=\"lon\", color_discrete_sequence=[\"red\"], zoom=10, width=1000, height=500, opacity=0.9)\n",
        "\n",
        "fig.update_layout(mapbox_style=\"satellite-streets\", mapbox_accesstoken=api_token)\n",
        "fig.update_layout(margin={\"r\":0,\"t\":0,\"l\":0,\"b\":0})\n",
        "fig.show()"
      ],
      "metadata": {
        "colab": {
          "base_uri": "https://localhost:8080/",
          "height": 534
        },
        "id": "nytYt6gzgwbQ",
        "outputId": "6ad7aedf-65e9-4699-a5e3-63b804f185a4"
      },
      "execution_count": null,
      "outputs": [
        {
          "output_type": "display_data",
          "data": {
            "text/html": [
              "<html>\n",
              "<head><meta charset=\"utf-8\" /></head>\n",
              "<body>\n",
              "    <div>            <script src=\"https://cdnjs.cloudflare.com/ajax/libs/mathjax/2.7.5/MathJax.js?config=TeX-AMS-MML_SVG\"></script><script type=\"text/javascript\">if (window.MathJax) {MathJax.Hub.Config({SVG: {font: \"STIX-Web\"}});}</script>                <script type=\"text/javascript\">window.PlotlyConfig = {MathJaxConfig: 'local'};</script>\n",
              "        <script src=\"https://cdn.plot.ly/plotly-2.8.3.min.js\"></script>                <div id=\"7b6356dd-e670-483a-af5b-b8a9327c6d8c\" class=\"plotly-graph-div\" style=\"height:500px; width:1000px;\"></div>            <script type=\"text/javascript\">                                    window.PLOTLYENV=window.PLOTLYENV || {};                                    if (document.getElementById(\"7b6356dd-e670-483a-af5b-b8a9327c6d8c\")) {                    Plotly.newPlot(                        \"7b6356dd-e670-483a-af5b-b8a9327c6d8c\",                        [{\"hovertemplate\":\"lat=%{lat}<br>lon=%{lon}<extra></extra>\",\"lat\":[60.23581864419555,60.15652358629242,60.18414995973379,60.1767089606161,60.27854813844605,60.2447987200868,60.15605883055319,60.182087249513614,60.16855253263193,60.180234376984565,60.20899055853522,60.198038059074975,60.17458250694212,60.19113024967676,60.180836082680955,60.229638179239316,60.2193785064569,60.15418565498781,60.19388029305025,60.259843574192175,60.157383786933714,60.189475243961105,60.21982113727433,60.21771182671605,60.196506894470225,60.23114254913779,60.24713371833455,60.239987762096106,60.20411206402754,60.24022193199938,60.281666561045206,60.19528810787154,60.22296680084476,60.209136437690674,60.27141369180224,60.241456416164915,60.188368341605255,60.184880772475786,60.24775281587853,60.247381671191974,60.233949023128524,60.206697960160184,60.20502039032936,60.2778971355912,60.281176854062956,60.19457975135101,60.2034724368174,60.2074750521649,60.166829913624134,60.22561027383486,60.25423275085101,60.23689720808729,60.243302804925385,60.15549512612305,60.19043918547943,60.2062730239135,60.25488573419854,60.231774200136734,60.18416090709591,60.215847901408125,60.16111658195055,60.243987312758684,60.17116928366795,60.19231837794042,60.20976535970859,60.19174496439458,60.22773456731115,60.25998632349311,60.26220883613861,60.203410232443645,60.164705946880915,60.26344042470945,60.159613680490764,60.21041518225379,60.19115907554791,60.18470908528682,60.171260454053005,60.2089794663834,60.186248419003086,60.19287510021904,60.16575160595714,60.16447888179438,60.207680923520954,60.20686466171748,60.16788322661,60.22271188494868,60.22401910803419,60.22297802881664,60.243743474609964,60.20298241527746,60.23096710965451,60.1986000427638,60.186597209731666,60.16366206315909,60.2209409673267,60.20793173582518,60.213216080571165,60.19358138045879,60.18465361832858,60.20276592475849,60.236007406565626,60.21239300896277,60.19035702878255,60.19982458902192,60.23694130963688,60.238647661867134,60.24210223623972,60.208633389460736,60.1999420637835,60.283745611329955,60.279828937078655,60.21066620878374,60.1889254830727,60.19393412256731,60.25151506153641,60.19288000789753,60.21648051257616,60.19488753567263,60.167478618548515,60.24256384851293,60.26564016175911,60.198371546784145,60.19465557692577,60.18839790439717,60.219123697021395,60.23798957790934,60.214931453317085,60.18730552661886,60.25979426296258,60.21813925589517,60.2101186208975,60.21382298186993,60.26994005398229,60.18704472924802,60.206692764857785,60.20530615325816,60.26232360563058,60.25403223939864,60.20839710875136,60.191086830419614,60.21380944675321,60.23016201942802,60.25866638705614,60.27931405806823,60.21906639248083,60.19224698465599,60.18753421187722,60.17059454719053,60.20093298934669,60.18201925707295,60.216405974480175,60.28651178118461,60.187120905541455,60.2751041367326,60.24071251800243,60.19727594196975,60.25121407440865,60.19125862844133,60.227175300487296,60.20508170087317,60.198321752437025,60.25148186511542,60.17074459423812,60.21301979865361,60.16297754181419,60.229944728614534,60.21138804875579,60.27342143216489,60.1836751391674,60.241277882719054,60.22574202635454,60.24448138682868,60.2695007582396,60.16632121410272,60.270942999787444,60.15708394894414,60.2246319749684,60.190939054703286,60.17701313635354,60.216654800981345,60.180317493489426,60.24800008814408,60.19833814924878,60.184380098820306,60.19294079363932,60.178292114486226,60.195805796263656,60.23551879754325,60.23410508266061,60.23737576839469,60.17460202738967,60.23463341879115,60.23507029331306,60.15630773965398,60.244776996186125,60.18682115060972,60.1740834431183,60.21638766341704,60.219078032794,60.21915826425222,60.18040399817004,60.22830965129565,60.16410005123823,60.26447611637146,60.2362772480599,60.186415927309376,60.16680154904284,60.2242501578456,60.23481511910437,60.173212094545526,60.18568132599032,60.22599935769037,60.22609906681652,60.22020405618736,60.1944532888365,60.245191617340836,60.223236209783,60.26962410737515,60.1839910378874,60.15975220062052,60.26025215750716,60.185815677469165,60.2821015319291,60.195333351199075,60.20034343642535,60.243375649105914,60.27581800763742,60.24619581530481,60.27721107189899,60.1791013906568,60.204413559998635,60.17027278898607,60.22504427267318,60.17111620415876,60.17028145920793,60.246831337346634,60.239155888100825,60.165574966180415,60.19235506502524,60.165800839965684,60.20918820479517,60.240656813699346,60.25653342705983,60.1820086874507,60.25528587571807,60.2102736718229,60.202562055889736,60.18601028257897,60.26765571738167,60.21684011577325,60.17203982278744,60.22938358230511,60.284098207303884,60.24109049741653,60.21991560642568,60.260039407345246,60.160018649425275,60.150933928977786,60.219862585777115,60.2272946369693,60.16479786828533,60.17949767838868,60.182518428322616,60.22355149097308,60.201673066289004,60.2308134012411,60.275872317086495,60.19835610043077,60.202718786387344,60.16374023277005,60.268908377779276,60.261636589868914,60.15935774550488,60.252112025039324,60.22345415115054,60.20748828203922,60.22854684949524,60.26044863131108,60.281446327682836,60.16631239370447,60.214187529170765,60.148110541517376,60.18374269547783,60.2003400722999,60.18513875371909,60.25286256043642,60.242964636540094,60.16746889871132,60.207215049384395,60.15167851247988,60.27003103387885,60.216927802600296,60.20258625192612,60.195961010260554,60.18153043918863,60.16507951171116,60.202621195849325,60.23469311218146,60.19488473002429,60.273490671453295,60.240575798443075,60.17661634507621,60.214809401634625,60.201337120195355,60.20636085944187,60.1667070930761,60.18165131207091,60.187702791156866,60.20101614019563,60.26080895275687,60.18899921466981,60.207243634179804,60.216814030632115,60.26901318290235,60.22832787108974,60.22794206151703,60.181887072045505,60.21916865750533,60.234118685801334,60.16801917800733,60.28298429300267,60.16109863167778,60.25546753559001,60.159594416652226,60.19338473756271,60.21464286796414,60.161249905876346,60.239126471172675,60.26242905170968,60.23546342006558,60.22923927589616,60.18533265320432,60.16565328994986,60.24544919533352,60.25153218802519,60.267556990436276,60.223183306086405,60.241644949241916,60.23355322865778,60.204054228114195,60.2657201216253,60.23237870526615,60.15701150806941,60.27725443923207,60.15626287236531,60.23983961293372,60.17408225403296,60.23001880983969,60.16344190260307,60.17114932954947,60.28005355168358,60.17029354818693,60.168962146999284,60.20847744991572,60.22829143149955,60.2083759865682,60.1841191083652,60.17453119911645,60.26930167558486,60.19307291891959,60.24326564689789,60.213126694439204,60.164820697561616,60.24373078492652,60.23003805869162,60.28121435686603,60.27214874355568,60.2015458503799,60.16445980906433,60.245298803436064,60.20746196525329,60.269335048637906,60.23021301120981,60.19093917749603,60.23545277215651,60.25603200080818,60.186310043444415,60.21141497403009,60.201916032797705,60.22935452509938,60.25698201208159,60.251932445275095,60.14860982676917,60.2347001589348,60.16049374616264,60.21447392717499,60.20656838018852,60.19510321901435,60.24183459325251,60.21041973770803,60.25192055238954,60.263443850055914,60.19056937378961,60.1584701609821,60.1953571815248,60.22533678994672,60.25413699874896,60.17623776866194,60.24089506907528,60.20084606714207,60.2597376949516,60.165571130391356,60.1927088128269,60.17358464279998,60.22844844135989,60.220677616352845,60.19036089962336,60.20877900335242,60.22319299296817,60.16698883341144,60.16480026989654,60.220851808512215,60.21592011298794,60.26059434939537,60.19589630451595,60.214142401878185,60.184086385814254,60.23670998288587,60.24157257710569,60.25162011057286,60.20830409939949,60.16858784596352,60.23715703772039,60.196469961537495,60.19058872295109,60.217254719566654,60.160792820493164,60.19496170986938,60.16025333852162,60.17305576034473,60.185056128474336,60.27277442461184,60.21249466213073,60.242752744982184,60.23510065327693,60.24403906864628,60.237371101525675,60.25157396549981,60.20908475205359,60.25784365547934,60.23516541429223,60.2420686145632,60.23695008632701,60.24107840690471,60.18299113452678,60.160420360216676,60.23017645257612,60.17306235312633,60.2188837897829,60.213919389432924,60.170409945450245,60.17905981681391,60.20832719797559,60.16360619549823,60.28437174956002,60.19743418675986,60.17164858496962,60.19408626087609,60.260684997599725,60.16906641167906,60.2734519429002,60.18981505248421,60.26462757133634,60.20278281474844,60.16081998725775,60.19865123556856,60.167301783231515,60.188024362355286,60.21207611338718,60.1928509192041,60.16551471166423,60.252469141896576,60.189800129813314,60.23175178550146,60.23455552786513,60.189537040077404,60.26775318325229,60.23414868512069,60.227631843151094,60.175537334993635,60.1685100204768,60.191170862550464,60.20153476643661,60.24190142799983,60.226183408911396,60.18873857444135,60.15544104651006,60.25253882329578,60.23739269779997,60.252997363542185,60.213691083016734,60.22433024788092,60.181729388928595,60.254033414854696,60.16069346483392,60.19436358477601,60.237291809689815,60.19273444897191,60.24556611607876,60.19912343515672,60.20526611145178,60.26934456740887,60.16868268878946,60.163935492076554,60.167752180181836,60.173763629921226,60.17540646662157,60.23701432967838,60.178243530123744,60.1584040402774,60.28132832950926,60.17988893705254,60.17036632742754,60.22277311502232,60.17128145388671,60.16422477805382,60.21645804710892,60.217197828249915,60.189934131626735,60.22707156704051,60.16180106935554,60.24221944085358,60.20884427466543,60.2307735132235,60.21698419934025,60.18642507368344,60.19595055329617,60.208048433777776,60.217133539678905,60.253598197681164,60.170475215999346,60.278762606299416,60.26300217591482,60.17134877824559,60.17112187905928,60.19667525081862,60.19851649465983,60.21993858677238,60.16037067300014,60.16325020242616,60.18342412763874,60.24637759300967,60.16418922393161,60.16799745008606,60.19388541662021,60.22992676964153,60.20045646746269,60.23903471877601,60.16725192971538,60.25293975395414,60.28421101319895,60.25995250607343,60.17257647673097,60.24319677783033,60.19264355409488,60.21229892316495,60.16595634427437,60.150855684076916,60.202773002140646,60.21004299932963,60.25657911121859,60.15606752977239,60.2345007983307,60.19064367875324,60.166988865218165,60.24016765973248,60.16097515504728,60.21876582194479,60.17301516305799,60.17033776024359,60.168022403509006,60.1915540684062,60.20616939108893,60.21884846503304,60.23578596432966,60.21752341161629,60.17444498186097,60.19074181772603,60.18420056291125,60.18976798657899,60.1964104948094,60.2617220385673,60.264035572936116,60.27003198466838,60.2088596315474,60.227878431078835,60.24479928586893,60.24409933614777,60.24279837779499,60.176532034910274,60.26072894231055,60.23845304736063,60.1699820236652,60.20663057967495,60.21209573682049,60.24602420795669,60.221414360223925,60.24520907308807,60.25586866660625,60.283140952123844,60.26853892986931,60.211376883856076,60.217511670786386,60.26981250882749,60.2394634161912,60.17988222793382,60.1710149971614,60.18843764376184,60.27370644216865,60.166237943571964,60.23021964103372,60.21118495548637,60.230276682247265,60.267711282838505,60.26754720568481,60.17655437673378,60.235669644656305,60.268151854636095,60.242402492431225,60.23502219222746,60.25109470479578,60.25179784276148,60.197476001457844,60.22893400010188,60.21188825208336,60.22665549596824,60.18722789514226,60.221392730957625,60.16451191568417,60.20256652115011,60.19037340024342,60.246214116905854,60.20825290442691,60.24648332946757,60.223481594461006,60.206557530432065,60.16221356035623,60.22736004149026,60.23390283082627,60.27749851595137,60.17654929502963,60.272604352042976,60.28134133032657,60.191156512343305,60.22776294069322,60.147377594943194,60.267224584657534,60.209964311512856,60.16543537046755,60.166493257919385,60.25478505632281,60.160477700280765,60.19650283650405,60.21959500463008,60.27530360588594,60.211849559241415,60.215593341204055,60.23461296739849,60.216909814171615,60.162562859824554,60.18750583706609,60.20817342869098,60.21605557836721,60.18656316573155,60.23200169783211,60.24254868603645,60.195186227902205,60.17072596708904,60.17396329695191,60.18840723942313,60.26035050075214,60.228913333147055,60.27072666473579,60.26257022017993,60.19119386001407,60.18755160582256,60.23918081237671,60.20913364278567,60.17338312528908,60.17926602893368,60.25092006926116,60.27004000941216,60.28415484859651,60.167871263944654,60.210650015549355,60.20458664063847,60.164561138152585,60.26975995909435,60.17661698703434,60.282111048033286,60.162782460158176,60.191111230989065,60.171134805026995,60.17322227144073,60.19196470931991,60.24170159821718,60.278556574173344,60.19238292842492,60.187038820298156,60.23410345685638,60.271937256639156,60.26852896263084,60.2119776801483,60.20253427074598,60.18955359046615,60.160981340281566,60.263661550361824,60.21110219285364,60.16777624193659,60.16857534069725,60.18665276678988,60.18897201820141,60.22194011229884,60.208293983501434,60.20355351295744,60.17242625702828,60.20219080077463,60.15932914449058,60.188388521539,60.195257169514605,60.2121811449963,60.234501565383766,60.1645017297141,60.246483467404005,60.21997285653537,60.246626113119646,60.18565414308108,60.15735129315748,60.166477267118644,60.16945365980818,60.18894825719424,60.20387735717985,60.16307016318636,60.18649013219106,60.1841711408493,60.1871144690396,60.19805227450019,60.22175144044087,60.21487820199686,60.221317540939516,60.21667056441616,60.21279602775193,60.21061960110225,60.24469400922449,60.230683707365344,60.25507169487991,60.21210229892497,60.16413998603693,60.17138284181381,60.20811478886044,60.25676178237088,60.20257855659127,60.25144744557472,60.18042222496772,60.19124073008353,60.2082624650199,60.16483398878019,60.15805026785705,60.25827677555664,60.16820619267494,60.27410831643337,60.17146520575062,60.256980921517155,60.23257981229027,60.228577368107786,60.16884855796216,60.205587626902634,60.17121311636162,60.16770421662128,60.16692676479448,60.169030748929366,60.28473871826645,60.187298233619806,60.20881956953333,60.26547898623477,60.21927359337761,60.187197989956225,60.22464426468235,60.19901981082445,60.15897526493228,60.22592061287203,60.190411812525994,60.27480542142168,60.210289660343015,60.24282427439256,60.21232785390794,60.23126392858605,60.18201727661495,60.15777536736915,60.19241501265188,60.23938621301201,60.185071485220455,60.274635283213186,60.251223779201695,60.17713232177058,60.21760229096927,60.21280827686443,60.16819403877287,60.193934743127265,60.18375041123562,60.17738407551579,60.27804017469055,60.164712876678564,60.202945791158534,60.20164779763483,60.15553802301935,60.16439948680167,60.18811382971503,60.19059734625432,60.21544283870054,60.2131000031503,60.203262089323516,60.16307435504988,60.25575401991624,60.20307214550728,60.185150933411116,60.18761744292504,60.27140813277201,60.241907773974525,60.208245661447314,60.16466567070439,60.21599759155681,60.24204314954346,60.283956802221944,60.24040881570143,60.19038823970024,60.1559955770559,60.16462829504302,60.21911445807884,60.23812667408579,60.27076097870165,60.18236212150328,60.182351005953535,60.25437666128686,60.17637548194901,60.229019123069484,60.21165954113371,60.163021048384095,60.24975448710622,60.204626390564094,60.20286802339519,60.16196806583307,60.18825594441717,60.20594668521824,60.197719401839734,60.24348140041438,60.15284909435734,60.236654627629754,60.16288584550861,60.15781681268248,60.213922451093296,60.17820029641601,60.24640122239683,60.180599807404086,60.282624278323034,60.20601110802791,60.246200060633896,60.19497963020544,60.22214997204545,60.184586005320675,60.20719984953259,60.16071814086362,60.16813801404714,60.234590216282136,60.27244723225673,60.24281223945033,60.16314848618523,60.18081060262417,60.2399390523496,60.24151259974046,60.192445851443516,60.23129975287614,60.16441748693587,60.16842440381364,60.16322902510419,60.27026503916061,60.17449548031837,60.1697430225639,60.219080849335406,60.16849802767228,60.23042406147899,60.25752255726718,60.22861035840613,60.15419437279057,60.21418329213459,60.21382658224178,60.22630056713358,60.187601593762295,60.205139979028445,60.15827967850875,60.16430855465144,60.16735668300829,60.23721901176598,60.16661884059682,60.219202129017035,60.16048639786542,60.17834355882887,60.20887601165269,60.19346429723789,60.1948252374537,60.18756845975945,60.18874013028382,60.207398908945734,60.163803399865834,60.17568456241274,60.21301962343459,60.227144964993876,60.20201261983212,60.28446613833355,60.16974776168252,60.21444817785657,60.17932631743196,60.2346059852945,60.20832243799271,60.25710978675914,60.220303624896296,60.199225105553005,60.17941265800473,60.18719863004767,60.27132430612944,60.27771332530996,60.22171827230103,60.18880049449456,60.2184848380177,60.228512458268746,60.15432566054766,60.20693894074019,60.21953138542052,60.225189971377105,60.20746346480368,60.22217890280782,60.23691759248036,60.17531061154232,60.25820047422028,60.16609941303685,60.161329516130856,60.23588754959508,60.16848523658036,60.16476054854055,60.166742841904885,60.2746742015912,60.167349230198724,60.267213542122214,60.19260826481949,60.15520630589767,60.18896372820989,60.203416579379486,60.18971030065554,60.19274992847485,60.24576702090983,60.23436418482883,60.16107271800563,60.27269052718777,60.15959894135186,60.17708548777965,60.16788810824324,60.16832706150648,60.20700911432306,60.17387966838189,60.18593685398495,60.20913135055721,60.20277967710917,60.242119756473556,60.26260807353344,60.26095550703248,60.18230501151447,60.22357703345763,60.203703751195626,60.224357116441226,60.23459958583216,60.19633376461537,60.248871369506496,60.17313467483456,60.24208503269494,60.24064036746118,60.22067372411168,60.244141670678864,60.28380317729262,60.19794335582431,60.188051291220184,60.1821494834867,60.2208621408425,60.27463920610673,60.242057273553236,60.2642637582342,60.184168641578694,60.16024260026339,60.197457620512026,60.24302571702359,60.17094240609074,60.24601427549009,60.1980290905459,60.25439060454076,60.18170276171651,60.2201276194638,60.19236875789355,60.283974329724906,60.2405135072443,60.23561922688594,60.28150592593074,60.205957408591686,60.23054178333916,60.26766414916905,60.15482903437366,60.2761354326529,60.206545791336914,60.184262664750385,60.23343987861577,60.18942853682619,60.19133115314877,60.18489596200607,60.19608181114053,60.25680051024042,60.16811981579769,60.16466595187392,60.19655266975557,60.18496454066591,60.24450774114665,60.2688154547946,60.19122079202735,60.222042621137575,60.20257942153687,60.17949282104446,60.1617990995421,60.22174506399642,60.23725021489535,60.274778767234196,60.16132176274759,60.16445280031491,60.25033486384069,60.23919437463433,60.17228633820178,60.236065002682565,60.21420712864657,60.17402023226161,60.17833648984144,60.22419986528539,60.24819907516816,60.183374666113586,60.16913011074015,60.17057108442578,60.19808788993655,60.164049334580874,60.16704975608026,60.18408306834125,60.21772165813735,60.163262463783425,60.19635647137878,60.211566416274806,60.18832361306932,60.24184635097853,60.18523586600867,60.1626253731007,60.16296238139733,60.191773041858205,60.20939994474661,60.232275378558775,60.28591254204922,60.26189524006941,60.16213035648777,60.19149014196338,60.203704998990204,60.15557817480549,60.237152077583744,60.16431827191029,60.203750743587186,60.18788230911857,60.20895296072424,60.19753294479074,60.217690715752745,60.25886622189614,60.23472348463326,60.21897561018131,60.16710519783254,60.17031051112047,60.21929705869234,60.22447739302674,60.25854641977745,60.244600801145204,60.16791941362975,60.177745215460455,60.23646571032368,60.15984108975892,60.17076291746693,60.168132262528204,60.243967013502655,60.1724624088108,60.17413939522218,60.16151618474863,60.19207663999294,60.203090293454885,60.26218083907461,60.243971819914115,60.189863969195606,60.166970360082864,60.211025603981774,60.16985516468187,60.20873145765247,60.23355580490444,60.162825912258306,60.234516845403064,60.17455563204108,60.178784304258514,60.189291398844574,60.163533366617244,60.2648662895587,60.191112540472375,60.19528471871479,60.16406675083963,60.24727414771366,60.17498459577832,60.24858186138564,60.19331335165681,60.154442156392996,60.15606752977239,60.180599245986016,60.184252926170934,60.167811896032205,60.203162159959156,60.23989503089525,60.1548408369184,60.18913794035233,60.19253292141197,60.28409955240898,60.152051483422596,60.21254314117453,60.274565048264144,60.19186231068175,60.215025777486154,60.220547479489504,60.22115320391669,60.15933847162813,60.156033587863845,60.20681247296193,60.190480228608614,60.228707740954086,60.26593671207896,60.19440119519035,60.16333454034576,60.16673165509216,60.27081600191719,60.23030180665083,60.176757005259645,60.198525756805,60.172028763603805,60.215217799159525,60.16229573528655,60.19845859054828,60.214092338546386,60.15779808933527,60.209602883962404,60.26795979714375,60.2210374355865,60.231725822408755,60.20263747450922,60.156812172009765,60.24715218514042,60.24854927042101,60.1779239365111,60.20535325863402,60.19723325290441,60.20960704588299,60.16434232111138,60.24875495255255,60.20735097847578,60.166169175651085,60.165865350378475,60.227479601291016,60.166872210177054,60.20101667597375,60.18227938195378,60.202955474184826,60.17571046474541,60.206523239049766,60.208233986986656,60.1721482294345,60.22469549831966,60.166810802508934,60.163634930581956,60.203217244811775,60.253931084439884,60.15489382881549,60.20120422702481,60.23412931289643,60.18365746347608,60.26700977094224,60.210464650277494,60.23813996724229,60.233326520621205,60.21138518813485,60.23804105961619,60.23450743421064,60.188883415312766,60.184109402654414,60.25495200801534,60.19848827650092,60.18093034155755,60.21304954020083,60.16756500518446,60.20093399148352,60.24295064213943,60.22250606749378,60.26570236042886,60.264558364189426,60.232521766025094,60.21759100019472,60.24036357922635,60.190425596629815,60.24060726094976,60.17435498515462,60.24533923423823,60.2448784409831,60.24239038580434,60.23625189674153,60.206205465477055,60.220459048081615,60.20561305867532,60.228096858005486,60.22056979376213,60.270923407788956,60.19107851643152,60.222118967034596,60.16450162627858,60.18168311296116,60.19018057909107,60.21424368209835,60.1682349861044,60.21889166613593,60.19633151853199,60.28587483630819,60.15656780470409,60.19305838107414,60.235267974418505,60.236076927206206,60.20907421611996,60.19606664517754,60.20153960742222,60.178314515753186,60.163646055283714,60.25523019198021,60.254082372399495,60.1630305858703,60.20242511980988,60.24759899591061,60.261805915020446,60.2285728687257,60.264547913392605,60.19988488317083,60.25372991907803,60.19071518758522,60.18058354707166,60.244115953827404,60.19471166806823,60.21214029948469,60.19884007383972,60.20366073512654,60.2143779833341,60.25177498856975,60.247211455262914,60.23819587604061,60.265171155690105,60.18044866789955,60.245668902726074,60.233449543696494,60.190116862206786,60.201455395308734,60.259127692328846,60.243869580866416,60.244901846094066,60.2443541949561,60.22103019920392,60.19255333319457,60.19244682391625,60.22624165531696,60.18319782098364,60.24566332805438,60.26765020072602,60.1650510700108,60.25064635500433,60.242773735931976,60.262513979547734,60.16973580933775,60.270033147740385,60.230484719091834,60.16580516032718,60.184899067298566,60.205290587964285,60.25234538439145,60.25163175325582,60.20908035459264,60.242600284195554,60.2373084823298,60.16756836640688,60.21030059008947,60.2566084051516,60.21610859108151,60.187961226270296,60.24105737015956,60.24112755755784,60.216416318684225,60.246773053223635,60.172806338221726,60.202168341168615,60.21727800299747,60.23662181112373,60.22822671143824,60.21659720222212,60.25477636088833,60.23062034383759,60.17246823951657,60.242648418932696,60.25557554511209,60.1831596066042,60.187037310596544,60.243772677986996,60.19027642250862,60.24526899292598,60.19451018619854,60.18620258670447,60.25404949633661,60.16890095387618,60.18360335008932,60.19975926795634,60.20427931823304,60.212220192764434,60.210859886798865,60.21306733274967,60.21385848548295,60.23418203876994,60.167905568553664,60.192781072883896,60.177794249725245,60.241751480450844,60.26449864371695,60.22996014802513,60.234483343132005,60.24296717758606,60.22061392937463,60.236227167246234,60.25995114326824,60.248367333422735,60.18981290184063,60.20513682468391,60.19517992999361,60.15107890719811,60.23668232088284,60.16463518698951,60.181823353261045,60.27478720720908,60.2515153421897,60.187129561835384,60.258255903494046,60.19229133010079,60.16482534876559,60.22639591914585,60.17870232747608,60.184115493712945,60.227658740661056,60.262921315485656,60.15956468625772,60.16643911127066,60.16783704004277,60.18275005116765,60.242033796283685,60.256724234429896,60.26551524696594,60.26664931666293,60.18519599479592,60.19511208615514,60.25398271657219,60.23179043065056,60.18228706701719,60.25192493139728,60.240689402710764,60.19519155461616,60.21458883871697,60.173294286668124,60.186102823664115,60.20329912795934,60.16791760841406,60.163249056485796,60.18668462638273,60.23108082719935,60.24002718680915,60.212464125032255,60.2416644673594,60.216114823105436,60.205986961310835,60.24291998290794,60.243135842850656,60.20944717626772,60.175359669964486,60.191307598558815,60.18397830165605,60.20788769438515,60.16834234163593,60.180826271792256,60.21988899478786,60.16482834098434,60.192871732850115,60.221091813637216,60.19426533183587,60.23510781975051,60.18952521348676,60.22185615044936,60.25718486891299,60.26764281505494,60.25973636362959,60.232416512542954,60.26059652846564,60.21261824926156,60.213375688925325,60.1678847205959,60.20656007942427,60.26150288003269,60.20660016509762,60.20605875719257,60.164473255785474,60.20837185583827,60.213617032043885,60.23809055543656,60.2313626926205,60.19013788792748,60.203351684173114,60.16830874674153,60.22444870857042,60.24595674116622,60.24709810285949,60.18683489261426,60.18499698120955,60.19065956719032,60.197686057199164,60.20194931604683,60.246477144324224,60.16479041766404,60.19346858772188,60.17482137027992,60.22480227286789,60.24169642972073,60.17419046259901,60.19207551588814,60.21644568840452,60.24679551619019,60.189698756626946,60.16428437625494,60.229630272079994,60.2398958237545,60.25706958092749,60.2379316768153,60.19348521789449,60.17204008640706,60.17269765361254,60.229039735197105,60.226702913144536,60.23771774263617,60.263816963263714,60.201404713962305,60.15416764941017,60.242169758683644,60.24876052163373,60.17334256986416,60.2332706530519,60.18747415645933,60.26169865565362,60.215246398576824,60.154490467206976,60.23587359714311,60.255437772784475,60.17407146868679,60.25155171458973,60.20656700239277,60.18328832118719,60.20706620221797,60.16780349971743,60.23377338842828,60.16161980763722,60.161471542150764,60.18441785770295,60.241036863733015,60.22809544681158,60.2383609008155,60.22781092606439,60.24417048397308,60.188816532758146,60.229968616435386,60.26986677406813,60.189765082161216,60.21546374408057,60.16781925923672,60.241296137095524,60.25655275826638,60.2341164515472,60.19519785609567,60.21411816594658,60.24091828192234,60.234132979560854,60.28432800468259,60.210219385062715,60.27336443472687,60.2562262028547,60.24084235694613,60.160419556696496,60.18331432708092,60.28416293574391,60.221033632658006,60.191685839684915,60.193550565998535,60.25855485441623,60.18793390929192,60.193519393571634,60.21098211503747,60.22828107727723,60.225135726355596,60.16772840667811,60.260698462496535,60.21909097335765,60.20528525167009,60.23524186091533,60.23673807498961,60.21004401541665,60.160474839936406,60.16710744402118,60.2749177240692,60.218900813071016,60.16698879073965,60.25708119712323,60.17731607832769,60.24335887538819,60.190197554173395,60.24107771427944,60.247524229122156,60.21590589664066,60.2136274636302,60.17381848655575,60.23320225691555,60.245225160769486,60.26594961819934,60.21663684295933,60.22591025905466,60.28470969036042,60.20561223617922,60.21083938345288,60.216853165941224,60.244564451950154,60.18286609414884,60.178990457530055,60.208652994162335,60.23396293170679,60.1676714168903,60.207932734741945,60.193005777427175,60.232037154154995,60.21686224450843,60.206230987414955,60.21070743763059,60.21183890266831,60.181459470797286,60.19101194776932,60.230281045112555,60.22625726189894,60.234598337486744,60.235767663217786,60.156379003994175,60.22493880521605,60.19192640378824,60.169042130866515,60.24902434357231,60.189054905102665,60.16895055526906,60.1755702605358,60.178971006910274,60.19888444065795,60.172949846929924,60.18830256841101,60.193567939366716,60.24295606677585,60.21230664808246,60.246361982461245,60.240741681791434,60.20892038321437,60.169198125466174,60.24872193535534,60.19894887757021,60.20146727560075,60.17063287066841,60.15873505378357,60.24536537352866,60.26999264232798,60.24353789656815,60.222187142092366,60.272921596971315,60.24943019041269,60.22280530215035,60.215177670750975,60.17627034119244,60.17472385611996,60.16270906339161,60.23457488960247,60.19917482029369,60.18770643616004,60.18573648604063,60.21612860938986,60.246271205701696,60.24121621533649,60.23501535095691,60.205584618653766,60.200882118890085,60.22127017639114,60.21250154779618,60.203642366250214,60.23338315048832,60.24264448665514,60.16437539507225,60.23050649282647,60.23940323596456,60.22733772308755,60.20857572760274,60.24212086749862,60.2249135767015,60.17231003524783,60.23735176300152,60.240485273884524,60.2103485824736,60.27943432245947,60.20772429587025,60.22999001083686,60.16747588872704,60.15572369491575,60.21222730204011,60.262344127547365,60.18217299899668,60.204070608326624,60.18214710290496,60.16311714417296,60.23707957255137,60.256198384235454,60.15780502610588,60.25554505118591,60.25386721955162,60.24231316380823,60.18775051187769,60.23593599042941,60.19204551449079,60.175969646554364,60.23454926197211,60.26427644524407,60.1670703791525,60.21983899310464,60.19568539039153,60.224906581683534,60.20487289608171,60.20246218799048,60.23169218658826,60.16430850754238,60.23024276246227,60.24614311033461,60.28403578412404,60.16708839272427,60.24210534070964,60.167694049896326,60.23673164070917,60.22307870454683,60.21199138287534,60.218182719235074,60.175538941448394,60.168625191869204,60.19122377636136,60.20299616618268,60.24214010003068,60.21315616266396,60.23471290514182,60.188662574450184,60.194381655701186,60.19174075433267,60.27190418053433,60.23359610935821,60.17018443415774,60.286757055500566,60.248822402449534,60.23468068376679,60.15764320246208,60.165018343429225,60.26578504873758,60.23209013553864,60.191083707893604,60.252693380495536,60.283886017638274,60.24173934144459,60.23317184524872,60.24635516026798,60.24551837937919,60.263663579866794,60.24741172577114,60.25186230558492,60.27978398343897,60.229646245139264,60.170280740230396,60.23411627279056,60.235226598999766,60.20679176958223,60.23937381777074,60.24561029213565,60.234267700092786,60.24840155048615,60.27056091367309,60.231589030447175,60.26428347534964,60.191857671847785,60.201017724845244,60.26105963437467,60.277891055101136,60.20771375173621,60.16350240323333,60.22944174199028,60.25572984282413,60.2428522974542,60.20802442878225,60.27724945894212,60.18669179674978,60.24241317071073,60.26338770754349,60.23418170069015,60.21108294988576,60.21309992501125,60.19415262339166,60.243134961527716,60.18876770018851,60.23049326764068,60.20248085340923,60.23449262207887,60.2657271368868,60.251673727923645,60.17020850462027,60.20245372025681,60.20585938053038,60.20373443946241,60.27018876051562,60.25527188018023,60.255008257646885,60.23753253265573,60.267659185091475,60.2388902836091,60.20858420865088,60.20984242134701,60.18563766406479,60.157103276278825,60.208047078781036,60.189800920720856,60.23749431785032,60.236938287258866,60.21358536582434,60.2252502991629,60.179745540026516,60.236558580543324,60.21066513441928,60.27884218747555,60.213689776994244,60.24836744902833,60.18876527696213,60.2604413146486,60.201943362168166,60.1741391605671,60.2371276362517,60.259748971500684,60.227265162678954,60.23689487618409,60.213591734044805,60.187160868239474,60.222584037484445,60.25839191597604,60.19303315922969,60.23252340791826,60.20671200700713,60.21764927198007,60.2279044373646,60.215636919930105,60.170352947319905,60.26221952887333,60.25126606364862,60.198701144299946,60.25414459366475,60.20534867169831,60.21358714555305,60.21205895102098,60.25605910620579,60.18836013712486,60.19278542656693,60.1967380240511,60.27248102150522,60.23905517232561,60.183762943016994,60.236871246100065,60.267755287567745,60.20835703543877,60.17722707616424,60.23801161086104,60.20451209673326,60.241033147083115,60.18208074211477,60.23760529545363,60.23473816043086,60.22851276553184,60.21688010913415,60.16534126677612,60.16660903813693,60.19010479834547,60.1887994147006,60.201240096052445,60.24247802392378,60.215375402971176,60.19963933287946,60.244230626994906,60.25056857753065,60.1816483326016,60.19369130577052,60.18006970286142,60.19161050488138,60.265494345363315,60.210025842171405,60.18852535253491,60.23626388224758,60.20545311615043,60.24380365328145,60.258795645849105,60.236296566008306,60.21447912171307,60.212419564047295,60.21989109804175,60.2454440611122,60.160676897403874,60.240847959329116,60.20845060098527,60.178973671107606,60.20523928506831,60.26441909850997,60.26742981349882,60.230777835300856,60.22760886375184,60.23383372719604,60.23183054982627,60.2142759054805,60.23445247060854,60.191852192155075,60.2385755408273,60.185170599622765,60.16999918187038,60.15985736101214,60.166742762566585,60.19552444704221,60.2108216658823,60.16987455371748,60.16818586010283,60.179702930342955,60.189302455244274,60.21682131900917,60.23882389550328,60.25250300490059,60.235023470473074,60.2700484812047,60.20506538828835,60.22504737232303,60.244243786372685,60.19563155602833,60.22205847797716,60.22184066261355,60.157671264566694,60.24307343941109,60.284496376574985,60.26949694040343,60.239531527259516,60.205926474702146,60.27892875177177,60.24151514679702,60.20842603602011,60.252223950894155,60.17820135643543,60.24652926708563,60.22259058703383,60.26244382799216,60.24412023734375,60.23703439279019,60.17595265797294,60.19997028414978,60.180961668379155,60.19193377010411,60.238665613903876,60.23532813121441,60.1889903338801,60.220836300919316,60.272515109480835,60.1924142951679,60.24157961338904,60.186372147246985,60.21153173495724,60.224797601154776,60.233430396251215,60.22069332515837,60.19456994068239,60.22163933266298,60.15897227508568,60.236486814642305,60.225931802411594,60.23915308650421,60.22949887542093,60.18548565899735,60.269229716746835,60.262349633486245,60.21118435950358,60.23999017087863,60.14790766130473,60.26684114639061,60.20684737153042,60.16617067957605,60.22055982263058,60.22757871228668,60.216933637717695,60.19331805580099,60.17417557531421,60.21352839162141,60.22151280280591,60.199171373737364,60.236231306216986,60.185704032961176,60.23494269473041,60.17558731624227,60.18443714414224,60.188346217211766,60.187881365816764,60.22667209279382,60.232420591453135,60.225820156363895,60.16453266778582,60.168255082818966,60.26592248037343,60.20950824121193,60.19802126749487,60.218413946761224,60.209685217257416,60.18785807840627,60.233953608084235,60.28592181267969,60.239842286300664,60.265547209730194,60.16437273805307,60.16460410508795,60.166171211213026,60.16643182151109,60.167975504170336,60.175844570402965,60.18825112737782,60.195672859183546,60.1978997746515,60.20310095469219,60.20609831635686,60.212443500985664,60.222269244702915,60.2252705667779,60.241853917398444,60.24392948855042,60.25284721329471,60.15539906821805,60.16057029502318,60.16429797565263,60.16495988899095,60.180385672403396,60.18126242014356,60.18445865729252,60.18576662937967,60.19070891647831,60.20389392402963,60.20736886648539,60.235752253418646,60.24325854834183,60.160642915320054,60.163578766778286,60.19653850376533,60.208138128083455,60.20916055204045,60.21950813956587,60.228727236046836,60.229052744667044,60.237394908337535,60.243501021241784,60.175461917962444,60.193081412047455,60.19388031849097,60.19463103348614,60.2130545646664,60.242047072003146,60.236641879408225,60.23555312138308,60.222570401292124,60.2436788408031,60.16258895807581,60.205389270813626,60.26597861021131,60.25397710333349,60.21429963087243,60.20860039502932,60.243121593727174,60.16013406957754,60.20498330613096,60.221058211003346,60.20555848636743,60.24016786671619,60.24174324655121,60.26427100523949,60.15441935609792,60.26042928095865,60.19296209993735,60.18064926613984,60.233997519412085,60.23291063185,60.184215853224295,60.18302859259162,60.19200770837389,60.185226892737376,60.25319165072205,60.2632252475311,60.21237195954649,60.194361730330456,60.212497508995384,60.21042634553288,60.166207243706594,60.175868419337846,60.21147654847502,60.27988504252648,60.26368369182661],\"legendgroup\":\"\",\"lon\":[24.887813079938358,24.934439097709927,25.046860140316284,24.923128366603095,25.028735892620496,24.932748052324662,24.95019891378902,24.951281378693206,24.957748426877462,24.923987637410676,25.0564642873613,25.117821149301566,24.959699749505127,24.909175295994036,24.959257609404567,24.940313001840288,24.987553366785473,24.94292818533168,25.03249987814509,25.01214681009807,24.870215733959405,24.959749377957344,24.90079447793919,24.902590244052366,24.884603412440814,25.113322132757812,25.084775840063948,24.8515398542764,24.876570510602335,24.980837106818928,25.025835024491826,24.936062014062546,24.948567863260525,24.89028741953815,25.04066534948672,25.01924097955288,24.954948158284626,24.96645489461276,24.92233446391111,24.923297579758426,24.96648484141638,24.8815648414869,25.11935190688677,25.006186078818963,25.028541473084072,24.957015079080186,25.12039686493649,25.157938570825504,24.937000484246997,25.008875725867867,25.014728043301517,25.11821127451505,24.88512687319843,24.950918733742444,24.950039278670108,25.114588319972214,25.19113039422446,25.092173934245377,24.94830271494065,24.88138968781711,24.925446202710166,24.936015212862333,24.93476334285282,24.961232435600234,24.903891922233882,25.03205049068285,24.873741918636227,25.05268193172485,25.011153718192272,24.899046281265562,25.066542313544264,24.983835721776277,24.94658955197553,25.175063350112755,24.982914076175156,24.922947599333664,24.94524957806209,24.94666221572874,24.941012284578456,24.96063870043295,24.931210156696928,24.933110585700845,25.06025941709278,25.078841115334658,24.951048439748945,24.901837399962208,24.898738377147016,25.074539883149352,24.846072219070845,25.080547762392786,25.078567939984485,24.939372251566844,24.917345361790606,24.945850275793127,24.906861543766823,24.903810431788706,24.883635333353308,24.95110604690693,24.943582933712225,24.94504765433845,24.875445598209456,25.08786720248509,24.956934855616556,25.120298833802526,25.118154556629268,24.853650899992545,24.986954155710244,24.91013663207708,25.059254883439205,25.021295982304007,25.02849601754116,25.097695728765377,24.91746839915591,24.955918716567968,24.982219839546822,24.883032912223804,25.09667293111117,25.0429026773422,24.93021830474558,25.020023207965977,25.021395054916763,24.875389862416057,25.037540671409133,25.01479168464775,25.043155059647884,24.928661139794652,25.089506393069097,24.97523272910822,24.989193568352285,24.907473451248514,25.036706985070737,25.085509644781272,25.071292402157493,24.962317047763197,24.945740399866388,25.12557916197454,25.011020216678293,25.079854802539234,25.069330902913652,24.95358848925492,25.084571831863354,25.008744016001643,24.993600801756475,25.015034541709753,25.04292378587848,25.039867136114918,24.871725502893465,24.92041376942101,25.0429575561843,24.927842280733014,24.979901011352172,25.008664500092106,24.978436466317426,25.076847494611307,24.995421749931648,24.935666530866005,25.008676338340354,24.907633851689834,25.07535902798432,25.13131221814314,24.948068025514015,25.000799118467032,24.950798102586027,24.943665915207607,24.933024659118818,24.895180391102567,24.931151515498026,25.031883461404902,24.92230957787588,24.996579528821197,24.966054393088488,24.959833382462037,25.072583907718837,24.945882509546497,25.052627402200688,24.885137690793577,25.01671735002471,24.91072072913468,24.92247808084962,24.97383823296144,24.916120216307103,24.960861243652,25.04727974746364,25.046630063270392,24.977825932658728,25.049786460363432,24.954395113861757,25.082780742748334,24.86102857807713,25.091974629517257,24.92394653845583,24.8968845226172,25.02103538199563,24.95119249418605,25.013656343157347,24.905337146575288,24.953546807876883,25.096461690870964,25.10621668675933,25.04306272825283,24.947563385124667,25.001434418546058,24.933584975127214,24.983428520198142,25.081815247898863,24.968163477055835,24.933451333208648,24.8581497562658,24.955629941364933,24.95819826907121,24.94382523663529,25.02468815986655,24.933944104931957,24.861790001882643,25.031166706107715,25.04459902577115,25.07995936292418,25.192468322010683,24.931595413051266,24.93182160367419,25.209361090275387,24.9676775644234,25.024886309195395,24.90118638967027,24.945217213360266,25.053035934112753,25.024523769957423,25.049363310750408,25.033663209625818,24.92276087207847,25.076422090079955,24.940065450133314,25.010661540810055,24.960329395065912,24.940623753620407,24.849826596485045,25.106520877517454,24.921073527264024,24.881659656500638,24.94476144824637,25.076178557708396,24.996491001403566,25.078913062140494,24.961330778130105,24.982710683005546,25.091004618425774,24.905614700281845,24.917148085836683,25.01442101358627,24.97597502203931,24.943380088903748,25.016737184185306,25.028094261151395,25.101116190465508,24.908479591191025,24.95584626494974,24.939698185945822,24.91590867039347,24.862895520801054,24.956622135174456,24.925935034421748,24.92340302482938,24.956520304255104,25.091225507197034,24.96211349370334,24.952989661527397,25.019728088186444,25.047278682519476,24.94548366419383,24.907798034305696,25.070756484623598,24.894826425232512,24.937631118610412,25.011657815332633,25.081986865886886,24.90019312501863,25.076416264563232,24.945119509440183,25.02854334363543,24.94763146062541,25.0852537345639,24.92314922601018,24.92834682255138,25.059447875643688,24.913704479768548,25.014395365955775,24.925727243075894,24.93247209887707,24.967977828762812,24.882440112712974,25.0578166439156,24.979959166613714,25.04787531707461,25.053590809852352,24.92702553572979,24.883542287700507,24.8946035569902,24.880317311153487,24.955823501860785,25.03231329915416,24.997074047016064,24.9223769390502,24.884417165319487,25.142224622437336,24.88014281963732,24.937188438635822,24.927288413839474,24.920828520717546,25.043115000106447,24.983256485469774,24.919303530307673,24.901760838082726,24.943915692140763,25.066230183242777,25.001451364180298,25.065707293460335,24.91198124778246,24.961460809903308,24.96642014369218,24.92228902469583,25.02868590031675,24.925447332892098,24.982844090845102,24.9366791938102,25.03602911838121,24.97266271379992,24.872686876808174,24.8744667818209,25.07607287908451,25.021499344811637,24.861183223156345,24.918038675696938,24.949150569634273,24.949781498128328,24.982164580629302,24.995894975422882,25.115097628201628,25.022246553420057,24.862455339911218,25.04753544614714,25.04254251000888,24.99907346859511,24.945598651599028,25.013043373901652,24.951195288619715,25.067968330268116,24.951725955103612,25.056013601030923,24.92137051267251,24.932907760298768,25.02850057780744,24.939667559703203,24.94937690696404,25.0557727659022,25.001417454885036,24.894433182606836,24.92599664702441,25.038993974636,24.985952155996507,24.977655441238518,24.996765240005477,25.06784351987191,24.952230468193974,24.978868578629008,24.929650714885533,25.02864774911801,25.065683449989628,25.065132491870457,24.93303968070224,24.881872309249786,24.90136789695295,25.015006321792367,24.88156391395083,24.94984574950816,24.92956188418393,25.02154126493655,24.91222334823395,24.93114981776526,25.059733715686477,25.073894889746978,24.998041730207355,24.99256720396295,24.882079019609524,24.878510593144888,24.888865328227606,25.0876738363449,25.043830900144492,24.96652590295667,24.925834833687997,25.090544920861795,25.015066840790432,25.012054965028327,24.949165341948213,24.941200717006982,24.944554817790113,25.08361025671204,24.954009427821017,24.95811859105085,24.894694496879623,24.895944321167587,24.98901628151744,24.93518686851465,25.03769298602693,24.93125832201922,25.119670858855518,24.903267373407562,25.039871392277618,25.151603166964623,25.110727764074834,24.95245601948462,24.912362808988675,25.11156659530839,25.105207457995018,24.964488347872983,25.03156734525203,25.08523831233974,24.923906703685265,25.024386492542256,24.859565995668582,25.083230752624313,25.103968474025464,24.92877853550144,24.90936742347165,24.960776403701022,24.94925431002055,24.952661681562432,24.915122093805554,24.899839036419905,24.940350286760037,24.909008331959733,24.90846149981578,25.04890200404321,24.97844494775859,25.011032860825367,24.89802864754115,24.978470175264096,25.091649768723027,25.005726953569003,25.092643841636185,24.981396480869332,25.048682574971757,24.981193138246997,24.909344484376792,24.989329386623446,24.95281202839043,24.93031985981629,25.077927990471544,24.919698852966246,24.900023942461317,24.961209092419764,24.93733479507615,24.956482793255002,25.104328085905152,24.856709745563293,25.01270193216525,24.902261010602896,24.955825552657984,24.889395574547855,25.08590005633911,24.958455592605453,24.99490141861427,24.916347800824287,24.988083460897244,24.927092066943786,24.942135011631102,25.031402300189974,24.9523644439195,24.97055309772745,24.954663181818233,24.89474246836,24.932721078229076,25.022334564012407,24.915969955510693,25.087497751264838,24.899905936190084,24.947462088410347,25.079665484617536,24.931179457290323,25.070926187539317,24.929188271178937,24.920942118898534,24.954376938278944,24.966560877843307,25.020171588242356,25.077565969555057,24.961490567665436,24.882378235494404,25.071629450962895,24.88964458470076,25.008405380421173,25.134233712197297,24.996043176333448,24.920232487490882,24.88438040722644,24.9299782990425,24.884254298707404,25.096133974776812,25.033362176817903,24.849349440233766,25.04084616218451,24.973855036494637,25.015041911469574,24.951052726527934,24.92822431191516,24.935662838032677,25.0387152360238,24.920830690621568,24.928903357168736,24.924762450295376,24.949097777352073,25.028460015364526,24.954916580216715,24.94319629094685,24.933774284950257,24.92469695317873,24.90776722089509,24.95283771883727,24.975285019854073,25.03652389641307,25.026122401332252,24.92958421713239,25.01921296602421,24.947212103577634,24.934191588702085,24.978944768339716,24.941398003391555,24.953880948113866,24.899832455893325,24.981083811116342,25.020350798856484,24.940954121058862,24.99566144589058,25.069151847813046,24.924981146984315,24.934027194559565,24.941513591107203,24.938619711214074,24.917360851542124,24.881718579490624,24.909757682187976,24.924633823846623,25.00241122823876,24.939887616011763,24.967210222301325,24.950437650838367,24.9461823192752,25.05942296993072,24.874346268784002,24.94914103897576,25.014752131482023,25.029643116751142,24.98896695169288,24.948448481013926,25.011294988803996,25.029056377330978,24.899957712339837,24.952484230867476,24.877610538781806,24.92703855290781,25.087462592547663,24.977389606159196,24.950180354443823,25.017782494197846,24.949323035409694,24.940289105215967,24.859892524305756,24.875155654923503,25.093200705889046,24.909281339821952,24.942513049187195,24.931680230209167,24.94199670692315,25.036888895042452,24.87861432677883,24.97148272984077,24.854869648871574,24.95020695700125,24.949280840858275,24.915729800100088,24.91849728389997,24.884753943072035,25.08121192984056,25.028849672754472,25.07329398706961,25.1063908188248,24.872630996047164,24.932784160537647,24.973588299294192,24.947381729827526,24.943459750469554,25.02151079789437,25.083837568740968,24.938118752175882,24.880720961806183,25.16018815956587,24.889631178276876,24.89251356775086,24.881878102974053,25.032304828710988,25.001905370961857,25.054668731149786,24.932162988436033,24.960011173266402,25.008504307868726,24.9888503130259,24.949831949308166,25.038698851833132,24.972908419762213,25.030510092588482,24.934748468565267,25.055008446679068,24.881311480994697,24.881613980424625,25.030816227193093,24.995841335106263,24.92243494757269,24.90106291573049,25.07184966367047,25.01884058722445,25.0208215481587,25.008502885365676,24.992575451098265,24.886796275590623,25.008908818428058,25.088365863104844,25.00969713258857,24.95496500423216,25.137117921798374,25.061254946187066,24.945511234462078,24.978506982260136,25.07460314381997,25.075475366194457,24.889131849150225,25.08202136940974,24.928387814810204,24.922655624109368,24.87279102816324,24.85851303766052,25.00536032535125,24.92211072164343,24.994682054235394,25.028730543402087,24.907423892291288,24.872710717242647,24.882536595122637,24.99351068390866,25.075194597614182,24.940314266292656,24.93038844320414,25.069834641588017,24.938606178833073,25.034309288086135,24.912074732834697,25.031010840643514,25.07327920765466,24.95850570496102,24.883736318748845,24.87758420969601,24.935231458173728,24.95842871311347,24.902621886700224,24.968134735328693,25.03512010407059,25.011034399740726,24.975563014443257,24.901538556244983,24.93744116058607,24.93422730991915,24.95747088396258,24.99568491709479,24.95034515934937,24.993458927617166,24.981539199766413,24.9132118835398,24.956153292930324,24.88799400708726,24.889547620265084,24.91953433636458,24.957624014317986,25.025066333211267,25.057816117691345,25.02767479335852,24.954924658896683,24.944337731362086,25.128687812163804,25.044436463831417,25.063238909124426,24.930454533405904,25.024921915612,24.912562928816516,24.94355768601495,24.936586264537357,24.908745351051085,24.96159711517998,24.93285294241155,25.02869921126017,25.03994921961679,24.968954631709455,25.063248954016206,25.05305651728902,25.039337187407515,24.97811578460641,24.881815301539024,24.947370858798678,24.937493310596967,24.970643235702696,25.093032032681357,24.94645861267459,24.9429657735917,24.983082379956798,24.919287213207948,24.946068184656284,24.89492573743782,24.89901906355618,24.947448282645055,24.945029484796535,24.937524773745835,25.01356577147944,25.030865994908396,25.087500507599962,25.010033952973313,24.91450857059642,24.890270183548875,24.90186803904155,24.99209702645655,24.9236453677339,24.93164812879993,24.963555028404652,24.958521690017776,24.973995216185585,25.047112894301673,24.86022317359902,24.946750555285774,24.964695352143675,24.96920245767634,24.948066810618663,25.13388393282742,25.044563327784967,24.861771639993062,24.972519454415607,24.943716036220493,25.082610124782867,24.847635932629554,25.073889110936992,24.983392573585977,25.13493763315282,24.88601792263941,24.947351149085943,25.15550249968238,25.078556287405902,24.881776365542226,25.061447496845396,24.947580285237176,24.910485085739413,24.905413633335083,24.8766187437671,24.875921162779154,24.994564554064645,24.92849613049365,25.03520571945827,24.92266626059585,24.9860947099692,25.13238319830466,25.025309501132792,24.958306882103972,25.04675856976031,24.929514592283287,24.95981993010759,24.960661244637514,24.920927241052084,25.01081644066602,24.953120937055804,24.865437070491524,25.05915309234124,25.042965586253793,24.969377662610015,25.01633742128173,24.900860682971857,24.948863956899853,25.065049990123036,24.91488496555865,25.044097324212,24.944847598378406,24.995491421975117,25.08770855652205,25.093540013545525,24.927716170603013,24.93522548933534,24.952351289802323,24.922051502863017,24.958994694746366,25.0699128481787,25.009922646772665,24.922632831928915,24.951322145497034,24.886224797053373,24.968315669282884,25.03738527800789,24.962449096838952,24.92838680681485,25.02598126719749,24.944108448690564,25.1397338497351,25.081419652115535,24.885074859830013,24.92114780282718,24.96818478624657,25.062061347903313,25.08510832788745,24.943624797014568,24.894237672546165,24.921988497976546,25.003574937100684,25.08054252770821,24.93570656936553,24.97683679115485,25.070338046956387,24.98656864611934,24.905486893178516,24.912371344225676,24.95734330300132,25.050369033537272,25.02945943977716,25.069434171229975,24.94906839622012,24.945535931765775,24.95256688093419,25.043137557184057,24.887790920638597,24.99038290275093,24.91534140416129,24.92206865524111,24.949168969449428,24.925349125904006,24.963630016069814,25.073182063229815,24.945637977039294,24.941850375864426,25.05040670426308,24.899405766976805,24.940297014942907,24.9200179457477,25.134060053491226,25.055290783412264,24.845420932321407,24.924615966028664,25.102438627161533,24.90318439447781,24.878729394030437,24.979602545794396,25.050260711488765,24.931833936087827,24.91579576814079,25.028635217606443,25.052345666172332,25.04965215024204,25.02669735970556,25.117594309724566,24.923117687423524,25.146566969641032,24.95527911905001,24.934484968481254,24.866054504094162,25.049861787134727,24.98994574993224,24.903888592143243,24.921210276270777,25.108535001689365,25.015787055782535,24.938693838135706,25.082936959052343,24.876411310071465,24.957594149911127,24.911831701022813,25.00753656597726,24.92402537995822,24.958647942113576,24.97802134511507,24.940879600949543,25.010046467301223,24.9969603900044,25.065342861047576,24.94233304247057,24.95559692523195,24.966864701677817,25.119577237447746,24.97638685141954,24.96678883273735,24.947447662149848,24.913078910780897,24.94257331055471,25.1029659298221,24.908642396143087,25.106101213183308,24.938587604929822,24.92713628192786,24.946361867459586,24.95865386501305,24.89916221380233,25.017583230133113,24.91939207768617,25.142820188851065,24.938758286064715,24.92941338883799,25.08647700020586,25.026226335610914,24.924939248133743,25.02505118320805,24.926560320157453,25.085888347729693,24.94815357692627,24.900823903247847,24.89898471355905,24.945274601137488,24.861837689814934,24.94608103855031,24.9578132569016,24.943784435922126,25.003313266445456,25.005907903506085,25.071905616557633,24.95851063532928,24.966648444565475,24.878007674847744,24.940955461754182,25.142683782939947,24.988157819561533,24.933820763284242,24.92428808050574,24.99276210202414,24.929035911906556,24.942310124221144,25.059529858422742,24.934504813489056,24.872050944634143,25.066105855319478,24.929109463647755,24.968743974352588,24.930841399690493,25.008678916960502,24.935742203878817,24.99099824951072,25.043651721383906,24.8851141893606,25.03710492218518,25.124063008806807,24.902303067058664,24.94439319438587,24.94826195406336,24.88785253385247,24.874518576098712,25.049304813800994,24.948536747352257,24.922509576144453,24.952526220895173,25.04826828663891,25.11140604085509,24.950242186566236,24.962115187219062,24.889403365256673,25.13813736330514,24.99641971532386,25.07541161011053,25.07603285426244,24.956659793714135,24.86319536820085,24.896031952119912,25.055175288476775,24.869431604673817,24.946135484400425,24.99803099203767,24.934081042249108,24.939025537113007,24.91554066925312,24.93565772200899,25.035537832208412,25.029396333259204,24.971925084910136,24.9629400396729,24.961141714995485,24.928730922763684,24.991447029916085,24.947084860360615,24.9913418052847,25.008879407456945,24.920689552818573,24.92831208827431,24.943501208102298,24.927710883900783,24.94914990552404,24.933851078940826,24.952981505434224,24.9202521939125,25.134012350889734,24.952263976363337,25.019165752327545,25.100336681734387,25.080408750026344,25.028322700943352,25.14506712926581,24.966280619012075,25.01438434976481,24.93982484161455,25.034414990832285,24.899098368320697,24.956051189008654,25.08062655306384,24.959048804663766,24.90483325159151,24.932602534963905,24.94378785965907,24.954909569635834,24.93735220588487,24.91238935419537,24.960897571548937,24.91176774300622,24.95804304574269,25.021112901309724,24.910360080747505,24.964369767945794,24.881830438900735,24.92251976195156,24.92945819334259,24.94391377505297,24.877334095169154,25.044116994984666,24.915629246990097,24.933166291447385,24.833838511323087,24.888282172861707,24.923479756607367,24.87567668905354,25.09097450623517,24.94945817724183,24.9509380651585,24.858929492663837,24.893665372260493,24.955547338335364,24.939361874821653,24.921208448438215,24.948046552831215,24.936093427558735,24.90237824800013,24.96480900816624,24.902643766060596,24.95427393140211,24.93603099203936,24.948413707681617,24.918606788943094,24.94796524200334,24.91588058645515,24.92773007663638,25.057867961935894,25.036973216290246,24.89499924707286,24.998772741167176,25.021454465188768,24.94980118976464,24.926517694905687,24.94714168445401,25.04699682701857,24.950481124489624,24.90848261144573,24.9125556072439,24.96581017264654,24.970074883289055,24.890046534591843,24.948171413408744,25.132526174710357,24.955485620809302,24.87099500840124,24.96058817465948,24.94662666699659,24.93038262025715,24.907417700077076,24.951579178056992,25.001127391379715,24.95825406594182,24.965051998513673,24.92793130356894,25.04062153389253,24.931761956930313,24.960134981035427,24.957287816672824,25.04499724414931,24.95326908056463,24.949613020985662,24.929746322136822,25.021748753456656,24.864961247748756,25.01108310454134,24.89953786326456,25.04027980189557,24.940254222578073,25.079012821379457,24.942669421233052,25.06638759729257,24.86205781042676,24.92849242853555,24.88390507485053,25.038217292497702,24.920869553701547,24.955395777231164,24.938144383139715,24.979553747482388,24.91318096866073,24.954968759138087,24.92857651598292,25.01547456986592,25.038678478044545,24.989574007570603,25.02759112553238,24.944407662582044,24.950180354443823,24.915759730696426,24.923643691917786,24.939498532281966,24.87502587499918,25.086047513048356,24.934814969576323,24.964099207299313,24.87986229373342,25.028184625921472,24.88048826461184,24.970445862039437,25.004399674916574,24.946234542294516,24.964822862583194,24.933318574342803,24.89303588162041,24.88738963432688,24.950308608440725,24.929183857712466,24.96143665238318,25.123394013343653,25.002809918104884,24.904150416023246,24.93460629904797,24.920946363653673,24.991645268993476,25.131339031792166,24.927344481705646,24.961875691570167,24.945562143522185,24.875689832152148,24.92274055255269,24.896620448297625,25.086125687806636,24.935530410444798,25.13794909348112,24.998781261101296,24.937675045838663,25.002237726202978,24.945452667660756,24.884992984885336,25.08481089834098,24.942323567754002,24.922709042133988,25.126370450803112,24.92774889676129,25.137605970116557,24.94049084244567,25.005211759717263,25.056128190606756,24.921162160042403,24.951246206821374,25.070339237508627,24.93337479276917,25.043151044031227,24.960827097355764,24.945107968956197,24.958872524832472,25.043815547397887,25.083471275115144,24.91982878176742,25.062955485277286,24.93346877702308,24.919934480360777,25.059043351722252,25.01798128284104,24.934181003690327,24.882334122803353,24.966527848130696,24.945953616559997,25.00907241743999,25.05715312853652,25.021500502565807,24.949383137876602,25.085868345809857,24.910178178408895,24.894038739216057,24.919364969846868,24.942084039671954,25.191379760046622,24.901327657139124,24.958963232347923,25.08606012114518,24.930573387195366,24.963115646886685,24.925981064227404,25.1499275682706,25.04194697099969,24.98056704720806,24.86422033005734,25.103973768806206,24.98070193016224,24.96548051217441,25.020719395305367,24.961841285401118,24.990152219578885,24.847930993566624,24.988779235309615,25.08192509107345,25.07611865139715,24.944969258602107,24.927725540737498,25.01118078064844,24.945160924872532,24.99162060443673,24.95014370944466,25.08157740203781,25.061165441259156,24.920145238591665,24.950740831842417,24.878803541812687,25.048724385356664,24.933693623412925,24.936158850524365,25.000345593102427,24.866952904313592,24.953880633815075,25.021041519153624,24.89955566786697,24.963874170812502,24.899281293199103,24.937221068941327,24.954167019311118,24.9275216013944,25.06771198103149,25.067219387041064,24.94567342261805,25.06260870214427,24.92111547284949,24.978531271148405,25.123383671468677,24.988160647841685,24.96206202382926,24.882809559230026,24.976772368699404,24.924488527520847,24.925256939833172,24.930199031376176,24.901285519249463,24.93979020891288,24.965797688915135,24.878776810069894,25.013142024620535,25.011286422184305,25.077855540861524,25.195895618977783,24.924479016597743,24.849595656303293,25.088139278839424,24.961170584111983,25.04366622999737,24.996193512243718,24.884620563153664,25.147092561920118,24.88910627515377,24.88024273778083,24.930028301860737,25.035165207550058,24.954737481491936,24.96331289972141,24.940986917311868,25.030331741181936,24.947962481963245,24.9606424567017,25.100747758928396,24.978433349855585,25.083245071660375,25.072136723824624,25.009898303533667,24.93118877337876,24.911032476128735,24.966653198818786,24.847549274107557,24.877975266563052,25.16035707316827,25.00984972955134,24.89678527817713,24.962081503951,25.091003051736035,24.945378323401723,24.96807729311124,24.916122627282604,24.98143603817909,25.031545263607875,24.979990641196522,25.084056107590015,24.956348527945323,24.895498729203204,24.946034908278317,24.898798238560477,25.001294994883413,24.90708431542494,25.08100400485408,24.932431340675596,24.948419178077096,24.946397449743085,25.069842312011108,24.953252387131684,24.95425542188297,24.994060367616346,25.01668037727617,25.15023353386069,24.957163731019342,24.9208151911905,24.95415947375025,24.921241889360996,24.928626119534286,24.939407804914616,25.03238233008385,24.950033447732633,25.078733748066618,24.88332000985517,25.10047098593025,24.899008675425563,24.95191227622999,25.03287233758939,24.91730788569683,24.93201874616671,24.983137870584606,24.96525115717093,24.89761663819765,24.925889675306102,25.10685023461825,24.88921378801965,24.988876655100064,24.95787498556495,24.88445705154672,25.118695625508295,24.929700480097125,24.915989576046915,25.102491212691866,24.91614029062419,24.953966720104194,25.04408033084131,24.98223790680114,24.86946105445929,25.05963501722086,25.034976076358248,24.95078828281102,24.85419943058914,24.928826667189174,24.926339529646743,24.873494015520453,25.00536184373332,24.93823086759062,24.929797035989814,24.92098465980361,24.949418669438078,24.987771332065044,24.998220145550658,25.042048543021995,24.99586010290211,24.908218129429216,24.929957326223416,24.954488949628104,25.079603321356405,24.919710292449537,24.955593217374613,24.848278122344087,24.950680926882477,25.04625927195433,24.948980613246388,24.96765980944166,24.89883683955554,25.05096027424941,24.912533332758027,25.035437479537915,24.920354943440888,24.960719826044222,25.08194816454439,24.95959349065067,24.94814891695958,24.89267116315467,25.149672904519974,24.94807551174151,24.89531991998693,25.049510535739525,24.947608366299704,24.931778125215924,25.06408135864833,25.048289540310186,24.959004766176893,24.862554415288805,24.951386053203077,24.940305145091948,25.094669461495137,24.892583784841896,24.8597983507338,24.962532928930116,25.081386964790706,24.94317403777336,25.014514637948793,24.988947966046922,24.95882141624806,24.889486661472116,25.052554130124186,25.131642037219112,24.954908149996676,24.929852551207787,25.00473436641794,24.976087017679863,25.07591364529022,24.920715598353066,24.89512766947815,24.885638096063435,24.897348190602496,24.8664548989745,24.95287073276836,24.96558125967707,25.048269316767357,24.992245153206255,24.99236465154595,24.948037082719583,25.030170277726008,24.911130359508185,24.961625359193594,24.961621591704816,25.03169786697813,25.083552854978688,24.951424508232904,25.046973533727552,25.04088603160736,25.10268779754432,24.985707988699737,25.04955160024918,25.021767503213564,24.952826189494175,25.003169406226235,24.961366009361768,24.92920288265965,24.940381189825718,24.847407993644467,24.949231165400796,24.845324551698287,24.949134788437526,24.94565472030143,24.919898288519178,24.923378420063827,24.853879756035617,25.107764602327773,25.05315376994557,24.899217287022026,24.94282430670605,24.84329096455846,25.007159859232054,24.920972783355207,24.862222840407107,24.871856448588854,25.073912872997855,24.965634637241962,24.880757347176452,24.92933119085596,24.95126178394481,24.922282895169293,24.982203540303626,24.930070617891154,24.943980877669457,25.04096859907496,24.94816631086987,24.859040556266475,24.921944512106954,24.90400801928661,24.91936824175504,24.88210239696305,24.965462622546813,24.88759738349136,25.02767119901187,25.039928049868326,24.919486850142967,24.922105648653204,25.061843837733576,24.91825963793494,24.945996355282116,24.93197098044589,25.028903262567642,25.050978122026535,24.966536274632595,24.94900033986816,24.87987055213709,24.84781664339227,24.96653945242512,25.02613915322302,25.08227489132702,25.076141084674408,24.937511753247005,25.046903611183975,24.882348508307828,24.94407137058256,25.029588774299626,24.935212605055607,24.92549505252471,25.033645307061978,25.082286720487144,24.87385039811353,24.89444643532572,24.88109577878038,25.013479676271775,24.896149114432653,24.945660849509537,24.88938794423669,25.106203403625067,24.88033424735767,24.899193271364958,24.90085549241102,24.882578491081414,24.89224507065493,24.925773148036793,24.9928302517351,25.10340667753379,24.940356923877392,24.99834847816977,24.922325553769603,24.845183133279637,24.950607806885692,25.02086832251466,25.00107717859367,25.06130648554157,24.958691417370876,24.953187208075136,24.862342824123367,25.07770800820943,25.035353943345314,24.97194441904448,25.00801724950937,25.018000914892983,25.11738661135842,25.056831199947002,24.9541082011632,24.96279386527025,24.925370181566226,24.956631089287026,24.944312744193663,24.96624546743317,24.936764181232302,24.90157362805978,25.03637936772212,24.935123877663386,24.954076998455637,24.932919924141167,25.097695191559303,25.08696142657789,24.926796514851457,24.962010740368385,25.120831070892535,24.900404614040017,24.896758384554477,25.126799890037258,24.9629806174939,24.95257925647744,24.952293511075805,24.950967400240263,25.161374228921133,24.93412236814988,24.935938777993933,24.961478251676652,24.923048875490977,24.92776335975898,24.92299051782726,24.97091745605265,24.930293748957272,24.92577679975556,25.049398663403604,24.952699111348302,25.004046839251775,24.94657524853867,24.956884759115606,24.920776555982304,24.961999962957115,24.9365327067521,24.937541054545825,24.941886810561915,24.849076153916812,25.06215452957829,24.84608439463409,24.85017375534688,24.993763634273634,24.855989387953397,25.08014401604155,25.057944208116158,24.95949872416582,24.918527328299035,24.935749108612033,24.890835938426132,24.923886313142823,24.969649662487566,24.9893593130858,24.968001234677107,24.889672089665783,25.008279377591677,25.01013194737943,24.898923619206915,25.030934252840364,25.160901148156004,25.087450936012523,24.92640978145295,24.862491344171186,24.84383539472624,24.943800021531025,25.053204731412606,25.002200289171736,24.96696262429839,24.888454284810752,25.019617229497328,24.971943139406967,24.96084605200299,24.97547547863988,24.848766165609607,25.163120763576384,25.004280142560027,25.060121657418755,24.965364477322858,24.931287890404715,24.88288815934021,25.049663306246575,25.040723859516202,24.956162293365978,24.950242648263092,24.924262969503783,24.907809538807275,24.88430539531828,25.081863815457417,24.935634916929818,25.064007002809156,25.081955970386456,24.95701333997388,24.961905304547557,24.858043219435434,25.03952548843509,24.918167346082708,24.897605293190985,24.992436043116495,24.933194915993024,25.077888383608208,24.943875834635982,24.94499677271741,25.048969164367584,24.881984216989853,24.903282456725,24.95138424544975,24.965818698580406,24.948855947126376,25.012813670869782,24.94557508809364,25.020146919634655,24.943801811756096,24.900844880237443,25.07786911199184,25.18080027492572,25.04967382651549,24.909807611298206,24.928746770829303,24.910603414419125,24.898971304225924,25.019609983595124,24.943518467654794,24.86623709566114,24.97070317631524,24.956930982810928,24.877673545747278,25.074784511132126,24.862321156503025,24.92889660171084,25.014846447719986,25.16052224760385,24.965997329819256,24.933379816319587,24.922871886340097,24.981642137086606,24.88388850030246,24.91165486300209,24.948914971584458,25.02970182602575,25.025694314252217,24.889832208952075,24.95271663507541,24.84753996991575,24.98384479072051,25.085114022372554,25.08209297339434,25.010831552129225,24.895154693107298,24.920871909409506,24.966142846570754,25.02100156125943,24.975335283082533,25.014950266359946,25.012338903815277,24.93093060542528,24.996829084353266,25.0335974537274,24.921412716170128,24.99204756253292,24.977211417563097,25.043096915495823,25.075658495351306,25.006023960645713,25.13541343532026,24.907878375023486,24.94298142023383,24.949518851698745,24.947416461336136,24.904549208229966,24.989964659832427,24.96143880353081,24.99614921294655,25.065601731923817,24.858981858505363,25.078963970905637,24.884049872899972,25.03135000192606,24.84932503083803,24.945737708191203,25.127352919187018,25.031910790078285,24.883517125296937,25.042102612931455,25.235139107788775,25.04916585611616,24.88197072380982,25.11574983453938,24.854929609518514,25.07330266836207,24.881373054051938,25.19150348753065,24.975635705981865,25.03091529908863,24.851509073308417,24.89502376043917,25.075012118141583,25.0450160574455,24.885141334919474,25.10423312457784,24.918211153060444,24.860075396455564,25.081208643645475,24.94352157169352,25.137348070245675,24.9285567118762,24.898622848506342,25.053224053032558,25.198577226163138,25.13406071600448,24.854263337694807,24.91913745553897,25.086001787380003,24.945387067911746,24.959742904914272,24.897827230058425,24.988950906054757,24.927264523698437,25.08859925594916,25.134092062012414,24.869333592844153,25.149902986077304,24.94997425546043,25.036465689751545,25.132575214833743,24.93711877339594,24.95130830795055,25.067547573094952,25.10505109057148,24.939607701609322,25.077043488282634,24.885525415650807,25.057456366793588,24.897216531584274,25.11483033435397,24.883170625888983,24.970066649587856,24.9480162197393,24.953056545708257,24.95320489155696,24.94354168576026,25.04996467029139,24.902711033050227,24.931799728800126,24.84807203237305,25.014103908676248,24.94569670366544,25.04755043607881,25.108954386815054,25.076460408314322,25.139474115782505,24.853015320690886,24.855342192303713,24.864659728288085,24.877415777063224,24.877481021822362,24.884469772057543,24.896285028988103,24.915726417780895,24.919188559613207,24.93494391337635,24.941410325531272,24.94307204037449,24.946156265055514,24.949226551856736,24.952175885762358,24.95464413864966,24.955527054132926,24.958664227932402,24.964668249061535,24.965460154333726,24.968494175535074,24.971625864451823,25.047009429116617,25.051429795143193,25.05422058920315,25.070374567730585,25.081912270440082,25.085796286031137,25.087409900243586,24.86256339091912,24.86457855300358,24.88467144947607,24.895229981085155,24.895980930066823,24.95656626261602,24.966370514825233,24.983020234026217,25.012612324398997,25.021950007803262,25.027476952098375,25.030727674249622,25.07964933007186,24.878854583599406,24.897631784277873,24.90734020286644,24.91144584763732,24.91678127183936,24.923528825617844,24.93155068297507,24.94349210097415,24.943935330182086,24.944157583738978,24.950660451500433,24.95694327543814,24.958260883913102,24.960455224482097,24.97271372858444,24.999265488105216,25.007304660119644,25.047814637746725,25.07296808528217,25.119127481925315,25.13751520975982,25.149156268006074,24.87582595653639,24.902641772373027,24.9050182001545,24.933600452169607,24.95911475736518,25.013110216491516,25.024608123368747,25.07480721067614,25.13550669624107,25.018942476745686,24.92692640017173,25.05628957318678,24.866444388016394,24.92270615088688,24.844198780370412,25.149905181077592,25.0764117605951,25.038777440647713,24.837589916120493,24.93153431537522,24.899946801194005,24.92522493927871,24.961039876602577,25.06448980410785,25.0830583430019,24.973631359531016,25.08180352406825,25.055654413476386,24.977659210323477,24.84266395132041,24.984680779704824,25.175454751682306,24.84935325031314,24.84841752422507,24.935452036954217,24.95698570079918,24.9435293710908,24.872333009551344,24.964157504438045,25.077458513010082,25.1065336652336,25.054985403822055,24.991972584534757,25.029588951718544,25.07617489780587,24.88096684520357,25.11054249786605,24.92282729543197,24.980218077534033,24.945469447384195,24.937901756500924,24.974947391685625,24.957274313195057,24.87751924607389,25.046968379413567,24.950398716208554,24.942937795346285,24.94253728424975,24.940127020538316,24.88872180974869,24.979483475082464,24.90105095675028,24.950146155648362,24.932085954813008,24.958986181526903,24.9632199269409,25.009554323165094,24.958797028429803,25.024294973623125,24.92089720082955,24.93159301979251,25.040528924856943,24.948222629396895,24.875930331715292,25.104313108259163,25.078805507085615,24.91160084340312,24.966195987393952,25.021515133235177,24.920163702127915,24.999006724488794,24.910078632738347,24.921337390774355,24.928953074412107,24.907250032903118,24.96266019013804,24.950194771660172,24.944992742130538,24.94383826824392,24.948553537504996,24.879297888982546,25.052450595632678,25.08758744726263,24.87949320380922,25.117654412305264,24.843666027977466,24.946668192810215,25.076446468326175,24.95122789500398,24.921839201682268,24.907861559926967,24.876880954614986,24.927573087401168,24.912853828431967,24.95168094166472,25.002504376052965,24.976839150523038,25.145487819800586,25.076006103330187,24.902359287784158,24.948169739210183,24.885125023633176,24.934760995851967,25.053861551691796,25.168819197449608,24.97907620531908,24.988262840586636,25.12407687663686,24.92336388067994,24.889734115431892,24.979184117619358,24.9617225760301,24.954165632202923,24.955767455301782,25.027622445456004,25.098199314626406,24.92636051174113,24.856914824061786,24.860070315698085,25.14989733065227,25.053471680012365,24.85965912494016,25.136145736848366,25.01506210675483,24.938566321763695,24.88431909356283,24.945131811986062,25.052264959975304,24.921202024807606,24.966723318411457,25.03603151028978,25.11893901974057,25.037171905169615,25.04994385403826,24.991402304849302,24.940575533620663,24.987708102091066,24.931767307830754,24.95989855470185,25.0315270265678,24.846309549535732,24.93164560741922,24.963097946743083,24.96158975319142,24.966996158827612,24.93969361122371,25.0684605307964,25.08759898049744,25.038265716549507,24.894948306847635,25.036661563663642,24.892833294264282,24.961426986929084,24.881412367848146,25.00284412937962,25.05730773235814],\"marker\":{\"color\":\"red\",\"opacity\":0.9},\"mode\":\"markers\",\"name\":\"\",\"showlegend\":false,\"subplot\":\"mapbox\",\"type\":\"scattermapbox\"}],                        {\"template\":{\"data\":{\"bar\":[{\"error_x\":{\"color\":\"#2a3f5f\"},\"error_y\":{\"color\":\"#2a3f5f\"},\"marker\":{\"line\":{\"color\":\"#E5ECF6\",\"width\":0.5},\"pattern\":{\"fillmode\":\"overlay\",\"size\":10,\"solidity\":0.2}},\"type\":\"bar\"}],\"barpolar\":[{\"marker\":{\"line\":{\"color\":\"#E5ECF6\",\"width\":0.5},\"pattern\":{\"fillmode\":\"overlay\",\"size\":10,\"solidity\":0.2}},\"type\":\"barpolar\"}],\"carpet\":[{\"aaxis\":{\"endlinecolor\":\"#2a3f5f\",\"gridcolor\":\"white\",\"linecolor\":\"white\",\"minorgridcolor\":\"white\",\"startlinecolor\":\"#2a3f5f\"},\"baxis\":{\"endlinecolor\":\"#2a3f5f\",\"gridcolor\":\"white\",\"linecolor\":\"white\",\"minorgridcolor\":\"white\",\"startlinecolor\":\"#2a3f5f\"},\"type\":\"carpet\"}],\"choropleth\":[{\"colorbar\":{\"outlinewidth\":0,\"ticks\":\"\"},\"type\":\"choropleth\"}],\"contour\":[{\"colorbar\":{\"outlinewidth\":0,\"ticks\":\"\"},\"colorscale\":[[0.0,\"#0d0887\"],[0.1111111111111111,\"#46039f\"],[0.2222222222222222,\"#7201a8\"],[0.3333333333333333,\"#9c179e\"],[0.4444444444444444,\"#bd3786\"],[0.5555555555555556,\"#d8576b\"],[0.6666666666666666,\"#ed7953\"],[0.7777777777777778,\"#fb9f3a\"],[0.8888888888888888,\"#fdca26\"],[1.0,\"#f0f921\"]],\"type\":\"contour\"}],\"contourcarpet\":[{\"colorbar\":{\"outlinewidth\":0,\"ticks\":\"\"},\"type\":\"contourcarpet\"}],\"heatmap\":[{\"colorbar\":{\"outlinewidth\":0,\"ticks\":\"\"},\"colorscale\":[[0.0,\"#0d0887\"],[0.1111111111111111,\"#46039f\"],[0.2222222222222222,\"#7201a8\"],[0.3333333333333333,\"#9c179e\"],[0.4444444444444444,\"#bd3786\"],[0.5555555555555556,\"#d8576b\"],[0.6666666666666666,\"#ed7953\"],[0.7777777777777778,\"#fb9f3a\"],[0.8888888888888888,\"#fdca26\"],[1.0,\"#f0f921\"]],\"type\":\"heatmap\"}],\"heatmapgl\":[{\"colorbar\":{\"outlinewidth\":0,\"ticks\":\"\"},\"colorscale\":[[0.0,\"#0d0887\"],[0.1111111111111111,\"#46039f\"],[0.2222222222222222,\"#7201a8\"],[0.3333333333333333,\"#9c179e\"],[0.4444444444444444,\"#bd3786\"],[0.5555555555555556,\"#d8576b\"],[0.6666666666666666,\"#ed7953\"],[0.7777777777777778,\"#fb9f3a\"],[0.8888888888888888,\"#fdca26\"],[1.0,\"#f0f921\"]],\"type\":\"heatmapgl\"}],\"histogram\":[{\"marker\":{\"pattern\":{\"fillmode\":\"overlay\",\"size\":10,\"solidity\":0.2}},\"type\":\"histogram\"}],\"histogram2d\":[{\"colorbar\":{\"outlinewidth\":0,\"ticks\":\"\"},\"colorscale\":[[0.0,\"#0d0887\"],[0.1111111111111111,\"#46039f\"],[0.2222222222222222,\"#7201a8\"],[0.3333333333333333,\"#9c179e\"],[0.4444444444444444,\"#bd3786\"],[0.5555555555555556,\"#d8576b\"],[0.6666666666666666,\"#ed7953\"],[0.7777777777777778,\"#fb9f3a\"],[0.8888888888888888,\"#fdca26\"],[1.0,\"#f0f921\"]],\"type\":\"histogram2d\"}],\"histogram2dcontour\":[{\"colorbar\":{\"outlinewidth\":0,\"ticks\":\"\"},\"colorscale\":[[0.0,\"#0d0887\"],[0.1111111111111111,\"#46039f\"],[0.2222222222222222,\"#7201a8\"],[0.3333333333333333,\"#9c179e\"],[0.4444444444444444,\"#bd3786\"],[0.5555555555555556,\"#d8576b\"],[0.6666666666666666,\"#ed7953\"],[0.7777777777777778,\"#fb9f3a\"],[0.8888888888888888,\"#fdca26\"],[1.0,\"#f0f921\"]],\"type\":\"histogram2dcontour\"}],\"mesh3d\":[{\"colorbar\":{\"outlinewidth\":0,\"ticks\":\"\"},\"type\":\"mesh3d\"}],\"parcoords\":[{\"line\":{\"colorbar\":{\"outlinewidth\":0,\"ticks\":\"\"}},\"type\":\"parcoords\"}],\"pie\":[{\"automargin\":true,\"type\":\"pie\"}],\"scatter\":[{\"marker\":{\"colorbar\":{\"outlinewidth\":0,\"ticks\":\"\"}},\"type\":\"scatter\"}],\"scatter3d\":[{\"line\":{\"colorbar\":{\"outlinewidth\":0,\"ticks\":\"\"}},\"marker\":{\"colorbar\":{\"outlinewidth\":0,\"ticks\":\"\"}},\"type\":\"scatter3d\"}],\"scattercarpet\":[{\"marker\":{\"colorbar\":{\"outlinewidth\":0,\"ticks\":\"\"}},\"type\":\"scattercarpet\"}],\"scattergeo\":[{\"marker\":{\"colorbar\":{\"outlinewidth\":0,\"ticks\":\"\"}},\"type\":\"scattergeo\"}],\"scattergl\":[{\"marker\":{\"colorbar\":{\"outlinewidth\":0,\"ticks\":\"\"}},\"type\":\"scattergl\"}],\"scattermapbox\":[{\"marker\":{\"colorbar\":{\"outlinewidth\":0,\"ticks\":\"\"}},\"type\":\"scattermapbox\"}],\"scatterpolar\":[{\"marker\":{\"colorbar\":{\"outlinewidth\":0,\"ticks\":\"\"}},\"type\":\"scatterpolar\"}],\"scatterpolargl\":[{\"marker\":{\"colorbar\":{\"outlinewidth\":0,\"ticks\":\"\"}},\"type\":\"scatterpolargl\"}],\"scatterternary\":[{\"marker\":{\"colorbar\":{\"outlinewidth\":0,\"ticks\":\"\"}},\"type\":\"scatterternary\"}],\"surface\":[{\"colorbar\":{\"outlinewidth\":0,\"ticks\":\"\"},\"colorscale\":[[0.0,\"#0d0887\"],[0.1111111111111111,\"#46039f\"],[0.2222222222222222,\"#7201a8\"],[0.3333333333333333,\"#9c179e\"],[0.4444444444444444,\"#bd3786\"],[0.5555555555555556,\"#d8576b\"],[0.6666666666666666,\"#ed7953\"],[0.7777777777777778,\"#fb9f3a\"],[0.8888888888888888,\"#fdca26\"],[1.0,\"#f0f921\"]],\"type\":\"surface\"}],\"table\":[{\"cells\":{\"fill\":{\"color\":\"#EBF0F8\"},\"line\":{\"color\":\"white\"}},\"header\":{\"fill\":{\"color\":\"#C8D4E3\"},\"line\":{\"color\":\"white\"}},\"type\":\"table\"}]},\"layout\":{\"annotationdefaults\":{\"arrowcolor\":\"#2a3f5f\",\"arrowhead\":0,\"arrowwidth\":1},\"autotypenumbers\":\"strict\",\"coloraxis\":{\"colorbar\":{\"outlinewidth\":0,\"ticks\":\"\"}},\"colorscale\":{\"diverging\":[[0,\"#8e0152\"],[0.1,\"#c51b7d\"],[0.2,\"#de77ae\"],[0.3,\"#f1b6da\"],[0.4,\"#fde0ef\"],[0.5,\"#f7f7f7\"],[0.6,\"#e6f5d0\"],[0.7,\"#b8e186\"],[0.8,\"#7fbc41\"],[0.9,\"#4d9221\"],[1,\"#276419\"]],\"sequential\":[[0.0,\"#0d0887\"],[0.1111111111111111,\"#46039f\"],[0.2222222222222222,\"#7201a8\"],[0.3333333333333333,\"#9c179e\"],[0.4444444444444444,\"#bd3786\"],[0.5555555555555556,\"#d8576b\"],[0.6666666666666666,\"#ed7953\"],[0.7777777777777778,\"#fb9f3a\"],[0.8888888888888888,\"#fdca26\"],[1.0,\"#f0f921\"]],\"sequentialminus\":[[0.0,\"#0d0887\"],[0.1111111111111111,\"#46039f\"],[0.2222222222222222,\"#7201a8\"],[0.3333333333333333,\"#9c179e\"],[0.4444444444444444,\"#bd3786\"],[0.5555555555555556,\"#d8576b\"],[0.6666666666666666,\"#ed7953\"],[0.7777777777777778,\"#fb9f3a\"],[0.8888888888888888,\"#fdca26\"],[1.0,\"#f0f921\"]]},\"colorway\":[\"#636efa\",\"#EF553B\",\"#00cc96\",\"#ab63fa\",\"#FFA15A\",\"#19d3f3\",\"#FF6692\",\"#B6E880\",\"#FF97FF\",\"#FECB52\"],\"font\":{\"color\":\"#2a3f5f\"},\"geo\":{\"bgcolor\":\"white\",\"lakecolor\":\"white\",\"landcolor\":\"#E5ECF6\",\"showlakes\":true,\"showland\":true,\"subunitcolor\":\"white\"},\"hoverlabel\":{\"align\":\"left\"},\"hovermode\":\"closest\",\"mapbox\":{\"style\":\"light\"},\"paper_bgcolor\":\"white\",\"plot_bgcolor\":\"#E5ECF6\",\"polar\":{\"angularaxis\":{\"gridcolor\":\"white\",\"linecolor\":\"white\",\"ticks\":\"\"},\"bgcolor\":\"#E5ECF6\",\"radialaxis\":{\"gridcolor\":\"white\",\"linecolor\":\"white\",\"ticks\":\"\"}},\"scene\":{\"xaxis\":{\"backgroundcolor\":\"#E5ECF6\",\"gridcolor\":\"white\",\"gridwidth\":2,\"linecolor\":\"white\",\"showbackground\":true,\"ticks\":\"\",\"zerolinecolor\":\"white\"},\"yaxis\":{\"backgroundcolor\":\"#E5ECF6\",\"gridcolor\":\"white\",\"gridwidth\":2,\"linecolor\":\"white\",\"showbackground\":true,\"ticks\":\"\",\"zerolinecolor\":\"white\"},\"zaxis\":{\"backgroundcolor\":\"#E5ECF6\",\"gridcolor\":\"white\",\"gridwidth\":2,\"linecolor\":\"white\",\"showbackground\":true,\"ticks\":\"\",\"zerolinecolor\":\"white\"}},\"shapedefaults\":{\"line\":{\"color\":\"#2a3f5f\"}},\"ternary\":{\"aaxis\":{\"gridcolor\":\"white\",\"linecolor\":\"white\",\"ticks\":\"\"},\"baxis\":{\"gridcolor\":\"white\",\"linecolor\":\"white\",\"ticks\":\"\"},\"bgcolor\":\"#E5ECF6\",\"caxis\":{\"gridcolor\":\"white\",\"linecolor\":\"white\",\"ticks\":\"\"}},\"title\":{\"x\":0.05},\"xaxis\":{\"automargin\":true,\"gridcolor\":\"white\",\"linecolor\":\"white\",\"ticks\":\"\",\"title\":{\"standoff\":15},\"zerolinecolor\":\"white\",\"zerolinewidth\":2},\"yaxis\":{\"automargin\":true,\"gridcolor\":\"white\",\"linecolor\":\"white\",\"ticks\":\"\",\"title\":{\"standoff\":15},\"zerolinecolor\":\"white\",\"zerolinewidth\":2}}},\"mapbox\":{\"domain\":{\"x\":[0.0,1.0],\"y\":[0.0,1.0]},\"center\":{\"lat\":60.21218898797167,\"lon\":24.97403583061969},\"zoom\":10,\"style\":\"satellite-streets\",\"accesstoken\":\"pk.eyJ1IjoiaG9sZXpla2tpIiwiYSI6ImNsMXFpZWptejBtc2EzY211cnBob2RtdHAifQ.g08p_WBGItqghHsU7HuKHg\"},\"legend\":{\"tracegroupgap\":0},\"margin\":{\"t\":0,\"r\":0,\"l\":0,\"b\":0},\"height\":500,\"width\":1000},                        {\"responsive\": true}                    ).then(function(){\n",
              "                            \n",
              "var gd = document.getElementById('7b6356dd-e670-483a-af5b-b8a9327c6d8c');\n",
              "var x = new MutationObserver(function (mutations, observer) {{\n",
              "        var display = window.getComputedStyle(gd).display;\n",
              "        if (!display || display === 'none') {{\n",
              "            console.log([gd, 'removed!']);\n",
              "            Plotly.purge(gd);\n",
              "            observer.disconnect();\n",
              "        }}\n",
              "}});\n",
              "\n",
              "// Listen for the removal of the full notebook cells\n",
              "var notebookContainer = gd.closest('#notebook-container');\n",
              "if (notebookContainer) {{\n",
              "    x.observe(notebookContainer, {childList: true});\n",
              "}}\n",
              "\n",
              "// Listen for the clearing of the current output cell\n",
              "var outputEl = gd.closest('.output');\n",
              "if (outputEl) {{\n",
              "    x.observe(outputEl, {childList: true});\n",
              "}}\n",
              "\n",
              "                        })                };                            </script>        </div>\n",
              "</body>\n",
              "</html>"
            ]
          },
          "metadata": {}
        },
        {
          "output_type": "display_data",
          "data": {
            "text/plain": [
              "<Figure size 720x720 with 0 Axes>"
            ]
          },
          "metadata": {}
        }
      ]
    },
    {
      "cell_type": "markdown",
      "source": [
        "Valmista!"
      ],
      "metadata": {
        "id": "92FVCYdPkyv8"
      }
    },
    {
      "cell_type": "markdown",
      "source": [
        "##### Viikko 2 - koodaus 2\n",
        "\n",
        "Toisena viikon 2 koodauskokeiluna toteutin raapijan, joka kirjautuu työtuntikirjanpitojärjestelmään ja raapii sieltä tuntimääräni 2 ja 4 viikon kuluttua. Järjestelmän tehtävänä on pitää kirjaa onko työntekijällä lupa tehdä töitä. Luvan ylläpitoon tulee olla 100 tuntia työskentelyä puolen vuoden aikana. Aina työpisteeseen mennessä työntekijä kirjautuu järjestelmään ja sieltä ulos pouistuessaan työpisteestä. Näin tallentuu työpisteessä vietetty aika ja vaatimus siis 100h / 6kk ylittyy joka hetki. Järjestelmään siirrettäessä selaimella tulee ensin vastaan kirjautumissivu. Kirjautuminen oli toteutettu formilla ja POST metodilla joka aktivoi javascriptin. Tässä olikin opettelua miten saan kirjautumisen toimimaan. Lukuisten tuntien ja satojen google-hakujen jälkeen onnistuin tekemään python skriptin *mechanize* -kirjaston joka hoiti kirjautumisen ja avasi etusivuni josta piti siis raapia tuntimäärät."
      ],
      "metadata": {
        "id": "0GquObgRLXba"
      }
    },
    {
      "cell_type": "markdown",
      "source": [
        "##### **Viikko 2 opit**\n",
        "\n",
        "- opin lataamaan datasetin\n",
        "- opin esiprosessoimaan dataa ja tekemään yksinkertaisia visualisointeja\n",
        "- opin näyttämään datan kartoilla ja ymmärsin muutokset eri koordinaatijärjestelmästä toiseen\n",
        "- opin tekemään raapijan\n"
      ],
      "metadata": {
        "id": "IbauKCdfk2f_"
      }
    },
    {
      "cell_type": "markdown",
      "source": [
        "---"
      ],
      "metadata": {
        "id": "Pvgq0qRdsEiv"
      }
    },
    {
      "cell_type": "markdown",
      "source": [
        "#### **Viikko 3 - Koneoppimisen periaatteet**\n",
        "#### Viikko 3 tapahtumat\n",
        "Katselin keskiviikkoisen luennon ja perjantain koodi-klinikan jälkilähetyksenä.\n",
        "\n",
        "#### Viikon 3 tavoitteet\n",
        "- Mitä on koneoppiminen?\n",
        "- Mitä ovat piirteet ja miten ne liittyvät koneoppimiseen?\n",
        "- Miten koneoppimista sovelletaan datatieteessä?\n",
        "- Onko datatiede kokonaisuudessaan koneoppimista?\n",
        "- Miten koneoppiminen ja tekoäly liittyvät toisiinsa?\n",
        "\n",
        "#### Viikon 3 luentotiivistelmä ja omat oivallukset\n",
        "Viisi keskeiseintä asiaa luennolta:\n",
        "1. Koneoppimisen eri muodot\n",
        " - Ehkä yleisin, tai ainakin helpointen ymmärrättävä koneoppimisen muoto koneoppimisen muoto oh *ohjattu oppiminen*\n",
        " - Ohjatussa oppimisessa ensin esiprosessoidaan dataa ja haetaan siitä piirteitä. Koneoppimista voi käyttäää myös uusien piirteiden luomiseksi olemassa olevasta datasta.\n",
        "2. Tilastollinen analyysi vs. tilastomatematiikka: analyysi on matematiikan soveltamista\n",
        "3. Tekoäly vs. koneoppiminen: tekoäly on todella laaja käsite, koneoppiminen on \"vain\" sitä että datasta tarkkaillaan piirteitä ja pystytään kertomaan miten piirteet vaikuttaa haluttuun muuttujaan. Suurin osa tekoälyn sovelluksista vielä tänään onkin itseasiassa pelkkää koneppimista.\n",
        "4. Tilastollinen analyysi vs. koneoppiminen: analysoimalla opitaan datasta, koneoppiminen auttaa ennustamaan (prediktiivinen analyysi). Koneoppimista voi myös käyttää lisäämään dataan piirteitä.\n",
        "5-. Erittäin mielenkiintoinen oli esitys NLTK kirjaston esittely, jolla voidaan lukea tekstiä ja muokata sitä siten että piirteitä saadaan esille.\n",
        "\n"
      ],
      "metadata": {
        "id": "DEvygG8BcVQq"
      }
    },
    {
      "cell_type": "markdown",
      "source": [
        "#### Viikon 3 koodaus\n"
      ],
      "metadata": {
        "id": "1ypUmS3FSI_0"
      }
    },
    {
      "cell_type": "markdown",
      "source": [
        "#### Viikon 3 opit\n",
        "- Opin ymmärtämään mitä koneoppiminen on ja mitä erilaisia koneoppimisen muotoja on ja mitä eroja niillä on.\n",
        "- Opin ymmärtämään, että suurimmaksi osaksi kun toimittajat puhuvat *keinoälystä* niin itse asiassa kyse on koneoppimisesta.\n",
        "- Löysin aivan uuden maailman miten tekstiä voidaan prosessoida ja saada siitä selville haluttuja asioita."
      ],
      "metadata": {
        "id": "qfOnzfY0wSde"
      }
    },
    {
      "cell_type": "markdown",
      "source": [
        "---"
      ],
      "metadata": {
        "id": "R1AxydDTxAEW"
      }
    },
    {
      "cell_type": "markdown",
      "source": [
        "#### **Viikko 4 - Harjoitustyöhön tutustuminen**\n",
        "\n",
        "#### Viikon 4 tapahtumat\n",
        "- Katsoin luennon ja koodiklinikan tallenteet.\n",
        "\n",
        "#### Viikon 4 tavoitteet\n",
        "- Harjoitustyöhön syventyminen\n",
        "- Datatiedeprosessin käytäntöihin tutustuminen\n",
        "- Erilaisiin suunnittelumalleihin (prosessimallit, mahdollisuuskehikko, analytiikkakehikko) perehtyminen\n",
        "\n",
        "#### Viikon 4 luentotiivistelmä ja omat oivallukset\n",
        "1. Esiteltiin erilaisia malleja miten datatiedeprosessi saadaan aina liiketoimintakysymyksestä lopputuotteeseen johdettua hallitusti.\n",
        "- Hallitun prosessinluominen on ollut mielessä töissä jo jonkin aikaa.\n",
        "- Tähän mennessä olen tehnyt prosessin, joka kuvaa miten datatiedeprojektit saavat meillä alkunsa, kuka linjaa mitä tehdään, antaa budjetin, priorisoi projektit keskenään ja miten valmis tuote otetaan käyttöön. \n",
        "- *Opportunity Canvas* vaikutti hyvinkin käyttökelpoiselta lisältä yo. prosessiin tarkemmin kuvaamaan itse projektin eteneminen kun se on päätetty aloittaa.\n"
      ],
      "metadata": {
        "id": "Kv2El7kOxBFG"
      }
    },
    {
      "cell_type": "markdown",
      "source": [
        "---"
      ],
      "metadata": {
        "id": "1irmZ-iw7O7z"
      }
    },
    {
      "cell_type": "markdown",
      "source": [
        "#### **Viikko 5 - Vierailuluento luonnollisen kielen analyysistä** \n",
        "\n",
        "#### Viikon 5 tapahtumat\n",
        "Osallistuin luennolle etänä. Katsoin koodiklinikan jälkilähetyksenä.\n",
        "#### Viikon 5 tavoitteet\n",
        "- saada kuvaa mitä datatieteilijä tekee työkseen ohjelmistotaloissa\n",
        "\n",
        "#### Viikon 5 luentotiivistelmä ja omat oivallukset\n",
        "- Käytiin läpi luonnollisen kielen data-analyysiä esimerkin kautta.\n",
        "- Raapaistiin pintaan käytössä oleviin kirjastoihin.\n",
        "- Esiteltiin yksi tapa esiprosessoida materiaalia ja saattaa se valmiiksi seuraanaan vaiheeseen, eli varsinaisen valitun mallin käyttöön.\n",
        "- Käytiin läpi *fastText* - malli\n",
        "\n",
        "\n",
        "#### Viikon 5 opit\n",
        "- Opin mitä on NLP\n",
        "- Opin käsittelemään laajaa tekstiaineistoa ja analysoimaan sitä"
      ],
      "metadata": {
        "id": "GXZE8jTm7Sps"
      }
    },
    {
      "cell_type": "markdown",
      "source": [
        "---"
      ],
      "metadata": {
        "id": "dhKOWuid9Fi0"
      }
    },
    {
      "cell_type": "markdown",
      "source": [
        "#### **Viikko 6 - Ohjaamaton koneoppiminen** \n",
        "\n",
        "#### Viikon 6 tapahtumat\n",
        "Osallistuin luennolle etänä. Katsoin koodiklinikan jälkilähetyksenä.\n",
        "#### Viikon 6 tavoitteet\n",
        "Oppia ymmärtämään ohjaamattoman koneoppimisen periaate ja missä sitä voi käyttää.\n",
        "#### Viikon 6 luentotiivistelmä ja omat oivallukset\n",
        "Nyt vasta ymmärsin edellisillä luennoilla esiteltyä kuvaa scikit-learn cheat sheetistä.\n",
        "- Luokittelua käytetään kun ongelma vaatii luokittelua, esim. onko esitetty kuva koira vai kissa.\n",
        "- Ryvästämisessä on mahdollisuus jakaa aineisto useampaan luokkaan vaikka luokat ei ehkä ole alussa selvillä.\n",
        "- Regressiota käyetään kun vaikka halutaan ennustaa palkkaa tiettyjen piirteiden nojalla.\n",
        "\n",
        "#### Viikon 6 koodaus\n",
        "- Aloitin harjoitustyön tekemisen."
      ],
      "metadata": {
        "id": "XV8IWjqd9HPO"
      }
    },
    {
      "cell_type": "markdown",
      "source": [
        "#### **Viikko 7 - Visuaalinen analytiikka** \n",
        "\n",
        "#### Viikon 7 tapahtumat\n",
        "Katsoin luennon ja koodiklinikan jälkilähetyksenä.\n",
        "#### Viikon 7 tavoitteet\n",
        "Oppia visualisoinnin teoriaa ja nykykäytänteitä.\n",
        "#### Viikon 7 luentotiivistelmä ja omat oivallukset\n",
        "- Anaconda Nucleos oli hyvä vinkki katsella missä maailma menee.\n",
        "- Minulle selkiytyi visuaalisen analytiikan periaate. Tätä olen töissäni itse asiassa jo tehnytkin kun PowerBI:lla pystyy visualisoimaan ja luomaan osittajia tehokkaasti ja lopputuloksena saa ymmärryksen mikä asia vaikuttaa mihinkin.\n",
        "- Hyviä vinkkejä pelkkään datan \"tilastolliseen\" visualisointiin.\n",
        "- Löysin uusia kirjastoja, kuten streamlit, joilla saa mahdollisesti nopeasti näyttävää aikaiseksi.\n",
        "#### Viikon 7 koodaus\n",
        "- Harjoitustyö vei aikani."
      ],
      "metadata": {
        "id": "uYArZcky54l4"
      }
    },
    {
      "cell_type": "markdown",
      "source": [
        "-----"
      ],
      "metadata": {
        "id": "BeATNMWi7V9j"
      }
    },
    {
      "cell_type": "markdown",
      "source": [
        "## **Loppuraportti**\n",
        "\n",
        "Kurssin alkaessa päämääräni oli oppia paremmin datatieteen teoriaa ja käytäntöjä. Halusin myös saada lisäkokemusta koodaamisesta.\n",
        "\n",
        "Olen kaiken kaikkiaan erittäin tyytyväinen kurssiin. Opin parissa kuukaudessa paljon enemmän kuin olisin ikinä uskonut. Opiskelun ja työelämän yhteensovittaminen oli erittäin suuri haaste ja etenkin harjoitustyön tekemisessä olisi kannattanut tehdä vähemmän ja laadukkaampaa.\n",
        "\n",
        "Kurssi antoi hyvät eväät jatkoppimiselle ja toivon saavani toimia datatieteen parissa vielä pitkään."
      ],
      "metadata": {
        "id": "Sgddk3rX7XYl"
      }
    }
  ]
}