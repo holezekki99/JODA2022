{
  "nbformat": 4,
  "nbformat_minor": 0,
  "metadata": {
    "colab": {
      "name": "JODA2022_workbook.ipynb",
      "provenance": [],
      "authorship_tag": "ABX9TyNYp8hwKrXf2YXuaJx1Yi4V",
      "include_colab_link": true
    },
    "kernelspec": {
      "name": "python3",
      "display_name": "Python 3"
    },
    "language_info": {
      "name": "python"
    }
  },
  "cells": [
    {
      "cell_type": "markdown",
      "metadata": {
        "id": "view-in-github",
        "colab_type": "text"
      },
      "source": [
        "<a href=\"https://colab.research.google.com/github/holezekki99/JODA2022/blob/main/JODA2022_workbook.ipynb\" target=\"_parent\"><img src=\"https://colab.research.google.com/assets/colab-badge.svg\" alt=\"Open In Colab\"/></a>"
      ]
    },
    {
      "cell_type": "markdown",
      "source": [
        "# JODA2022\n",
        "## Juha Holstila\n"
      ],
      "metadata": {
        "id": "n6ugCF2bKNfo"
      }
    },
    {
      "cell_type": "markdown",
      "source": [
        "---\n",
        "### Viikko 1\n"
      ],
      "metadata": {
        "id": "GBtZ4XcaK0xq"
      }
    },
    {
      "cell_type": "markdown",
      "source": [
        "#### Viikon 1 tapahtumat\n",
        "\n",
        "Opinnot alkoivat. Osallistuin 9.3. aloitusluennolle ja 11.3. demo-session katsoin nauhoituksena viikonloppuna.\n",
        "\n",
        "Kurssin sisältö esiteltiin riittävän kattavasti luennolla."
      ],
      "metadata": {
        "id": "HWWb-xxlKP_4"
      }
    },
    {
      "cell_type": "markdown",
      "source": [
        "#### Viikon 1 tavoitteet\n",
        "Tavoitteena oli saada ympäristö luotua. En ole ennen käyttänyt githubia, joten ensimmäinen tavoite oli saada se luotua.\n",
        "Jupyterista minulla oli vain vähän aikaisempaa käyttökokemusta. En halunnut asentaa Jupyteria koneelle vaan tutkiskelin mahdollisuuksia online versioihin. Löysin Googlen CoLabin, johon sain työkirjan tehtyä ja linkattua sen uusille Githubin sivuilleni. Onko tämä toimiva ratkaisu, selviää varmasti myöhemmin."
      ],
      "metadata": {
        "id": "1jh5wklFL9Ve"
      }
    },
    {
      "cell_type": "code",
      "execution_count": null,
      "metadata": {
        "id": "rHlK3aC_H_ul"
      },
      "outputs": [],
      "source": [
        "print(\"hello world\")"
      ]
    }
  ]
}