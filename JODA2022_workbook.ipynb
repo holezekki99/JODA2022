{
  "nbformat": 4,
  "nbformat_minor": 0,
  "metadata": {
    "colab": {
      "name": "JODA2022_workbook.ipynb",
      "provenance": [],
      "authorship_tag": "ABX9TyOfq3RCVdf0v+CapEmUpI13",
      "include_colab_link": true
    },
    "kernelspec": {
      "name": "python3",
      "display_name": "Python 3"
    },
    "language_info": {
      "name": "python"
    }
  },
  "cells": [
    {
      "cell_type": "markdown",
      "metadata": {
        "id": "view-in-github",
        "colab_type": "text"
      },
      "source": [
        "<a href=\"https://colab.research.google.com/github/holezekki99/JODA2022/blob/main/JODA2022_workbook.ipynb\" target=\"_parent\"><img src=\"https://colab.research.google.com/assets/colab-badge.svg\" alt=\"Open In Colab\"/></a>"
      ]
    },
    {
      "cell_type": "code",
      "execution_count": null,
      "metadata": {
        "id": "rHlK3aC_H_ul"
      },
      "outputs": [],
      "source": [
        "print(\"hello world\")"
      ]
    }
  ]
}