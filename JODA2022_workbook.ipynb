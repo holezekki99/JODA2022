{
  "nbformat": 4,
  "nbformat_minor": 0,
  "metadata": {
    "colab": {
      "name": "JODA2022_workbook.ipynb",
      "provenance": [],
      "authorship_tag": "ABX9TyO9OfkIa4sijKjkvpP1eZxc",
      "include_colab_link": true
    },
    "kernelspec": {
      "name": "python3",
      "display_name": "Python 3"
    },
    "language_info": {
      "name": "python"
    }
  },
  "cells": [
    {
      "cell_type": "markdown",
      "metadata": {
        "id": "view-in-github",
        "colab_type": "text"
      },
      "source": [
        "<a href=\"https://colab.research.google.com/github/holezekki99/JODA2022/blob/vko1_muutokset/JODA2022_workbook.ipynb\" target=\"_parent\"><img src=\"https://colab.research.google.com/assets/colab-badge.svg\" alt=\"Open In Colab\"/></a>"
      ]
    },
    {
      "cell_type": "markdown",
      "source": [
        "# JODA2022\n",
        "## Juha Holstila\n"
      ],
      "metadata": {
        "id": "n6ugCF2bKNfo"
      }
    },
    {
      "cell_type": "markdown",
      "source": [
        "\n",
        "---\n",
        "### Keskeiset oppimistavoitteet\n",
        "Tavoitteet keväälle:\n",
        "\n",
        "1. Omaksu datatieteen peruskäsitteet (määritelmiä, historiaa, pohdintaa nykytilasta ja tulevaisuudesta, ym.)\n",
        "2. Opi pystyttämään ja työskentelemään nykyään yleisesti käytössä olevilla työkaluilla (github, jupyter ym.).\n",
        "3. Opi ja laajenna ymmärrystä saatavilla olevista datasäilöistä (avoin data ym.)\n",
        "4. Paranna teoreettista ja käytännön osaamista datan muokkauksessa Pythonilla.\n",
        "5. Selvitä mitä eri tilastollisia menetelmiä on käytettävissä datan analysoinnissa.\n",
        "6. Opi ja laajenna ymmärrystä datan visualisoinnin työkaluista ja parhaista käytänteistä.\n",
        "\n",
        "\n",
        "\n"
      ],
      "metadata": {
        "id": "VDto043XNd7I"
      }
    },
    {
      "cell_type": "markdown",
      "source": [
        "### Lähtötilanne\n",
        "Olen viimeiset pari vuotta harrastuksena ja oman työni ohella tehnyt lentoliikenteen parissa jonkin sortin datatiedettä. Lentoliikenne on siitä hyvä ala tähän, että kaikki toimijat, ml. lentoyhtiöt, lennonvarmistuspalvelun tarjoajat ja ilmatieteenlaitokset toimittavat kaiken relevantin tietonsa keskitettyyn paikkaan Eurocontrolliin. Alan toimijoille on kehitetty tehokas rajapinta tähän dataan.\n",
        "Aluksi tarkoitus oli kerätä meitä kiinnostava data omalle alustalle jatkoa varten. Tarkoituksena on ensinnäkin muuttaa toimintamme nolliksi ja ykkösiksi, eräänlaiseksi digitaaliseksi kaksoseksi. Tämä antaa meille mahdollisuuden oikeasti ymmärtää mitä operatiivisessa ympäristössämme oikeasti tapahtuu.\n",
        "Datan hakemista, käsittelyä ja visualisointia tein aluksi excelillä joka vaatii paljon käsityötä. Viimeisen vuoden aikana olen alkanut muokkaamaan dataa pythonilla. Visualisointiin on toistaiseksi valikoitunut Power BI. "
      ],
      "metadata": {
        "id": "QMb3lSNFLci9"
      }
    },
    {
      "cell_type": "markdown",
      "source": [
        "---\n",
        "### Viikko 1\n"
      ],
      "metadata": {
        "id": "GBtZ4XcaK0xq"
      }
    },
    {
      "cell_type": "markdown",
      "source": [
        "#### Viikon 1 tapahtumat\n",
        "\n",
        "Opinnot alkoivat. Osallistuin 9.3. aloitusluennolle ja 11.3. demo-session katsoin nauhoituksena viikonloppuna.\n",
        "\n",
        "Kurssin sisältö esiteltiin riittävän kattavasti luennolla."
      ],
      "metadata": {
        "id": "HWWb-xxlKP_4"
      }
    },
    {
      "cell_type": "markdown",
      "source": [
        "#### Viikon 1 tavoitteet\n",
        "Tavoitteena oli saada ympäristö luotua. "
      ],
      "metadata": {
        "id": "1jh5wklFL9Ve"
      }
    },
    {
      "cell_type": "markdown",
      "source": [
        "#### Viikon 1 koodaus - kehitys ja julkaisuympäristön pystyttäminen\n",
        "##### **Julkaisuympäristö**\n",
        "En ole ennen käyttänyt githubia, joten ensimmäinen tavoite oli saada se luotua.\n",
        "Jupyterista minulla oli vain vähän aikaisempaa käyttökokemusta. En halunnut ensin asentaa Jupyteria koneelle vaan tutkiskelin mahdollisuuksia online versioihin. Löysin Googlen CoLabin, johon sain työkirjan tehtyä ja linkattua sen uusille Githubin sivuilleni. Onko tämä toimiva ratkaisu, selviää varmasti myöhemmin.\n",
        "\n",
        "##### **Kehitysympäristö**\n",
        "Harjoitustyötä varten pystytin omalle koneelle Anacondan. Aikomuksenani on käyttää Traffic-kirjastoa, jonka\n",
        "XXX jatka"
      ],
      "metadata": {
        "id": "545ynED5MdXE"
      }
    },
    {
      "cell_type": "markdown",
      "source": [
        "##### **Viikko 1 koodaus**\n",
        "Tämän viikon koodauksen tarkoitus on hakea joku datasetti ja käytännössä pandan metodeilla tarkkailla sitä."
      ],
      "metadata": {
        "id": "vlPwnA2O54bj"
      }
    },
    {
      "cell_type": "markdown",
      "source": [
        "Haeskelin avoindata.fi sivusta moottoripyöräaiheisia datasettejä ja vastaan tuli lista Helsingin kaupungin alueella tapahtuneista liikenneonnettomuuksista. "
      ],
      "metadata": {
        "id": "gvWXZrlrzr6L"
      }
    },
    {
      "cell_type": "markdown",
      "source": [
        "Haetaan tiedosto ja aletaan tutkia mitä pitää sisällään:"
      ],
      "metadata": {
        "id": "BUjVLPGC09Fo"
      }
    },
    {
      "cell_type": "code",
      "source": [
        "import pandas as pd\n",
        "\n",
        "DATAFILE = \"https://www.hel.fi/hel2/tietokeskus/data/helsinki/ksv/liikenneonnettomuudet_Helsingissa.csv\"\n",
        "df = pd.read_csv(DATAFILE, sep=';')"
      ],
      "metadata": {
        "id": "2h58dl0twzrA"
      },
      "execution_count": 1,
      "outputs": []
    },
    {
      "cell_type": "code",
      "source": [
        "df.info()"
      ],
      "metadata": {
        "colab": {
          "base_uri": "https://localhost:8080/"
        },
        "id": "doUF7xMg0wne",
        "outputId": "f9fe9035-d48e-4f56-bf40-c5d68bfc016d"
      },
      "execution_count": 2,
      "outputs": [
        {
          "output_type": "stream",
          "name": "stdout",
          "text": [
            "<class 'pandas.core.frame.DataFrame'>\n",
            "RangeIndex: 50724 entries, 0 to 50723\n",
            "Data columns (total 5 columns):\n",
            " #   Column     Non-Null Count  Dtype  \n",
            "---  ------     --------------  -----  \n",
            " 0   LAJI       50724 non-null  object \n",
            " 1   pohj_etrs  50724 non-null  float64\n",
            " 2   ita_etrs   50724 non-null  float64\n",
            " 3   VAKAV_A    50724 non-null  int64  \n",
            " 4   VV         50724 non-null  int64  \n",
            "dtypes: float64(2), int64(2), object(1)\n",
            "memory usage: 1.9+ MB\n"
          ]
        }
      ]
    },
    {
      "cell_type": "code",
      "source": [
        "df.head()"
      ],
      "metadata": {
        "colab": {
          "base_uri": "https://localhost:8080/",
          "height": 206
        },
        "id": "ZhNtsnVr07O1",
        "outputId": "e810819a-1ed9-478f-d9ed-ad7e696f9803"
      },
      "execution_count": 3,
      "outputs": [
        {
          "output_type": "execute_result",
          "data": {
            "text/plain": [
              "  LAJI    pohj_etrs      ita_etrs  VAKAV_A    VV\n",
              "0   MA  6679525.638  2.550357e+07        1  2010\n",
              "1   MA  6681957.849  2.550356e+07        2  2010\n",
              "2   MA  6684750.304  2.550004e+07        1  2010\n",
              "3   MA  6674428.942  2.549505e+07        1  2010\n",
              "4   MA  6674447.788  2.550076e+07        1  2010"
            ],
            "text/html": [
              "\n",
              "  <div id=\"df-68600e8b-657c-460a-816e-c59df3d2f94d\">\n",
              "    <div class=\"colab-df-container\">\n",
              "      <div>\n",
              "<style scoped>\n",
              "    .dataframe tbody tr th:only-of-type {\n",
              "        vertical-align: middle;\n",
              "    }\n",
              "\n",
              "    .dataframe tbody tr th {\n",
              "        vertical-align: top;\n",
              "    }\n",
              "\n",
              "    .dataframe thead th {\n",
              "        text-align: right;\n",
              "    }\n",
              "</style>\n",
              "<table border=\"1\" class=\"dataframe\">\n",
              "  <thead>\n",
              "    <tr style=\"text-align: right;\">\n",
              "      <th></th>\n",
              "      <th>LAJI</th>\n",
              "      <th>pohj_etrs</th>\n",
              "      <th>ita_etrs</th>\n",
              "      <th>VAKAV_A</th>\n",
              "      <th>VV</th>\n",
              "    </tr>\n",
              "  </thead>\n",
              "  <tbody>\n",
              "    <tr>\n",
              "      <th>0</th>\n",
              "      <td>MA</td>\n",
              "      <td>6679525.638</td>\n",
              "      <td>2.550357e+07</td>\n",
              "      <td>1</td>\n",
              "      <td>2010</td>\n",
              "    </tr>\n",
              "    <tr>\n",
              "      <th>1</th>\n",
              "      <td>MA</td>\n",
              "      <td>6681957.849</td>\n",
              "      <td>2.550356e+07</td>\n",
              "      <td>2</td>\n",
              "      <td>2010</td>\n",
              "    </tr>\n",
              "    <tr>\n",
              "      <th>2</th>\n",
              "      <td>MA</td>\n",
              "      <td>6684750.304</td>\n",
              "      <td>2.550004e+07</td>\n",
              "      <td>1</td>\n",
              "      <td>2010</td>\n",
              "    </tr>\n",
              "    <tr>\n",
              "      <th>3</th>\n",
              "      <td>MA</td>\n",
              "      <td>6674428.942</td>\n",
              "      <td>2.549505e+07</td>\n",
              "      <td>1</td>\n",
              "      <td>2010</td>\n",
              "    </tr>\n",
              "    <tr>\n",
              "      <th>4</th>\n",
              "      <td>MA</td>\n",
              "      <td>6674447.788</td>\n",
              "      <td>2.550076e+07</td>\n",
              "      <td>1</td>\n",
              "      <td>2010</td>\n",
              "    </tr>\n",
              "  </tbody>\n",
              "</table>\n",
              "</div>\n",
              "      <button class=\"colab-df-convert\" onclick=\"convertToInteractive('df-68600e8b-657c-460a-816e-c59df3d2f94d')\"\n",
              "              title=\"Convert this dataframe to an interactive table.\"\n",
              "              style=\"display:none;\">\n",
              "        \n",
              "  <svg xmlns=\"http://www.w3.org/2000/svg\" height=\"24px\"viewBox=\"0 0 24 24\"\n",
              "       width=\"24px\">\n",
              "    <path d=\"M0 0h24v24H0V0z\" fill=\"none\"/>\n",
              "    <path d=\"M18.56 5.44l.94 2.06.94-2.06 2.06-.94-2.06-.94-.94-2.06-.94 2.06-2.06.94zm-11 1L8.5 8.5l.94-2.06 2.06-.94-2.06-.94L8.5 2.5l-.94 2.06-2.06.94zm10 10l.94 2.06.94-2.06 2.06-.94-2.06-.94-.94-2.06-.94 2.06-2.06.94z\"/><path d=\"M17.41 7.96l-1.37-1.37c-.4-.4-.92-.59-1.43-.59-.52 0-1.04.2-1.43.59L10.3 9.45l-7.72 7.72c-.78.78-.78 2.05 0 2.83L4 21.41c.39.39.9.59 1.41.59.51 0 1.02-.2 1.41-.59l7.78-7.78 2.81-2.81c.8-.78.8-2.07 0-2.86zM5.41 20L4 18.59l7.72-7.72 1.47 1.35L5.41 20z\"/>\n",
              "  </svg>\n",
              "      </button>\n",
              "      \n",
              "  <style>\n",
              "    .colab-df-container {\n",
              "      display:flex;\n",
              "      flex-wrap:wrap;\n",
              "      gap: 12px;\n",
              "    }\n",
              "\n",
              "    .colab-df-convert {\n",
              "      background-color: #E8F0FE;\n",
              "      border: none;\n",
              "      border-radius: 50%;\n",
              "      cursor: pointer;\n",
              "      display: none;\n",
              "      fill: #1967D2;\n",
              "      height: 32px;\n",
              "      padding: 0 0 0 0;\n",
              "      width: 32px;\n",
              "    }\n",
              "\n",
              "    .colab-df-convert:hover {\n",
              "      background-color: #E2EBFA;\n",
              "      box-shadow: 0px 1px 2px rgba(60, 64, 67, 0.3), 0px 1px 3px 1px rgba(60, 64, 67, 0.15);\n",
              "      fill: #174EA6;\n",
              "    }\n",
              "\n",
              "    [theme=dark] .colab-df-convert {\n",
              "      background-color: #3B4455;\n",
              "      fill: #D2E3FC;\n",
              "    }\n",
              "\n",
              "    [theme=dark] .colab-df-convert:hover {\n",
              "      background-color: #434B5C;\n",
              "      box-shadow: 0px 1px 3px 1px rgba(0, 0, 0, 0.15);\n",
              "      filter: drop-shadow(0px 1px 2px rgba(0, 0, 0, 0.3));\n",
              "      fill: #FFFFFF;\n",
              "    }\n",
              "  </style>\n",
              "\n",
              "      <script>\n",
              "        const buttonEl =\n",
              "          document.querySelector('#df-68600e8b-657c-460a-816e-c59df3d2f94d button.colab-df-convert');\n",
              "        buttonEl.style.display =\n",
              "          google.colab.kernel.accessAllowed ? 'block' : 'none';\n",
              "\n",
              "        async function convertToInteractive(key) {\n",
              "          const element = document.querySelector('#df-68600e8b-657c-460a-816e-c59df3d2f94d');\n",
              "          const dataTable =\n",
              "            await google.colab.kernel.invokeFunction('convertToInteractive',\n",
              "                                                     [key], {});\n",
              "          if (!dataTable) return;\n",
              "\n",
              "          const docLinkHtml = 'Like what you see? Visit the ' +\n",
              "            '<a target=\"_blank\" href=https://colab.research.google.com/notebooks/data_table.ipynb>data table notebook</a>'\n",
              "            + ' to learn more about interactive tables.';\n",
              "          element.innerHTML = '';\n",
              "          dataTable['output_type'] = 'display_data';\n",
              "          await google.colab.output.renderOutput(dataTable, element);\n",
              "          const docLink = document.createElement('div');\n",
              "          docLink.innerHTML = docLinkHtml;\n",
              "          element.appendChild(docLink);\n",
              "        }\n",
              "      </script>\n",
              "    </div>\n",
              "  </div>\n",
              "  "
            ]
          },
          "metadata": {},
          "execution_count": 3
        }
      ]
    },
    {
      "cell_type": "markdown",
      "source": [
        "Muuttujat\n",
        "\n",
        "Alla oleva tieto oli annettuna:\n",
        "\n",
        "vakav_a = vakavuusaste, (1 = omaisuusvahinko, 2 = loukkaantumiseen johtanut, 3 = kuolemaan johtanut)\n",
        "POHJ_ETRS = Pohjoiskoordinaatti ETRS-GK25-järjestelmässä\n",
        "ITA_ETRS = Itäkoordinaatti ETRS-GK25-järjestelmässä\n",
        "vv = vuosi\n",
        "laji = onnettomuuslaji heikoimman osallisen mukaan, (jk = jalankulkijaonnettomuus, pp = polkupyöräonnettomuus, mp = mopo/moottoripyöräonnettomuus, ma = moottoriajoneuvo-onnettomuus)"
      ],
      "metadata": {
        "id": "8AQzgR3b1lSh"
      }
    },
    {
      "cell_type": "markdown",
      "source": [
        "Monta onnettomuutta per onnettomuuslaji:"
      ],
      "metadata": {
        "id": "wHWYPW4t5pF1"
      }
    },
    {
      "cell_type": "code",
      "source": [
        "df['LAJI'].unique()"
      ],
      "metadata": {
        "colab": {
          "base_uri": "https://localhost:8080/"
        },
        "id": "-OA58eNe4276",
        "outputId": "43f80050-9f35-48a8-ceef-174a1a6fec20"
      },
      "execution_count": 4,
      "outputs": [
        {
          "output_type": "execute_result",
          "data": {
            "text/plain": [
              "array(['MA', 'JK', 'PP', 'MP'], dtype=object)"
            ]
          },
          "metadata": {},
          "execution_count": 4
        }
      ]
    },
    {
      "cell_type": "code",
      "source": [
        "df['LAJI'].value_counts()"
      ],
      "metadata": {
        "colab": {
          "base_uri": "https://localhost:8080/"
        },
        "id": "qbjuZ9tF5PEX",
        "outputId": "fb2338f7-6019-4326-8755-907e45a9702c"
      },
      "execution_count": 5,
      "outputs": [
        {
          "output_type": "execute_result",
          "data": {
            "text/plain": [
              "MA    42435\n",
              "PP     3291\n",
              "JK     2970\n",
              "MP     2028\n",
              "Name: LAJI, dtype: int64"
            ]
          },
          "metadata": {},
          "execution_count": 5
        }
      ]
    },
    {
      "cell_type": "markdown",
      "source": [
        "Tehdään kuvaaja josta näkee eri vuosina moottoripyörä onnettomuuksien kehittymisen:"
      ],
      "metadata": {
        "id": "I6BcJnGp6HQ6"
      }
    },
    {
      "cell_type": "code",
      "source": [
        "import matplotlib.pyplot as plt\n",
        "from matplotlib.pyplot import figure\n"
      ],
      "metadata": {
        "id": "eVPKaPg26NzA"
      },
      "execution_count": 6,
      "outputs": []
    },
    {
      "cell_type": "markdown",
      "source": [
        "Otetaan datasta vain moottoripyöräonnettomuudet:"
      ],
      "metadata": {
        "id": "ZQmdEVDG1wOm"
      }
    },
    {
      "cell_type": "code",
      "source": [
        "df_mp = df[df['LAJI'] == 'MP']\n",
        "df_mp.head()"
      ],
      "metadata": {
        "colab": {
          "base_uri": "https://localhost:8080/",
          "height": 206
        },
        "id": "tKkjmOBS1rRR",
        "outputId": "eb87ead7-d50c-48d9-d201-72c689e83074"
      },
      "execution_count": 7,
      "outputs": [
        {
          "output_type": "execute_result",
          "data": {
            "text/plain": [
              "    LAJI    pohj_etrs      ita_etrs  VAKAV_A    VV\n",
              "535   MP  6680351.668  2.549378e+07        1  2010\n",
              "624   MP  6671513.485  2.549636e+07        2  2010\n",
              "626   MP  6674590.598  2.550260e+07        2  2010\n",
              "651   MP  6673763.117  2.549573e+07        1  2010\n",
              "679   MP  6685107.509  2.550159e+07        2  2010"
            ],
            "text/html": [
              "\n",
              "  <div id=\"df-b70e299e-a0e6-49b0-bc02-007c742f8e49\">\n",
              "    <div class=\"colab-df-container\">\n",
              "      <div>\n",
              "<style scoped>\n",
              "    .dataframe tbody tr th:only-of-type {\n",
              "        vertical-align: middle;\n",
              "    }\n",
              "\n",
              "    .dataframe tbody tr th {\n",
              "        vertical-align: top;\n",
              "    }\n",
              "\n",
              "    .dataframe thead th {\n",
              "        text-align: right;\n",
              "    }\n",
              "</style>\n",
              "<table border=\"1\" class=\"dataframe\">\n",
              "  <thead>\n",
              "    <tr style=\"text-align: right;\">\n",
              "      <th></th>\n",
              "      <th>LAJI</th>\n",
              "      <th>pohj_etrs</th>\n",
              "      <th>ita_etrs</th>\n",
              "      <th>VAKAV_A</th>\n",
              "      <th>VV</th>\n",
              "    </tr>\n",
              "  </thead>\n",
              "  <tbody>\n",
              "    <tr>\n",
              "      <th>535</th>\n",
              "      <td>MP</td>\n",
              "      <td>6680351.668</td>\n",
              "      <td>2.549378e+07</td>\n",
              "      <td>1</td>\n",
              "      <td>2010</td>\n",
              "    </tr>\n",
              "    <tr>\n",
              "      <th>624</th>\n",
              "      <td>MP</td>\n",
              "      <td>6671513.485</td>\n",
              "      <td>2.549636e+07</td>\n",
              "      <td>2</td>\n",
              "      <td>2010</td>\n",
              "    </tr>\n",
              "    <tr>\n",
              "      <th>626</th>\n",
              "      <td>MP</td>\n",
              "      <td>6674590.598</td>\n",
              "      <td>2.550260e+07</td>\n",
              "      <td>2</td>\n",
              "      <td>2010</td>\n",
              "    </tr>\n",
              "    <tr>\n",
              "      <th>651</th>\n",
              "      <td>MP</td>\n",
              "      <td>6673763.117</td>\n",
              "      <td>2.549573e+07</td>\n",
              "      <td>1</td>\n",
              "      <td>2010</td>\n",
              "    </tr>\n",
              "    <tr>\n",
              "      <th>679</th>\n",
              "      <td>MP</td>\n",
              "      <td>6685107.509</td>\n",
              "      <td>2.550159e+07</td>\n",
              "      <td>2</td>\n",
              "      <td>2010</td>\n",
              "    </tr>\n",
              "  </tbody>\n",
              "</table>\n",
              "</div>\n",
              "      <button class=\"colab-df-convert\" onclick=\"convertToInteractive('df-b70e299e-a0e6-49b0-bc02-007c742f8e49')\"\n",
              "              title=\"Convert this dataframe to an interactive table.\"\n",
              "              style=\"display:none;\">\n",
              "        \n",
              "  <svg xmlns=\"http://www.w3.org/2000/svg\" height=\"24px\"viewBox=\"0 0 24 24\"\n",
              "       width=\"24px\">\n",
              "    <path d=\"M0 0h24v24H0V0z\" fill=\"none\"/>\n",
              "    <path d=\"M18.56 5.44l.94 2.06.94-2.06 2.06-.94-2.06-.94-.94-2.06-.94 2.06-2.06.94zm-11 1L8.5 8.5l.94-2.06 2.06-.94-2.06-.94L8.5 2.5l-.94 2.06-2.06.94zm10 10l.94 2.06.94-2.06 2.06-.94-2.06-.94-.94-2.06-.94 2.06-2.06.94z\"/><path d=\"M17.41 7.96l-1.37-1.37c-.4-.4-.92-.59-1.43-.59-.52 0-1.04.2-1.43.59L10.3 9.45l-7.72 7.72c-.78.78-.78 2.05 0 2.83L4 21.41c.39.39.9.59 1.41.59.51 0 1.02-.2 1.41-.59l7.78-7.78 2.81-2.81c.8-.78.8-2.07 0-2.86zM5.41 20L4 18.59l7.72-7.72 1.47 1.35L5.41 20z\"/>\n",
              "  </svg>\n",
              "      </button>\n",
              "      \n",
              "  <style>\n",
              "    .colab-df-container {\n",
              "      display:flex;\n",
              "      flex-wrap:wrap;\n",
              "      gap: 12px;\n",
              "    }\n",
              "\n",
              "    .colab-df-convert {\n",
              "      background-color: #E8F0FE;\n",
              "      border: none;\n",
              "      border-radius: 50%;\n",
              "      cursor: pointer;\n",
              "      display: none;\n",
              "      fill: #1967D2;\n",
              "      height: 32px;\n",
              "      padding: 0 0 0 0;\n",
              "      width: 32px;\n",
              "    }\n",
              "\n",
              "    .colab-df-convert:hover {\n",
              "      background-color: #E2EBFA;\n",
              "      box-shadow: 0px 1px 2px rgba(60, 64, 67, 0.3), 0px 1px 3px 1px rgba(60, 64, 67, 0.15);\n",
              "      fill: #174EA6;\n",
              "    }\n",
              "\n",
              "    [theme=dark] .colab-df-convert {\n",
              "      background-color: #3B4455;\n",
              "      fill: #D2E3FC;\n",
              "    }\n",
              "\n",
              "    [theme=dark] .colab-df-convert:hover {\n",
              "      background-color: #434B5C;\n",
              "      box-shadow: 0px 1px 3px 1px rgba(0, 0, 0, 0.15);\n",
              "      filter: drop-shadow(0px 1px 2px rgba(0, 0, 0, 0.3));\n",
              "      fill: #FFFFFF;\n",
              "    }\n",
              "  </style>\n",
              "\n",
              "      <script>\n",
              "        const buttonEl =\n",
              "          document.querySelector('#df-b70e299e-a0e6-49b0-bc02-007c742f8e49 button.colab-df-convert');\n",
              "        buttonEl.style.display =\n",
              "          google.colab.kernel.accessAllowed ? 'block' : 'none';\n",
              "\n",
              "        async function convertToInteractive(key) {\n",
              "          const element = document.querySelector('#df-b70e299e-a0e6-49b0-bc02-007c742f8e49');\n",
              "          const dataTable =\n",
              "            await google.colab.kernel.invokeFunction('convertToInteractive',\n",
              "                                                     [key], {});\n",
              "          if (!dataTable) return;\n",
              "\n",
              "          const docLinkHtml = 'Like what you see? Visit the ' +\n",
              "            '<a target=\"_blank\" href=https://colab.research.google.com/notebooks/data_table.ipynb>data table notebook</a>'\n",
              "            + ' to learn more about interactive tables.';\n",
              "          element.innerHTML = '';\n",
              "          dataTable['output_type'] = 'display_data';\n",
              "          await google.colab.output.renderOutput(dataTable, element);\n",
              "          const docLink = document.createElement('div');\n",
              "          docLink.innerHTML = docLinkHtml;\n",
              "          element.appendChild(docLink);\n",
              "        }\n",
              "      </script>\n",
              "    </div>\n",
              "  </div>\n",
              "  "
            ]
          },
          "metadata": {},
          "execution_count": 7
        }
      ]
    },
    {
      "cell_type": "code",
      "source": [
        "df_mp['VV'].value_counts().sort_index().plot.bar()\n",
        "#plt.show()"
      ],
      "metadata": {
        "colab": {
          "base_uri": "https://localhost:8080/",
          "height": 298
        },
        "id": "7BaVpnXQ1l_A",
        "outputId": "377f538f-58de-4f51-dcc3-b45bd376a980"
      },
      "execution_count": 8,
      "outputs": [
        {
          "output_type": "execute_result",
          "data": {
            "text/plain": [
              "<matplotlib.axes._subplots.AxesSubplot at 0x7f166e1e2ed0>"
            ]
          },
          "metadata": {},
          "execution_count": 8
        },
        {
          "output_type": "display_data",
          "data": {
            "text/plain": [
              "<Figure size 432x288 with 1 Axes>"
            ],
            "image/png": "[encoded data removed]"
          },
          "metadata": {
            "needs_background": "light"
          }
        }
      ]
    },
    {
      "cell_type": "markdown",
      "source": [
        "Koitetaan saada MP-onnettomuuksia kartalle."
      ],
      "metadata": {
        "id": "90aJDhVzc36R"
      }
    },
    {
      "cell_type": "code",
      "source": [
        "figure(figsize=(4, 3))\n",
        "plt.scatter(df['pohj_etrs'], df['ita_etrs'], c =\"blue\")"
      ],
      "metadata": {
        "colab": {
          "base_uri": "https://localhost:8080/",
          "height": 252
        },
        "id": "KpVkfOfFBD78",
        "outputId": "8cfc4d79-a04a-4d50-8a3f-ffeae6bc28d8"
      },
      "execution_count": 9,
      "outputs": [
        {
          "output_type": "execute_result",
          "data": {
            "text/plain": [
              "<matplotlib.collections.PathCollection at 0x7f166dbac450>"
            ]
          },
          "metadata": {},
          "execution_count": 9
        },
        {
          "output_type": "display_data",
          "data": {
            "text/plain": [
              "<Figure size 288x216 with 1 Axes>"
            ],
            "image/png": "[encoded data removed]"
          },
          "metadata": {
            "needs_background": "light"
          }
        }
      ]
    },
    {
      "cell_type": "code",
      "source": [
        "\n",
        "#us_cities = pd.read_csv(\"https://raw.githubusercontent.com/plotly/datasets/master/us-cities-top-1k.csv\")\n",
        "mp_onnettomuus_loc = df_mp[['pohj_etrs', 'ita_etrs']]\n",
        "mp_onnettomuus_loc = mp_onnettomuus_loc.rename(columns={\"pohj_etrs\":\"lat\", \"ita_etrs\":\"lon\"})\n",
        "mp_onnettomuus_loc['lat'] = mp_onnettomuus_loc['lat']\n",
        "mp_onnettomuus_loc['lon'] = mp_onnettomuus_loc['lon'] \n",
        "mp_onnettomuus_loc.head()\n",
        "\n"
      ],
      "metadata": {
        "colab": {
          "base_uri": "https://localhost:8080/",
          "height": 206
        },
        "id": "D9we9c8_eb17",
        "outputId": "5bc3a623-73f6-45ae-dcac-35a9c4836453"
      },
      "execution_count": 62,
      "outputs": [
        {
          "output_type": "execute_result",
          "data": {
            "text/plain": [
              "             lat           lon\n",
              "535  6680351.668  2.549378e+07\n",
              "624  6671513.485  2.549636e+07\n",
              "626  6674590.598  2.550260e+07\n",
              "651  6673763.117  2.549573e+07\n",
              "679  6685107.509  2.550159e+07"
            ],
            "text/html": [
              "\n",
              "  <div id=\"df-295ec590-6160-4b4f-a3ad-6ef45a9cdb99\">\n",
              "    <div class=\"colab-df-container\">\n",
              "      <div>\n",
              "<style scoped>\n",
              "    .dataframe tbody tr th:only-of-type {\n",
              "        vertical-align: middle;\n",
              "    }\n",
              "\n",
              "    .dataframe tbody tr th {\n",
              "        vertical-align: top;\n",
              "    }\n",
              "\n",
              "    .dataframe thead th {\n",
              "        text-align: right;\n",
              "    }\n",
              "</style>\n",
              "<table border=\"1\" class=\"dataframe\">\n",
              "  <thead>\n",
              "    <tr style=\"text-align: right;\">\n",
              "      <th></th>\n",
              "      <th>lat</th>\n",
              "      <th>lon</th>\n",
              "    </tr>\n",
              "  </thead>\n",
              "  <tbody>\n",
              "    <tr>\n",
              "      <th>535</th>\n",
              "      <td>6680351.668</td>\n",
              "      <td>2.549378e+07</td>\n",
              "    </tr>\n",
              "    <tr>\n",
              "      <th>624</th>\n",
              "      <td>6671513.485</td>\n",
              "      <td>2.549636e+07</td>\n",
              "    </tr>\n",
              "    <tr>\n",
              "      <th>626</th>\n",
              "      <td>6674590.598</td>\n",
              "      <td>2.550260e+07</td>\n",
              "    </tr>\n",
              "    <tr>\n",
              "      <th>651</th>\n",
              "      <td>6673763.117</td>\n",
              "      <td>2.549573e+07</td>\n",
              "    </tr>\n",
              "    <tr>\n",
              "      <th>679</th>\n",
              "      <td>6685107.509</td>\n",
              "      <td>2.550159e+07</td>\n",
              "    </tr>\n",
              "  </tbody>\n",
              "</table>\n",
              "</div>\n",
              "      <button class=\"colab-df-convert\" onclick=\"convertToInteractive('df-295ec590-6160-4b4f-a3ad-6ef45a9cdb99')\"\n",
              "              title=\"Convert this dataframe to an interactive table.\"\n",
              "              style=\"display:none;\">\n",
              "        \n",
              "  <svg xmlns=\"http://www.w3.org/2000/svg\" height=\"24px\"viewBox=\"0 0 24 24\"\n",
              "       width=\"24px\">\n",
              "    <path d=\"M0 0h24v24H0V0z\" fill=\"none\"/>\n",
              "    <path d=\"M18.56 5.44l.94 2.06.94-2.06 2.06-.94-2.06-.94-.94-2.06-.94 2.06-2.06.94zm-11 1L8.5 8.5l.94-2.06 2.06-.94-2.06-.94L8.5 2.5l-.94 2.06-2.06.94zm10 10l.94 2.06.94-2.06 2.06-.94-2.06-.94-.94-2.06-.94 2.06-2.06.94z\"/><path d=\"M17.41 7.96l-1.37-1.37c-.4-.4-.92-.59-1.43-.59-.52 0-1.04.2-1.43.59L10.3 9.45l-7.72 7.72c-.78.78-.78 2.05 0 2.83L4 21.41c.39.39.9.59 1.41.59.51 0 1.02-.2 1.41-.59l7.78-7.78 2.81-2.81c.8-.78.8-2.07 0-2.86zM5.41 20L4 18.59l7.72-7.72 1.47 1.35L5.41 20z\"/>\n",
              "  </svg>\n",
              "      </button>\n",
              "      \n",
              "  <style>\n",
              "    .colab-df-container {\n",
              "      display:flex;\n",
              "      flex-wrap:wrap;\n",
              "      gap: 12px;\n",
              "    }\n",
              "\n",
              "    .colab-df-convert {\n",
              "      background-color: #E8F0FE;\n",
              "      border: none;\n",
              "      border-radius: 50%;\n",
              "      cursor: pointer;\n",
              "      display: none;\n",
              "      fill: #1967D2;\n",
              "      height: 32px;\n",
              "      padding: 0 0 0 0;\n",
              "      width: 32px;\n",
              "    }\n",
              "\n",
              "    .colab-df-convert:hover {\n",
              "      background-color: #E2EBFA;\n",
              "      box-shadow: 0px 1px 2px rgba(60, 64, 67, 0.3), 0px 1px 3px 1px rgba(60, 64, 67, 0.15);\n",
              "      fill: #174EA6;\n",
              "    }\n",
              "\n",
              "    [theme=dark] .colab-df-convert {\n",
              "      background-color: #3B4455;\n",
              "      fill: #D2E3FC;\n",
              "    }\n",
              "\n",
              "    [theme=dark] .colab-df-convert:hover {\n",
              "      background-color: #434B5C;\n",
              "      box-shadow: 0px 1px 3px 1px rgba(0, 0, 0, 0.15);\n",
              "      filter: drop-shadow(0px 1px 2px rgba(0, 0, 0, 0.3));\n",
              "      fill: #FFFFFF;\n",
              "    }\n",
              "  </style>\n",
              "\n",
              "      <script>\n",
              "        const buttonEl =\n",
              "          document.querySelector('#df-295ec590-6160-4b4f-a3ad-6ef45a9cdb99 button.colab-df-convert');\n",
              "        buttonEl.style.display =\n",
              "          google.colab.kernel.accessAllowed ? 'block' : 'none';\n",
              "\n",
              "        async function convertToInteractive(key) {\n",
              "          const element = document.querySelector('#df-295ec590-6160-4b4f-a3ad-6ef45a9cdb99');\n",
              "          const dataTable =\n",
              "            await google.colab.kernel.invokeFunction('convertToInteractive',\n",
              "                                                     [key], {});\n",
              "          if (!dataTable) return;\n",
              "\n",
              "          const docLinkHtml = 'Like what you see? Visit the ' +\n",
              "            '<a target=\"_blank\" href=https://colab.research.google.com/notebooks/data_table.ipynb>data table notebook</a>'\n",
              "            + ' to learn more about interactive tables.';\n",
              "          element.innerHTML = '';\n",
              "          dataTable['output_type'] = 'display_data';\n",
              "          await google.colab.output.renderOutput(dataTable, element);\n",
              "          const docLink = document.createElement('div');\n",
              "          docLink.innerHTML = docLinkHtml;\n",
              "          element.appendChild(docLink);\n",
              "        }\n",
              "      </script>\n",
              "    </div>\n",
              "  </div>\n",
              "  "
            ]
          },
          "metadata": {},
          "execution_count": 62
        }
      ]
    },
    {
      "cell_type": "markdown",
      "source": [
        "Määritetään alue missä onnettomuudet tapahtuneet:"
      ],
      "metadata": {
        "id": "bWue6dOQmmNI"
      }
    },
    {
      "cell_type": "code",
      "source": [
        "from mpl_toolkits.basemap import Basemap\n",
        "import pyproj\n",
        "\n",
        "u = mp_onnettomuus_loc\n",
        "\n",
        "u.head()"
      ],
      "metadata": {
        "colab": {
          "base_uri": "https://localhost:8080/",
          "height": 206
        },
        "id": "GuDlDHrJspeW",
        "outputId": "1263a61e-1f2a-4f99-e8b0-6e7ab2135978"
      },
      "execution_count": 63,
      "outputs": [
        {
          "output_type": "execute_result",
          "data": {
            "text/plain": [
              "             lat           lon\n",
              "535  6680351.668  2.549378e+07\n",
              "624  6671513.485  2.549636e+07\n",
              "626  6674590.598  2.550260e+07\n",
              "651  6673763.117  2.549573e+07\n",
              "679  6685107.509  2.550159e+07"
            ],
            "text/html": [
              "\n",
              "  <div id=\"df-1b744ae1-9821-4406-83d5-ac2c790ebe0b\">\n",
              "    <div class=\"colab-df-container\">\n",
              "      <div>\n",
              "<style scoped>\n",
              "    .dataframe tbody tr th:only-of-type {\n",
              "        vertical-align: middle;\n",
              "    }\n",
              "\n",
              "    .dataframe tbody tr th {\n",
              "        vertical-align: top;\n",
              "    }\n",
              "\n",
              "    .dataframe thead th {\n",
              "        text-align: right;\n",
              "    }\n",
              "</style>\n",
              "<table border=\"1\" class=\"dataframe\">\n",
              "  <thead>\n",
              "    <tr style=\"text-align: right;\">\n",
              "      <th></th>\n",
              "      <th>lat</th>\n",
              "      <th>lon</th>\n",
              "    </tr>\n",
              "  </thead>\n",
              "  <tbody>\n",
              "    <tr>\n",
              "      <th>535</th>\n",
              "      <td>6680351.668</td>\n",
              "      <td>2.549378e+07</td>\n",
              "    </tr>\n",
              "    <tr>\n",
              "      <th>624</th>\n",
              "      <td>6671513.485</td>\n",
              "      <td>2.549636e+07</td>\n",
              "    </tr>\n",
              "    <tr>\n",
              "      <th>626</th>\n",
              "      <td>6674590.598</td>\n",
              "      <td>2.550260e+07</td>\n",
              "    </tr>\n",
              "    <tr>\n",
              "      <th>651</th>\n",
              "      <td>6673763.117</td>\n",
              "      <td>2.549573e+07</td>\n",
              "    </tr>\n",
              "    <tr>\n",
              "      <th>679</th>\n",
              "      <td>6685107.509</td>\n",
              "      <td>2.550159e+07</td>\n",
              "    </tr>\n",
              "  </tbody>\n",
              "</table>\n",
              "</div>\n",
              "      <button class=\"colab-df-convert\" onclick=\"convertToInteractive('df-1b744ae1-9821-4406-83d5-ac2c790ebe0b')\"\n",
              "              title=\"Convert this dataframe to an interactive table.\"\n",
              "              style=\"display:none;\">\n",
              "        \n",
              "  <svg xmlns=\"http://www.w3.org/2000/svg\" height=\"24px\"viewBox=\"0 0 24 24\"\n",
              "       width=\"24px\">\n",
              "    <path d=\"M0 0h24v24H0V0z\" fill=\"none\"/>\n",
              "    <path d=\"M18.56 5.44l.94 2.06.94-2.06 2.06-.94-2.06-.94-.94-2.06-.94 2.06-2.06.94zm-11 1L8.5 8.5l.94-2.06 2.06-.94-2.06-.94L8.5 2.5l-.94 2.06-2.06.94zm10 10l.94 2.06.94-2.06 2.06-.94-2.06-.94-.94-2.06-.94 2.06-2.06.94z\"/><path d=\"M17.41 7.96l-1.37-1.37c-.4-.4-.92-.59-1.43-.59-.52 0-1.04.2-1.43.59L10.3 9.45l-7.72 7.72c-.78.78-.78 2.05 0 2.83L4 21.41c.39.39.9.59 1.41.59.51 0 1.02-.2 1.41-.59l7.78-7.78 2.81-2.81c.8-.78.8-2.07 0-2.86zM5.41 20L4 18.59l7.72-7.72 1.47 1.35L5.41 20z\"/>\n",
              "  </svg>\n",
              "      </button>\n",
              "      \n",
              "  <style>\n",
              "    .colab-df-container {\n",
              "      display:flex;\n",
              "      flex-wrap:wrap;\n",
              "      gap: 12px;\n",
              "    }\n",
              "\n",
              "    .colab-df-convert {\n",
              "      background-color: #E8F0FE;\n",
              "      border: none;\n",
              "      border-radius: 50%;\n",
              "      cursor: pointer;\n",
              "      display: none;\n",
              "      fill: #1967D2;\n",
              "      height: 32px;\n",
              "      padding: 0 0 0 0;\n",
              "      width: 32px;\n",
              "    }\n",
              "\n",
              "    .colab-df-convert:hover {\n",
              "      background-color: #E2EBFA;\n",
              "      box-shadow: 0px 1px 2px rgba(60, 64, 67, 0.3), 0px 1px 3px 1px rgba(60, 64, 67, 0.15);\n",
              "      fill: #174EA6;\n",
              "    }\n",
              "\n",
              "    [theme=dark] .colab-df-convert {\n",
              "      background-color: #3B4455;\n",
              "      fill: #D2E3FC;\n",
              "    }\n",
              "\n",
              "    [theme=dark] .colab-df-convert:hover {\n",
              "      background-color: #434B5C;\n",
              "      box-shadow: 0px 1px 3px 1px rgba(0, 0, 0, 0.15);\n",
              "      filter: drop-shadow(0px 1px 2px rgba(0, 0, 0, 0.3));\n",
              "      fill: #FFFFFF;\n",
              "    }\n",
              "  </style>\n",
              "\n",
              "      <script>\n",
              "        const buttonEl =\n",
              "          document.querySelector('#df-1b744ae1-9821-4406-83d5-ac2c790ebe0b button.colab-df-convert');\n",
              "        buttonEl.style.display =\n",
              "          google.colab.kernel.accessAllowed ? 'block' : 'none';\n",
              "\n",
              "        async function convertToInteractive(key) {\n",
              "          const element = document.querySelector('#df-1b744ae1-9821-4406-83d5-ac2c790ebe0b');\n",
              "          const dataTable =\n",
              "            await google.colab.kernel.invokeFunction('convertToInteractive',\n",
              "                                                     [key], {});\n",
              "          if (!dataTable) return;\n",
              "\n",
              "          const docLinkHtml = 'Like what you see? Visit the ' +\n",
              "            '<a target=\"_blank\" href=https://colab.research.google.com/notebooks/data_table.ipynb>data table notebook</a>'\n",
              "            + ' to learn more about interactive tables.';\n",
              "          element.innerHTML = '';\n",
              "          dataTable['output_type'] = 'display_data';\n",
              "          await google.colab.output.renderOutput(dataTable, element);\n",
              "          const docLink = document.createElement('div');\n",
              "          docLink.innerHTML = docLinkHtml;\n",
              "          element.appendChild(docLink);\n",
              "        }\n",
              "      </script>\n",
              "    </div>\n",
              "  </div>\n",
              "  "
            ]
          },
          "metadata": {},
          "execution_count": 63
        }
      ]
    },
    {
      "cell_type": "markdown",
      "source": [
        "Muutetaan koordinaatit WGS84:ksi:"
      ],
      "metadata": {
        "id": "7LahlrC-7D6n"
      }
    },
    {
      "cell_type": "code",
      "source": [
        "\n",
        "transformer = pyproj.Transformer.from_crs(\"epsg:3879\", \"epsg:4326\")\n",
        "\n",
        "lat = u['lat'].values\n",
        "lon = u['lon'].values\n",
        "\n",
        "u['lat'], u['lon'] = transformer.transform(lat, lon) \n",
        "\n",
        "\n",
        "\n",
        "u.head()"
      ],
      "metadata": {
        "id": "Ng52vuLx4YbU",
        "outputId": "5f35a9fa-7e6a-4984-f397-22380a631e39",
        "colab": {
          "base_uri": "https://localhost:8080/",
          "height": 206
        }
      },
      "execution_count": 64,
      "outputs": [
        {
          "output_type": "execute_result",
          "data": {
            "text/plain": [
              "           lat        lon\n",
              "535  60.235819  24.887813\n",
              "624  60.156524  24.934439\n",
              "626  60.184150  25.046860\n",
              "651  60.176709  24.923128\n",
              "679  60.278548  25.028736"
            ],
            "text/html": [
              "\n",
              "  <div id=\"df-747d925c-fd77-4a9c-b47e-8ad1d4f2d993\">\n",
              "    <div class=\"colab-df-container\">\n",
              "      <div>\n",
              "<style scoped>\n",
              "    .dataframe tbody tr th:only-of-type {\n",
              "        vertical-align: middle;\n",
              "    }\n",
              "\n",
              "    .dataframe tbody tr th {\n",
              "        vertical-align: top;\n",
              "    }\n",
              "\n",
              "    .dataframe thead th {\n",
              "        text-align: right;\n",
              "    }\n",
              "</style>\n",
              "<table border=\"1\" class=\"dataframe\">\n",
              "  <thead>\n",
              "    <tr style=\"text-align: right;\">\n",
              "      <th></th>\n",
              "      <th>lat</th>\n",
              "      <th>lon</th>\n",
              "    </tr>\n",
              "  </thead>\n",
              "  <tbody>\n",
              "    <tr>\n",
              "      <th>535</th>\n",
              "      <td>60.235819</td>\n",
              "      <td>24.887813</td>\n",
              "    </tr>\n",
              "    <tr>\n",
              "      <th>624</th>\n",
              "      <td>60.156524</td>\n",
              "      <td>24.934439</td>\n",
              "    </tr>\n",
              "    <tr>\n",
              "      <th>626</th>\n",
              "      <td>60.184150</td>\n",
              "      <td>25.046860</td>\n",
              "    </tr>\n",
              "    <tr>\n",
              "      <th>651</th>\n",
              "      <td>60.176709</td>\n",
              "      <td>24.923128</td>\n",
              "    </tr>\n",
              "    <tr>\n",
              "      <th>679</th>\n",
              "      <td>60.278548</td>\n",
              "      <td>25.028736</td>\n",
              "    </tr>\n",
              "  </tbody>\n",
              "</table>\n",
              "</div>\n",
              "      <button class=\"colab-df-convert\" onclick=\"convertToInteractive('df-747d925c-fd77-4a9c-b47e-8ad1d4f2d993')\"\n",
              "              title=\"Convert this dataframe to an interactive table.\"\n",
              "              style=\"display:none;\">\n",
              "        \n",
              "  <svg xmlns=\"http://www.w3.org/2000/svg\" height=\"24px\"viewBox=\"0 0 24 24\"\n",
              "       width=\"24px\">\n",
              "    <path d=\"M0 0h24v24H0V0z\" fill=\"none\"/>\n",
              "    <path d=\"M18.56 5.44l.94 2.06.94-2.06 2.06-.94-2.06-.94-.94-2.06-.94 2.06-2.06.94zm-11 1L8.5 8.5l.94-2.06 2.06-.94-2.06-.94L8.5 2.5l-.94 2.06-2.06.94zm10 10l.94 2.06.94-2.06 2.06-.94-2.06-.94-.94-2.06-.94 2.06-2.06.94z\"/><path d=\"M17.41 7.96l-1.37-1.37c-.4-.4-.92-.59-1.43-.59-.52 0-1.04.2-1.43.59L10.3 9.45l-7.72 7.72c-.78.78-.78 2.05 0 2.83L4 21.41c.39.39.9.59 1.41.59.51 0 1.02-.2 1.41-.59l7.78-7.78 2.81-2.81c.8-.78.8-2.07 0-2.86zM5.41 20L4 18.59l7.72-7.72 1.47 1.35L5.41 20z\"/>\n",
              "  </svg>\n",
              "      </button>\n",
              "      \n",
              "  <style>\n",
              "    .colab-df-container {\n",
              "      display:flex;\n",
              "      flex-wrap:wrap;\n",
              "      gap: 12px;\n",
              "    }\n",
              "\n",
              "    .colab-df-convert {\n",
              "      background-color: #E8F0FE;\n",
              "      border: none;\n",
              "      border-radius: 50%;\n",
              "      cursor: pointer;\n",
              "      display: none;\n",
              "      fill: #1967D2;\n",
              "      height: 32px;\n",
              "      padding: 0 0 0 0;\n",
              "      width: 32px;\n",
              "    }\n",
              "\n",
              "    .colab-df-convert:hover {\n",
              "      background-color: #E2EBFA;\n",
              "      box-shadow: 0px 1px 2px rgba(60, 64, 67, 0.3), 0px 1px 3px 1px rgba(60, 64, 67, 0.15);\n",
              "      fill: #174EA6;\n",
              "    }\n",
              "\n",
              "    [theme=dark] .colab-df-convert {\n",
              "      background-color: #3B4455;\n",
              "      fill: #D2E3FC;\n",
              "    }\n",
              "\n",
              "    [theme=dark] .colab-df-convert:hover {\n",
              "      background-color: #434B5C;\n",
              "      box-shadow: 0px 1px 3px 1px rgba(0, 0, 0, 0.15);\n",
              "      filter: drop-shadow(0px 1px 2px rgba(0, 0, 0, 0.3));\n",
              "      fill: #FFFFFF;\n",
              "    }\n",
              "  </style>\n",
              "\n",
              "      <script>\n",
              "        const buttonEl =\n",
              "          document.querySelector('#df-747d925c-fd77-4a9c-b47e-8ad1d4f2d993 button.colab-df-convert');\n",
              "        buttonEl.style.display =\n",
              "          google.colab.kernel.accessAllowed ? 'block' : 'none';\n",
              "\n",
              "        async function convertToInteractive(key) {\n",
              "          const element = document.querySelector('#df-747d925c-fd77-4a9c-b47e-8ad1d4f2d993');\n",
              "          const dataTable =\n",
              "            await google.colab.kernel.invokeFunction('convertToInteractive',\n",
              "                                                     [key], {});\n",
              "          if (!dataTable) return;\n",
              "\n",
              "          const docLinkHtml = 'Like what you see? Visit the ' +\n",
              "            '<a target=\"_blank\" href=https://colab.research.google.com/notebooks/data_table.ipynb>data table notebook</a>'\n",
              "            + ' to learn more about interactive tables.';\n",
              "          element.innerHTML = '';\n",
              "          dataTable['output_type'] = 'display_data';\n",
              "          await google.colab.output.renderOutput(dataTable, element);\n",
              "          const docLink = document.createElement('div');\n",
              "          docLink.innerHTML = docLinkHtml;\n",
              "          element.appendChild(docLink);\n",
              "        }\n",
              "      </script>\n",
              "    </div>\n",
              "  </div>\n",
              "  "
            ]
          },
          "metadata": {},
          "execution_count": 64
        }
      ]
    },
    {
      "cell_type": "code",
      "source": [
        "\n",
        "# determine range to print based on min, max lat and lon of the data\n",
        "margin = 0.1 # buffer to add to the range\n",
        "lat_min = min(lat) - margin\n",
        "lat_max = max(lat) + margin\n",
        "lon_min = min(lon) - margin\n",
        "lon_max = max(lon) + margin\n",
        "lon_0=((lon_min + lon_max))/2\n",
        "\n",
        "lon_0\n"
      ],
      "metadata": {
        "colab": {
          "base_uri": "https://localhost:8080/"
        },
        "id": "w0W8WDWxtYal",
        "outputId": "4659f744-78e7-4c8d-daca-a16e28214bdc"
      },
      "execution_count": 91,
      "outputs": [
        {
          "output_type": "execute_result",
          "data": {
            "text/plain": [
              "25.03448880955593"
            ]
          },
          "metadata": {},
          "execution_count": 91
        }
      ]
    },
    {
      "cell_type": "code",
      "source": [
        "\n",
        "# create map using BASEMAP\n",
        "\n",
        "m = Basemap(llcrnrlon=lon_min,\n",
        "            llcrnrlat=lat_min,\n",
        "            urcrnrlon=lon_max,\n",
        "            urcrnrlat=lat_max,\n",
        "            resolution = 'i',\n",
        "            #area_thresh=1000.,\n",
        "            )\n",
        "m.drawcoastlines()\n",
        "m.drawcountries()\n",
        "m.drawstates()\n",
        "m.drawmapboundary(fill_color='#46bcec')\n",
        "m.fillcontinents(color = 'white',lake_color='#46bcec')\n",
        "# convert lat and lon to map projection coordinates\n",
        "#lons, lats = m(lon, lat)\n",
        "# plot points as red dots\n",
        "m.scatter(lon, lat, marker = 'o', color='r', zorder=5)\n",
        "plt.show()"
      ],
      "metadata": {
        "colab": {
          "base_uri": "https://localhost:8080/",
          "height": 222
        },
        "id": "0gewffift1Oq",
        "outputId": "52fb8be3-08b9-4741-c505-cdd7d5f40f43"
      },
      "execution_count": 93,
      "outputs": [
        {
          "output_type": "display_data",
          "data": {
            "text/plain": [
              "<Figure size 432x288 with 1 Axes>"
            ],
            "image/png": "[encoded data removed]"
          },
          "metadata": {}
        }
      ]
    },
    {
      "cell_type": "code",
      "source": [
        "BBox = ((mp_onnettomuus_loc.lon.min(), mp_onnettomuus_loc.lon.max(), mp_onnettomuus_loc.lat.min(), mp_onnettomuus_loc.lat.max()))\n",
        "BBox"
      ],
      "metadata": {
        "colab": {
          "base_uri": "https://localhost:8080/"
        },
        "id": "g6LLwtcmmJGZ",
        "outputId": "7ed64736-4dd7-4f67-d943-e034c90e25dd"
      },
      "execution_count": 126,
      "outputs": [
        {
          "output_type": "execute_result",
          "data": {
            "text/plain": [
              "(6670498.48, 6686021.8687, 25490798.33220117, 25513020.96)"
            ]
          },
          "metadata": {},
          "execution_count": 126
        }
      ]
    },
    {
      "cell_type": "code",
      "source": [
        "\n",
        "import plotly.express as px\n",
        "\n",
        "#fig = px.scatter_mapbox(mp_onnettomuus_loc, lat=61, lon=21, color_discrete_sequence=[\"fuchsia\"], zoom=3, height=300)\n",
        "fig = px.scatter_mapbox(mp_onnettomuus_loc, lat=\"lat\", lon=\"lon\", color_discrete_sequence=[\"fuchsia\"], zoom=3, height=300)\n",
        "\n",
        "fig.update_layout(mapbox_style=\"open-street-map\")\n",
        "fig.update_layout(margin={\"r\":0,\"t\":0,\"l\":0,\"b\":0})\n",
        "fig.show()"
      ],
      "metadata": {
        "colab": {
          "base_uri": "https://localhost:8080/",
          "height": 317
        },
        "id": "nytYt6gzgwbQ",
        "outputId": "7f44c621-69df-4813-d966-e65526b7fa02"
      },
      "execution_count": 119,
      "outputs": [
        {
          "output_type": "display_data",
          "data": {
            "text/html": [
              "<html>\n",
              "<head><meta charset=\"utf-8\" /></head>\n",
              "<body>\n",
              "    <div>            <script src=\"https://cdnjs.cloudflare.com/ajax/libs/mathjax/2.7.5/MathJax.js?config=TeX-AMS-MML_SVG\"></script><script type=\"text/javascript\">if (window.MathJax) {MathJax.Hub.Config({SVG: {font: \"STIX-Web\"}});}</script>                <script type=\"text/javascript\">window.PlotlyConfig = {MathJaxConfig: 'local'};</script>\n",
              "        <script src=\"https://cdn.plot.ly/plotly-2.8.3.min.js\"></script>                <div id=\"161ca401-1579-4bb9-b0df-cb46638d5e83\" class=\"plotly-graph-div\" style=\"height:300px; width:100%;\"></div>            <script type=\"text/javascript\">                                    window.PLOTLYENV=window.PLOTLYENV || {};                                    if (document.getElementById(\"161ca401-1579-4bb9-b0df-cb46638d5e83\")) {                    Plotly.newPlot(                        \"161ca401-1579-4bb9-b0df-cb46638d5e83\",                        [{\"hovertemplate\":\"lat=%{lat}<br>lon=%{lon}<extra></extra>\",\"lat\":[25493784.57671493,25496358.996640507,25502600.250399247,25495733.459266044,25501589.96440953,25496275.1002244,25497234.197765306,25497296.45370305,25497654.36534513,25495781.602717895,25503130.813868683,25506535.085464407,25497763.104736395,25494961.244038258,25497738.993260507,25496692.574306928,25499310.081189416,25496830.22316928,25501802.871696625,25500672.469827034,25492792.46570704,25497766.87073263,25494501.097998407,25494600.28939921,25493599.09740041,25506279.21122028,25504695.16530433,25491776.000223503,25493155.1068444,25498938.472061027,25501429.32257017,25496453.308546197,25497149.42035008,25493916.720082782,25502250.514248986,25501065.813433684,25497500.411999088,25498138.636860862,25495698.707800794,25495751.999247503,25498143.07385643,25493432.58856692,25506618.584380902,25500342.284157213,25501579.080420416,25497615.54038396,25506676.846322645,25508757.726741765,25496502.34149716,25500491.889507607,25500815.51118399,25506548.97145052,25493637.205862295,25497274.12772537,25497228.22977127,25506354.180645317,25510582.92141657,25505107.285892207,25497131.33936816,25493424.7075748,25495860.14313936,25496455.97154353,25496378.615620885,25497849.33765016,25494671.156328347,25501778.05822144,25493003.27849623,25502916.556082934,25500617.44588205,25494401.400598105,25503694.588804904,25499105.213894285,25497034.06496544,25509706.429293055,25499052.11094739,25495724.46627504,25496960.730538767,25497042.54245696,25496727.004272494,25497816.436683062,25496180.74431876,25496286.113713387,25503341.37815812,25504371.839627653,25497282.354217146,25494559.38544012,25494387.847111657,25504131.30386819,25491474.095025413,25504467.003032487,25504353.495646,25496637.268862236,25495413.869085632,25496993.38200612,25494837.567661937,25494666.340333164,25493548.680450823,25497287.672211833,25496869.487630013,25496952.44254706,25493099.42890008,25504871.527627967,25497610.78338872,25506672.15032734,25506545.820453674,25491892.61110689,25499277.367222127,25495017.230982278,25503286.45071305,25501178.125321373,25501576.630422868,25505416.72458277,25495421.020078484,25497554.674944825,25499015.407484088,25493511.26798824,25505359.067140423,25502379.875119623,25496125.879373625,25501109.105890397,25501184.26031524,25493088.42591108,25502082.451417044,25500820.678678814,25502392.110107385,25496047.917451587,25504962.02403747,25498625.805873696,25499401.73509777,25494871.046628457,25502035.247464247,25504740.61375888,25503945.663053837,25497909.17209033,25496991.22050828,25506963.85203564,25500610.053389445,25504421.6920778,25503844.30715519,25497425.187074315,25504688.62381087,25500484.523014974,25499645.715853784,25500831.845667653,25502379.2946202,25502211.66678783,25492882.834616672,25495581.97241753,25502382.481117014,25495995.738003764,25498885.80911369,25500479.292520206,25498803.556195945,25504252.43824705,25499746.391753107,25496431.58656792,25500480.464519035,25494875.748123758,25504176.170323323,25507281.82171767,25497119.557379942,25500044.25195525,25497268.69373081,25496876.788622715,25496281.17321833,25494191.7038078,25496182.78981671,25501764.3962351,25495688.927810576,25499810.52918897,25498118.754380748,25497775.26022424,25504017.1949823,25496995.41450409,25502912.563586928,25493621.093878407,25500926.497073,25495046.95245255,25495697.40680209,25498549.728949767,25495345.0026545,25497832.42366708,25502622.40237709,25502587.46541203,25498769.8987296,25502763.12273637,25497470.3000292,25504586.2934132,25492300.250699256,25505095.37290412,25495778.599220905,25494286.94971256,25501165.43733406,25497289.398710106,25500756.38774311,25494747.62375188,25497421.54207796,25505347.37215212,25505887.659611832,25502386.989612505,25497089.98190952,25500079.48842001,25496312.410687093,25499082.7019168,25504532.6974668,25498233.52576597,25496305.29369421,25492138.38936112,25497541.716957785,25497679.667319834,25496883.030116472,25501368.192631304,25496339.26116024,25492339.194660317,25501728.88627061,25502470.187529307,25504431.638567857,25510652.212847278,25496204.238795266,25496214.002285495,25511590.458909027,25498206.53179297,25501376.81662268,25494518.737980764,25496961.62203788,25502937.64156185,25501357.01964248,25502733.981265515,25501862.670136828,25495713.374286126,25504238.01776148,25496672.852826647,25500590.86890863,25497797.82170168,25496703.846795656,25491682.82881668,25505900.91109858,25495617.92888157,25493434.982064523,25496933.125066377,25504223.8987756,25499805.62169388,25504369.21313028,25497854.120645385,25499042.6984568,25505045.797453698,25494765.530733973,25495402.841096666,25500798.183701318,25498668.18883131,25496857.02714248,25500927.46207204,25501554.199445296,25505601.17889832,25494927.093572408,25497555.58244392,25496651.42184808,25495329.094670407,25492400.393099114,25497596.137903363,25495887.74711176,25495749.06375044,25497587.209412288,25505056.00044349,25497898.81310069,25497395.117104385,25501091.64940785,25502622.341877155,25496976.61852288,25494880.576118927,25503916.126083367,25494177.716821782,25496536.567462936,25500645.550353948,25504543.979955517,25494465.68803381,25504234.58226491,25496961.771037728,25501579.170920327,25497092.514906988,25504726.37377312,25495730.909768596,25496023.94497556,25503297.11470238,25495211.640787862,25500797.123702373,25495886.00711349,25496251.003748495,25498224.348775152,25493470.21152929,25503199.841299653,25498889.05061045,25502655.092844404,25502972.66452683,25495950.354049154,25493534.063465443,25494154.879844625,25493369.06613044,25497549.46395004,25501788.17921132,25499837.918661576,25495691.74130776,25493592.33640717,25507887.859111637,25493353.66714584,25496512.763486736,25495964.957034547,25495607.28139222,25502391.20710829,25499073.075426426,25495522.845976654,25494552.577446926,25496890.995608505,25503665.599333897,25500080.42741907,25503641.21535828,25495115.539383963,25497863.75313575,25498139.49886,25495685.73481377,25501586.983412515,25495860.203639295,25499050.090449408,25496483.731015768,25501998.680000816,25498484.471515033,25492930.53006897,25493045.861453645,25504211.20228829,25501191.128308367,25492307.678691827,25495452.16304734,25497176.7988227,25497218.590780914,25499012.347987156,25499772.79172671,25506379.138120357,25501232.293767203,25492379.172620334,25502636.126363367,25502354.809644688,25499948.66255084,25496978.800520696,25500721.72177777,25497289.55020995,25503765.147234347,25497320.47267903,25503103.836395655,25495634.13486537,25496275.60722389,25501576.871922623,25496650.766848736,25497189.64780985,25503092.518906977,25500078.54842095,25494146.45635305,25495893.580105923,25502164.392835103,25499222.50977699,25498760.445739053,25499820.827178672,25503761.2922382,25497347.73015177,25498829.550669953,25496101.794397708,25501584.95841454,25503634.991864502,25503612.26388723,25496282.17471733,25493457.334542166,25494530.82496868,25500830.53716896,25493437.23756227,25497217.535281967,25496097.515901987,25501192.702806797,25495129.629369877,25496182.6988168,25503312.80918669,25504094.760404736,25499891.57710792,25499588.407411087,25493449.54454996,25493268.967730537,25493828.74817076,25504860.499139,25502430.501068994,25498143.154356346,25495891.82510768,25505020.28697921,25500834.32966517,25500667.311832186,25497179.755819745,25496734.7042648,25496924.417575084,25504633.687865805,25497453.434046067,25497675.45832404,25494166.725832775,25494228.924770575,25499391.919107575,25496401.51409799,25502091.02440847,25496184.326815177,25506631.539867952,25494638.3088612,25502212.029787462,25508406.0940934,25506136.94236255,25497360.427139077,25495134.18736532,25506183.874315616,25505832.27816721,25498034.054465447,25501751.033748463,25504725.525273968,25495777.605721895,25501351.033648465,25492220.98627852,25504608.96289053,25505764.930234563,25496046.07995342,25494978.94302056,25497824.313675188,25497184.69331481,25497375.86012364,25495286.81521269,25494443.936555568,25496687.656811845,25494949.206550296,25494920.7060788,25502706.237293255,25498804.94969455,25500611.11788838,25494350.419649083,25498807.494692005,25505077.37642212,25500317.134682365,25505136.870862626,25498970.012029488,25502697.185302313,25498958.253041245,25494977.640521865,25499408.917090584,25497381.466118038,25496130.68786881,25504318.139681354,25495542.619956885,25494458.22954128,25497849.456650045,25496521.28047822,25497584.873914625,25505784.866214626,25492043.918955587,25500702.676296823,25494578.694420807,25497547.84595165,25493864.460635044,25504755.46274403,25497693.66030584,25499717.85028165,25495358.973140527,25499340.374659125,25495956.66054284,25496786.817712683,25501741.73275777,25497355.36814413,25498366.195633303,25497486.414513085,25494160.848338656,25496264.604734898,25501236.760762736,25495338.008161496,25504848.185651314,25494454.33604517,25497085.169914328,25504409.36359013,25496186.98281252,25503930.461069036,25496069.656929847,25495611.02438848,25497468.935030565,25498145.457354043,25501117.34738215,25504298.602200888,25497863.425136074,25493467.521031983,25503966.421533074,25493886.33961317,25500465.434534065,25507441.880557608,25499780.705718797,25495573.407426096,25493597.95390155,25496111.75338775,25493579.313920192,25505325.81317368,25501850.770648725,25491656.080343425,25502265.505233992,25498550.157949343,25500832.50666699,25497282.65821684,25496014.748484757,25496428.177071325,25502148.971350525,25495605.759393744,25496061.218938284,25495824.349175155,25497173.24532625,25501574.56642493,25497498.015001487,25496846.66415284,25496329.478170022,25495819.82967967,25494878.940620564,25497385.555113945,25498629.953869548,25502026.339973155,25501447.62955187,25496090.001909506,25501064.236935265,25497073.02042648,25496353.495646007,25498832.82016668,25496748.42375108,25497441.790557712,25494445.78355372,25498951.401048098,25501126.872372624,25496722.20577729,25499759.948239554,25503828.004671488,25495835.614163887,25496337.74566176,25496755.84874365,25496595.52040398,25495419.37808013,25493431.86856764,25494989.309010196,25495817.869181637,25500133.544865955,25496662.363837138,25498179.614819884,25497250.61924888,25497017.835981667,25503295.72170377,25493039.165960334,25497176.40682309,25500816.877182625,25501639.877859615,25499389.192110308,25497138.42036108,25500625.628873874,25501611.910387587,25494453.446546055,25497361.91063759,25493201.78629772,25495953.691545807,25504849.442150053,25498748.122251377,25497233.167766333,25500985.232514262,25497188.510810994,25496684.937814564,25492238.741260763,25493067.558931947,25505166.22483327,25494964.354535148,25496808.732690766,25496207.1047924,25496782.145217355,25502045.579453915,25493271.46722804,25498420.073079426,25491954.952044558,25497236.188763317,25497186.17831332,25495323.88817561,25495478.22002128,25493607.428392075,25504495.78400371,25501596.966902528,25504056.428943064,25505899.146600347,25492941.74655776,25496277.1002224,25498537.0974624,25497085.441414066,25496861.877637625,25501190.845308647,25504644.429355063,25496564.755434748,25493385.780613724,25508881.21761827,25493887.2051123,25494042.381457124,25493457.637541868,25501788.671710823,25500105.409894086,25503025.758973736,25496238.868260637,25497783.287216213,25500470.671028823,25499382.34911715,25497215.833783668,25502148.24135125,25498496.895002604,25501688.38081112,25496377.24712225,25503048.11995137,25493419.43808007,25493440.02455948,25501705.633793864,25499769.82272968,25495694.95280455,25494518.62398088,25503976.72152277,25501043.60445589,25501153.591845907,25500470.86102864,25499588.862410635,25493720.91777859,25500493.673505824,25504899.249600243,25500537.394462105,25497501.25999824,25507599.997899488,25503401.04159845,25496978.133521367,25498807.586691912,25504131.883867607,25504185.027814467,25493859.63563987,25504545.888453607,25496028.976470526,25495705.32979417,25492950.503549,25492160.82833868,25500296.597702906,25495676.956822544,25499705.7032938,25501589.532909963,25494864.08413542,25492946.139553364,25493474.718524788,25499640.82035868,25504169.242330253,25496686.17831332,25496135.209364288,25503866.770632725,25496590.829908676,25501903.093596403,25495126.32187318,25501716.007783487,25504062.808436684,25497699.6997998,25493558.47794103,25493213.966285534,25496403.661095843,25497693.46130604,25494600.475899033,25498233.524765976,25501948.65755084,25500611.40338809,25498646.40985309,25494538.24846125,25496527.218472283,25496349.169650327,25497640.38185912,25499761.112738386,25497248.42375108,25499637.994361505,25498978.06102144,25495185.19431431,25497567.215432286,25493795.23620427,25493875.699623805,25495533.531465966,25497648.22435128,25501388.0961114,25503199.811299685,25501530.991468504,25497497.54950195,25496913.812085688,25507136.39486309,25502467.230032265,25503499.963499527,25496140.066359434,25501378.786120716,25495145.000854503,25496868.7016308,25496479.80501969,25494934.63456487,25497869.54562996,25496280.558718946,25501587.934411563,25502216.211283285,25498277.45622204,25503504.326995168,25502936.22306327,25502177.202322293,25498786.68121282,25493445.646553855,25497080.10991939,25496529.085970417,25498374.944624554,25505158.078341413,25497027.530971967,25496833.69516581,25499061.319438186,25495521.936977565,25497010.784488715,25494173.753325757,25494399.91559959,25497082.88691661,25496951.38154812,25496530.658968844,25500752.662246834,25501712.16328733,25504851.228648264,25500555.927443568,25495253.28174622,25493922.681576826,25494560.629938874,25499562.3004372,25495763.3062362,25496204.09229541,25497976.596522905,25497697.356802143,25498557.215442285,25502612.707386788,25492238.872760635,25497045.41995408,25498040.960458536,25498291.210708287,25497119.466380037,25507420.667578824,25502470.490529004,25492338.43666107,25498476.62352288,25496879.546119954,25504580.31241918,25491560.951938555,25504094.274405215,25499080.44841905,25507481.267518222,25493671.334328167,25497077.4024221,25508622.478377007,25504349.429150064,25493443.49605601,25503402.717596777,25497090.921408575,25495033.924965575,25494755.289744213,25493149.605349895,25493109.454390053,25499699.069300428,25496030.355969142,25501948.205551293,25495707.127292376,25499230.110269394,25507335.068164423,25501402.51659698,25497685.38931411,25502592.922906574,25496087.25491225,25497769.309230193,25497815.965183534,25495610.267889235,25500598.363401134,25497398.948600557,25492538.761460744,25503274.261225235,25502381.5966179,25498300.93619856,25500905.440594055,25494501.287498217,25497160.309839197,25503605.012394484,25495277.9007216,25502440.195059296,25496942.048057448,25499750.26724923,25504862.741636757,25505183.059816435,25495988.739510763,25496402.806596696,25497356.656642843,25495681.93581757,25497724.695774805,25503868.757630736,25500549.480450016,25495706.011293493,25497301.633197863,25493692.163307343,25498240.996258505,25502073.87692562,25497916.290083207,25496025.395474102,25501437.572561923,25496896.76760273,25507749.34025015,25504515.539483957,25493617.3048822,25495621.89637761,25498234.799264703,25503443.084056407,25504718.132281363,25496874.516624983,25494134.702864803,25495668.3998311,25500197.93980156,25504466.700532798,25496432.49206701,25498714.818284683,25503892.670106824,25499256.008743487,25494759.349240158,25495134.64136486,25497635.289364208,25502790.03620946,25501629.729369767,25503846.28165321,25497174.361825135,25496975.22402428,25497366.393133108,25502391.140608355,25493783.78621572,25499467.757031742,25495302.07369743,25495675.38482412,25497185.431314074,25495856.674142834,25497984.598014902,25504057.445942048,25496981.535517965,25496779.73921976,25502795.30620419,25494421.24457826,25496684.871314634,25495562.38243712,25507434.00506549,25503066.797432695,25491437.952561557,25495812.990186512,25505675.200324293,25494624.268875238,25493265.357734147,25498869.17813032,25502789.451210044,25496224.654274847,25495327.037172467,25501584.196915295,25502902.709096786,25502749.97824952,25501480.93801856,25506517.71848177,25495733.888265613,25508127.23787225,25497516.688482814,25496362.827636678,25492578.822920684,25502759.37924012,25499443.089056406,25494663.41233609,25495627.546371955,25506012.343487147,25500874.48912501,25496599.003900494,25504595.538903955,25493138.001361504,25497645.791353714,25495104.46539504,25500417.105582397,25495782.96171654,25497704.38579512,25498781.708717793,25496717.87178163,25500556.689942807,25499831.70966779,25503620.946378548,25496797.16970233,25497538.34146116,25498162.994836506,25506626.785372708,25498689.853309646,25498158.3018412,25497081.598417904,25495173.87482563,25496811.78918771,25505704.315295175,25494927.902071603,25505881.23661825,25496589.799409702,25495956.108043395,25497025.879473623,25497706.369293127,25494406.36909313,25500975.585023917,25495527.723471776,25507919.42858006,25496599.619899884,25496082.169417333,25504794.360705134,25501453.38604611,25495837.171662327,25501385.838113654,25495923.077576425,25504761.51823797,25497122.640876856,25494505.2039943,25494398.82360068,25496970.048529454,25492341.861157645,25497009.42999007,25497658.737340763,25496880.91011859,25500183.364316136,25500326.894172605,25503985.45501404,25497698.097301405,25498151.26784823,25493239.82975968,25496720.67177883,25507911.975587517,25499343.58915591,25496332.324167177,25495801.754697748,25499598.836400665,25496068.55093095,25496797.95170155,25503295.847703647,25496363.7041358,25492895.23510427,25503662.41533708,25496064.439435065,25498264.593234908,25496160.38633912,25500480.263519235,25496432.539566964,25499501.75849774,25502421.593577903,25493619.42488008,25502058.63594086,25506880.17111932,25494579.75391975,25496915.20758429,25497134.456865046,25493786.487213016,25493032.203467306,25502728.53577096,25497142.193357307,25495699.164300337,25497364.396635104,25502679.676319815,25506177.577821918,25497238.096761405,25497897.9011016,25493867.700631805,25507660.84133865,25499801.681697816,25504174.57332492,25504209.17579032,25497594.934404567,25492417.871081635,25494234.286265217,25503057.910941582,25492765.931233574,25497012.186987314,25499890.955608543,25496340.958658542,25496622.51337699,25495321.438178062,25496433.638565864,25501968.382031117,25501626.245873246,25498442.78755671,25497943.8015557,25497843.638155863,25496049.72294978,25499526.705472797,25497068.931430567,25499520.73097877,25500492.714506783,25495595.896903604,25496023.676475827,25496870.518628985,25495987.09551241,25497183.657815844,25496330.972168528,25497396.536602963,25495574.497425005,25507428.152571335,25497351.809147693,25501060.270439222,25505558.0969414,25504454.864544634,25501566.960932534,25508044.374955118,25498131.564867936,25500796.154203344,25496657.92834157,25501904.330595165,25494404.82309468,25497561.306438196,25504467.228032265,25497727.9992715,25494720.38927912,25496260.22673928,25496881.94261756,25497503.478996024,25496522.004977494,25495135.641363863,25497831.04016846,25495104.149395358,25497676.099323403,25501168.52933097,25495026.98697252,25498025.17097433,25493446.49505301,25495700.044299457,25496083.003916495,25496891.356108144,25493204.312795192,25502441.28555821,25495315.052184448,25496289.203710295,25490798.33220117,25493811.202188306,25495752.391247112,25493112.24388726,25505043.523955967,25497194.590804912,25497277.091722406,25492181.591817915,25494111.029888477,25497533.28146622,25496633.678365823,25495626.083873417,25497118.34588116,25496451.68304782,25494580.19291931,25498047.26195224,25494603.257896245,25497461.067538437,25496451.7030478,25497139.883859616,25495484.097015407,25497117.678881824,25495332.4021671,25495987.14701236,25503213.13828636,25502051.153448343,25494178.02532148,25499931.999567498,25501186.81431268,25497221.075278427,25495919.767079737,25497067.56793193,25502606.284393206,25497249.830749672,25494929.923569575,25495144.82085468,25498103.950895548,25498339.655659843,25493903.329596177,25497125.22287428,25507346.320653167,25497535.528463967,25492852.57764693,25497815.369684126,25497036.8004627,25496135.33436417,25494868.137131367,25497316.443183057,25500062.416937083,25497687.79381171,25498059.792439707,25496000.158499345,25502250.486249007,25496210.7002888,25497787.00571249,25497628.763870735,25502492.33650716,25497405.998593505,25497203.195796307,25496098.969400533,25501206.53879296,25492511.072488435,25500613.53738596,25494435.54006396,25502234.721764773,25496682.999316502,25504380.80611869,25496817.36668213,25503681.06731843,25492357.14764236,25496029.50147,25493567.808931697,25502121.280878216,25495608.367391136,25497525.316474184,25496565.505433995,25498868.231131267,25495183.467316035,25497502.08049742,25496034.319965184,25500857.02914247,25502146.851352647,25499422.599576894,25501530.593968906,25496912.417587083,25497233.167766333,25495325.037174467,25495763.03273647,25496641.13035837,25493069.247430257,25504766.646232847,25496379.686119817,25498008.18149132,25493335.3081642,25501559.198440295,25493361.872637637,25498361.468638036,25500243.464756034,25497017.275982227,25498049.867449638,25496303.970195528,25494071.28442822,25493746.58425292,25497240.28775921,25496073.148926355,25497860.547138955,25506837.80366169,25500155.533343963,25494683.0038165,25496369.033630468,25495611.02288848,25499537.62146188,25507277.71822177,25495967.468532037,25497885.42211408,25496978.15202135,25493108.597890902,25495710.05628945,25494266.007233497,25504774.727724764,25496419.74257976,25507648.81185068,25499932.545066956,25496545.49295401,25500123.99087551,25496974.892024606,25493613.0048865,25504697.10430239,25496805.82669368,25495710.34428916,25507007.721991766,25495992.410507087,25507629.785869703,25496695.87230363,25500288.63021087,25503112.333387163,25495622.92887657,25497293.167706333,25503897.95260154,25496301.052198447,25502393.206106286,25497826.18767331,25496955.805043697,25497717.267282236,25502429.653069843,25504628.3948711,25495549.7084498,25503489.06701043,25496306.26319324,25495554.42594508,25503274.392225105,25500995.65650384,25496344.48215502,25493474.15552535,25498145.466854032,25497000.94299856,25500502.155997343,25503168.866330627,25501191.0953084,25497195.491304006,25504760.85323864,25495023.99297551,25494129.258370247,25495526.238973264,25496786.26271324,25510596.70740278,25494527.099472404,25497722.66327684,25504771.244228248,25496145.602853894,25497954.346545152,25495900.06459944,25508309.712189775,25502321.84667765,25498924.31057519,25492476.727522776,25505763.594235897,25498930.98856851,25498084.892914608,25501147.73685176,25497881.957617544,25499454.567544933,25491577.341922164,25499378.46712103,25504538.78646071,25504220.960278533,25496949.738049764,25495992.137007367,25500619.58787991,25496960.372039128,25499536.25796324,25497234.077265423,25504521.469978023,25503396.07310342,25495568.559430946,25497267.129732367,25493281.013718493,25502705.00479449,25496324.573174927,25496458.79254071,25500019.117480382,25492611.082388423,25497441.548057955,25501165.77033373,25494435.18756432,25497996.91150259,25494413.18558632,25496518.26448124,25497456.295043208,25495975.696023807,25503749.18725031,25503722.042777453,25496983.504516,25503472.201027293,25495631.176868327,25498811.52268797,25506837.25866223,25499344.645654853,25497895.844103657,25493510.913488597,25498711.36528813,25495809.44469006,25495860.1021394,25496128.016371485,25494527.036472466,25496660.475339025,25498103.253396247,25493279.559219945,25500727.74577175,25500625.077874415,25504313.071186423,25510843.37015612,25495808.8996906,25491669.743329763,25504883.47961601,25497845.762153737,25502421.74657775,25499789.26121024,25493609.271890234,25508147.021852467,25493857.820641685,25493362.17263733,25496118.290881213,25501950.811048687,25497491.616007887,25497964.18853531,25496731.51426799,25501678.821320675,25497110.78238872,25497820.482679017,25505580.48391901,25498806.127693374,25504621.25937824,25503992.380507115,25500548.478951015,25496179.56331994,25495063.34093616,25498150.788848717,25491558.121441387,25493242.796256714,25508891.39860809,25500545.585953917,25494281.917217582,25497894.857104644,25505045.706453785,25496975.74502376,25498230.34326916,25495346.218153287,25498971.676027823,25501747.400752097,25498890.77810872,25504655.355344135,25497576.961922538,25494204.44479506,25497008.515490983,25494393.31760619,25500071.762427736,25494849.23415027,25504485.223514274,25496255.941243563,25497136.78436272,25497030.907968592,25503867.10213239,25497405.915593587,25497461.87453763,25499671.00982849,25500925.415074084,25508320.89767859,25497623.78137572,25495606.34139316,25497461.735537767,25495627.718371782,25496039.42646008,25496639.359360144,25501795.782703716,25497229.74276976,25504365.35513414,25493531.169468336,25505570.05692944,25494404.560094945,25497330.313669182,25501823.5941759,25495410.561588943,25496234.356265143,25499066.613932885,25498074.486925013,25494327.486172017,25495895.0046045,25505922.50057699,25493862.255637247,25499384.193115305,25497667.065332435,25493589.67390983,25506582.167417325,25496100.416399088,25495333.609165896,25505678.108821385,25495343.898155604,25497445.451054048,25502439.25606024,25499016.407983087,25492757.1052424,25503301.664197832,25501940.328059167,25497267.657231845,25491919.983079523,25496049.966449536,25495912.60608689,25492989.52450998,25500296.813702684,25496569.89392961,25496102.36839713,25495613.29638621,25497193.14280636,25499322.63067687,25499901.454598043,25502327.48217201,25499770.855228644,25494907.22359228,25496114.655884847,25497479.974019527,25504410.756088737,25495544.504455,25497540.964958537,25491595.495404013,25497264.22323528,25502564.532434963,25497168.02033148,25498205.562293936,25494389.766609736,25502829.160670336,25495143.42635608,25501966.260033235,25495586.836,25497824.063,25504543.355,25497761.781,25497125.601,25494048.322,25508290.44,25497123.9,25494195.814,25502748.054,25497093.442,25496214.376,25503553.282,25502680.855,25497724.961,25492381.492,25497300.847,25496688.435,25505247.268,25494041.352,25492232.327,25497921.307,25504510.951,25496853.755,25500803.366,25499388.137,25497718.371,25493881.92,25502913.683,25507298.269,25497496.634,25496110.199,25500262.09,25498673.984,25504209.611,25495597.909,25494184.964,25493659.792,25494313.238,25492600.279,25497385.292,25498091.233,25502679.735,25499570.214,25499577.114,25497122.119,25501674.0,25495068.787,25497871.028,25497871.274,25501757.95,25504627.525,25497302.979,25502605.804,25502269.393,25505691.059,25499208.33,25502750.431,25501207.579,25497384.915,25500175.534,25497856.577,25496069.124,25496696.352,25491547.091,25497189.106,25491431.165,25497178.311,25496983.292,25495553.641,25495754.104,25491902.343,25505970.071,25502942.334,25494410.543,25496824.452,25491319.628,25500396.517,25495613.371,25492366.225,25492890.087,25504091.721,25498094.883,25493377.309,25496084.785,25497301.4,25495686.188,25499014.506,25496122.292,25496891.44,25502271.747,25497122.34,25492190.025,25495665.766,25494669.772,25495525.813,25493469.23,25498086.096,25493773.109,25501533.425,25502211.547,25495532.992,25495683.697,25503422.742,25495465.035,25497006.213,25496223.223,25501601.043,25502822.526,25498145.933,25497171.0,25493340.142,25491569.991,25498146.11,25501446.031,25504561.781,25504213.572,25496540.154,25502598.175,25493466.858,25496896.464,25501636.874,25496409.006,25495866.698,25501866.431,25504555.723,25493000.817,25494144.545,25493407.438,25500746.978,25494244.54,25496983.237,25493876.474,25505886.921,25493364.065,25494414.968,25494507.311,25493489.46,25494016.42,25495879.048,25499603.252,25505731.93,25496688.703,25499908.561,25495688.981,25491424.749,25497259.751,25501155.97,25500059.657,25503398.587,25497709.858,25497401.561,25492372.857,25504303.976,25501956.895,25498444.745,25500444.309,25500995.808,25506509.483,25503150.981,25497456.015,25497939.24,25495858.66,25497593.099,25496912.239,25498129.812,25496489.312,25494542.311,25502018.133,25496405.293,25497454.286,25496280.253,25505416.688,25504821.391,25495937.636,25497892.431,25506695.459,25494480.57,25494279.955,25507025.027,25497944.075,25497371.906,25497353.412,25497277.951,25508936.917,25496345.022,25496443.626,25497861.886,25495729.341,25495993.414,25495725.32,25498386.425,25496133.136,25495888.751,25502738.765,25497380.259,25500224.171,25497037.715,25497606.465,25495612.557,25497892.342,25496480.08,25496532.754,25496772.831,25491640.893,25503439.924,25491474.716,25491695.823,25499654.881,25492024.779,25504441.931,25503212.267,25497752.062,25495477.819,25496432.42,25493951.821,25495778.412,25498316.054,25499409.581,25498226.128,25493889.517,25500458.622,25500561.348,25494394.969,25501715.656,25508918.256,25504848.433,25495918.929,25492381.128,25491349.91,25496879.611,25502948.147,25500121.888,25498169.177,25493814.972,25501086.633,25498445.066,25497826.581,25498641.346,25491622.478,25509044.289,25500236.815,25503333.735,25498080.768,25496185.26,25493495.897,25502753.444,25502254.376,25497567.317,25497240.657,25495797.127,25494881.118,25493590.489,25504532.635,25496425.547,25503544.01,25504538.06,25497618.907,25497886.372,25492135.285,25502192.727,25495458.01,25494326.869,25499581.302,25496291.088,25504317.304,25496886.785,25496951.676,25502715.567,25493455.0,25494640.943,25497300.704,25498105.952,25497167.388,25500708.865,25496978.417,25501115.974,25496880.025,25494506.722,25504315.81,25510024.033,25502753.528,25494993.951,25496044.321,25495040.487,25494397.172,25501086.231,25496868.627,25492588.967,25498374.554,25497610.861,25493213.723,25504138.685,25492371.748,25496052.826,25500821.252,25508889.789,25498116.105,25496300.294,25495717.703,25498983.859,25493566.415,25495098.798,25497171.222,25501643.142,25501423.27,25493895.949,25497381.229,25491555.849,25499105.722,25504713.855,25504545.924,25500599.29,25494190.227,25495607.363,25498124.135,25501163.558,25498632.307,25500828.191,25500683.401,25496173.209,25499824.391,25501859.409,25495645.515,25499559.798,25498735.767,25502390.204,25504188.438,25500333.314,25507508.65,25494885.0,25496840.42,25497204.92,25497087.37,25494707.32,25499444.72,25497860.42,25499786.7,25503631.44,25492186.87,25504378.09,25493571.64,25501739.07,25491654.11,25496989.43,25507056.8,25501769.73,25493546.31,25502330.46,25513020.96,25502729.35,25493454.25,25506418.67,25491954.9,25504056.89,25493431.68,25510603.54,25498650.23,25501711.12,25491774.02,25494179.24,25504159.14,25502497.81,25493621.3,25505779.65,25495462.35,25492248.24,25504499.0,25496868.84,25507611.86,25496035.11,25494383.59,25502951.0,25510987.22,25507432.29,25491928.93,25495513.6,25504761.13,25496971.19,25497765.47,25494339.61,25499388.3,25495969.23,25504908.45,25507434.05,25492750.04,25508308.33,25497230.36,25502022.92,25507345.72,25496513.14,25497300.87,25503743.2,25505823.66,25496647.45,25504264.96,25493660.82,25503186.82,25494308.73,25506367.78,25493522.99,25498340.42,25497121.75,25497395.46,25497404.04,25496868.35,25502765.07,25494610.49,25496215.55,25491583.1,25500780.63,25496988.95,25502639.11,25506035.93,25504240.13,25507725.97,25491843.37,25491986.05,25492501.58,25493207.03,25493208.24,25493585.61,25494241.83,25495324.54,25495516.44,25496391.94,25496754.65,25496844.09,25497013.64,25497187.75,25497351.62,25497483.03,25497532.93,25497706.01,25498039.9,25498088.14,25498253.13,25498425.74,25502604.4,25502851.97,25503003.22,25503896.19,25504538.07,25504756.41,25504846.17,25492381.99,25492499.53,25493595.9,25494196.38,25494232.29,25497589.5,25498135.11,25499060.1,25500698.08,25501216.27,25501522.67,25501702.49,25504413.3,25493283.85,25494328.32,25494859.55,25495094.3,25495382.37,25495754.82,25496198.97,25496862.74,25496890.07,25496903.84,25497260.98,25497609.64,25497683.6,25497806.02,25498487.4,25499959.31,25500404.49,25502649.11,25504038.39,25506606.13,25507621.17,25508261.49,25493112.04,25494603.86,25494735.54,25496312.55,25497735.36,25500725.26,25501361.95,25504144.03,25507514.23,25501048.08,25495952.25,25503121.18,25492604.4,25495710.22,25491371.06,25508308.45,25504229.96,25502147.82,25491002.43,25496199.92,25494450.76,25495850.36,25497838.63,25503572.58,25504601.7,25498537.03,25504534.18,25503079.94,25498760.63,25491284.74,25499150.0,25509727.8,25491651.01,25491601.36,25496422.24,25497613.91,25496870.04,25492910.39,25498014.28,25504292.68,25505901.62,25503046.91,25499554.58,25501637.63,25504216.86,25493400.33,25506123.54,25495713.0,25498905.07,25496976.21,25496552.31,25498611.38,25497632.3,25493210.37,25502605.53,25497246.81,25496836.47,25496815.04,25496679.19,25493835.0,25498861.6,25494517.84,25497232.91,25496231.51,25497724.45,25497959.32,25500529.48,25497717.02,25501346.41,25495608.0,25496202.29,25502243.34,25497129.11,25493118.33,25505782.26,25504369.49,25495095.32,25498127.07,25501190.17,25495577.42,25499945.02,25495007.3,25495632.45,25496055.48,25494850.57,25497927.01,25497235.63,25496948.05,25496884.7,25497146.45,25493306.15,25502908.52,25504856.01,25493320.88,25506520.43,25491340.32,25497046.02,25504233.12,25497291.29,25495659.78,25494884.19,25493164.19,25495980.6,25495163.87,25497318.82,25500138.96,25498715.07,25508068.21,25504214.57,25494590.46,25497129.13,25493621.08,25496377.65,25502987.63,25509360.87,25498839.83,25499349.41,25506875.64,25495753.3,25493891.3,25498847.02,25497875.44,25497457.36,25497546.28,25501532.27,25505444.25,25495920.97,25492072.94,25492247.5,25508308.02,25502961.75,25492207.44,25507549.79,25500833.71,25496598.31,25493586.8,25496957.65,25502894.96,25495624.34,25498154.66,25501997.13,25506595.58,25502059.14,25502766.51,25499524.08,25496699.58,25499319.51,25496214.81,25497774.55,25501746.77,25491484.43,25496207.05,25497952.25,25497869.14,25498168.69,25496660.65,25503789.71,25504856.66,25502122.69,25494175.75,25502032.71,25494050.12,25497859.06,25493425.09,25500157.36,25503172.29],\"legendgroup\":\"\",\"lon\":[6680351.668,6671513.485,6674590.598,6673763.117,6685107.509,6681348.811,6671460.94,6674360.855,6672852.634,6674155.847,6677358.645,6676142.856,6673524.397,6675370.853,6674221.156,6679659.277,6678514.754,6671252.567,6675674.229,6683023.221,6671614.598,6675183.675,6678568.137,6678332.978,6675972.023,6679830.783,6681610.086,6680820.143,6676820.163,6680837.138,6685454.888,6675832.355,6678915.593,6677378.614,6684312.958,6680974.681,6675060.521,6674671.572,6681678.579,6681637.165,6680138.551,6677107.765,6676920.949,6685034.646,6685400.388,6675752.492,6676748.588,6677198.93,6672661.626,6679209.041,6682398.111,6680472.42,6681185.781,6671398.105,6675291.441,6677060.044,6682486.099,6679899.335,6674592.018,6678127.23,6672025.743,6681258.227,6673145.218,6675500.395,6677447.51,6675436.308,6679452.38,6683040.228,6683286.741,6676739.85,6672425.177,6683424.018,6671857.16,6677528.901,6675370.722,6674654.465,6673154.847,6677357.265,6674824.938,6675562.442,6672541.807,6672399.898,6677212.917,6677123.058,6672778.32,6678890.126,6679036.031,6678918.066,6681239.284,6676690.629,6679808.437,6676201.183,6674865.207,6672308.244,6678692.414,6677243.222,6677833.782,6675641.486,6674647.128,6676665.052,6680373.928,6677739.635,6675282.018,6676342.151,6680477.328,6680670.573,6681046.552,6677320.903,6676350.636,6685686.44,6685250.206,6677548.008,6675124.604,6675680.599,6682095.357,6675568.085,6678195.73,6675786.781,6672734.28,6681098.08,6683669.188,6676180.703,6675760.756,6675063.054,6678487.081,6680590.399,6678022.58,6674941.512,6683017.714,6678380.211,6677483.556,6677898.785,6684150.208,6674912.794,6677102.532,6676953.428,6683299.527,6682378.355,6677293.205,6675363.455,6677897.21,6679716.178,6682892.018,6685192.594,6678480.688,6675492.477,6674973.646,6673082.057,6676460.341,6674354.47,6678183.671,6685994.48,6674920.88,6684725.919,6680891.652,6676053.852,6682061.721,6675385.275,6679385.761,6676929.039,6676169.766,6682091.526,6673097.13,6677807.56,6672232.631,6679696.548,6677626.415,6684536.387,6674539.309,6680954.639,6679224.171,6681312.234,6684101.341,6672604.512,6684260.983,6671579.657,6679100.127,6675349.434,6673797.049,6678211.512,6674165.636,6681704.241,6676171.399,6674616.23,6675569.317,6673938.063,6675889.19,6680315.854,6680163.573,6680523.425,6673528.32,6680218.795,6680263.193,6671488.631,6681344.571,6674891.052,6673469.018,6678185.368,6678485.948,6678490.929,6674173.473,6679509.763,6672357.664,6683539.417,6680400.291,6674842.565,6672658.659,6679065.916,6680235.403,6673371.764,6674761.619,6679252.614,6679265.299,6678614.688,6675738.034,6681391.523,6678947.183,6684128.411,6674573.935,6671873.348,6683087.069,6674775.701,6685503.331,6675839.78,6676395.141,6681189.54,6684803.232,6681503.595,6684958.666,6674029.694,6676849.809,6673045.056,6679145.994,6673138.177,6673045.994,6681582.843,6680722.971,6672522.756,6675509.734,6672546.586,6677381.764,6680885.442,6682656.966,6674351.733,6682515.481,6677503.743,6676644.811,6674799.828,6683893.65,6678232.114,6673241.768,6679629.533,6685725.866,6680938.047,6678578.047,6683045.796,6671902.609,6670891.88,6678576.515,6679397.463,6672435.863,6674073.805,6674408.692,6678983.12,6676542.625,6679789.648,6684809.194,6676173.399,6676659.78,6672319.294,6684035.23,6683227.571,6671829.081,6682161.793,6678971.603,6677194.112,6679538.641,6683091.836,6685430.412,6672603.451,6677939.383,6670576.823,6674546.457,6676394.99,6674702.971,6682245.445,6681144.881,6672733.067,6677159.917,6670977.675,6684159.615,6678241.81,6676644.728,6675906.816,6674300.058,6672470.637,6676652.324,6680226.995,6675786.515,6684544.113,6680876.414,6673752.847,6678011.227,6676513.088,6677070.349,6672647.932,6674313.509,6674988.149,6676469.611,6683130.836,6675132.693,6677166.724,6678230.286,6684046.647,6679511.793,6679470.619,6674340.81,6678491.932,6680157.456,6672794.998,6685601.771,6672023.743,6682535.719,6671855.5,6675619.118,6677987.377,6672045.074,6680721.545,6683313.652,6680307.002,6679621.426,6674724.268,6672529.951,6681420.445,6682097.266,6683882.57,6678944.166,6680995.739,6680101.922,6676808.27,6683678.664,6679963.121,6671567.284,6684963.094,6671483.632,6680796.326,6673468.958,6679701.507,6672285.081,6673143.098,6685275.232,6673047.389,6672898.598,6677301.444,6679507.733,6677293.513,6674588.539,6673518.637,6684077.033,6675584.041,6681176.108,6677820.07,6672437.06,6681228.115,6679704.412,6685404.569,6684395.971,6676529.63,6672397.777,6681408.486,6677191.082,6684080.763,6679727.715,6675347.156,6680307.704,6682598.681,6674833.579,6677629.415,6676570.591,6679628.47,6682704.335,6682141.751,6670635.814,6680227.963,6671959.205,6677971.468,6677088.244,6675810.509,6681018.969,6677519.982,6682140.498,6683424.351,6675305.983,6671730.009,6675839.625,6679181.472,6682388.239,6673708.873,6680916.636,6676454.429,6683011.413,6672521.476,6675543.861,6673414.523,6679531.237,6678663.359,6675282.338,6677343.387,6678944.831,6672678.614,6672437.053,6678684.064,6678134.016,6683107.337,6675898.819,6677934.354,6674585.025,6680445.945,6680995.744,6682109.835,6677285.363,6672857.95,6680498.952,6675962.961,6675308.135,6678279.006,6671990.363,6675798.486,6671928.724,6673357.091,6674694.157,6684464.876,6677747.914,6681119.009,6680270.754,6681262.47,6680522.88,6682101.801,6677371.405,6682800.48,6680274.6,6681042.883,6680475.896,6680932.457,6674461.5,6671947.878,6679720.303,6673357.056,6678463.766,6677907.088,6673060.478,6674023.351,6677287.968,6672309.417,6685756.08,6676073.757,6673197.651,6675701.872,6683120.003,6672909.863,6684539.371,6675223.794,6683556.236,6676667.898,6671991.769,6676205.757,6672713.485,6675021.708,6677701.949,6675563.751,6672515.327,6682201.734,6675222.158,6679896.485,6680209.859,6675191.039,6683907.084,6680162.313,6679436.355,6673632.204,6672849.774,6675372.787,6676527.083,6681024.278,6679275.39,6675101.541,6671396.883,6682211.441,6680526.872,6682260.407,6677888.585,6679066.399,6674322.66,6682381.419,6671978.326,6675733.259,6680514.399,6675546.588,6681441.937,6676258.654,6676942.631,6684081.824,6672867.392,6672339.641,6672764.452,6673433.109,6673618.15,6680481.726,6673933.987,6671722.278,6685417.263,6674115.786,6673055.324,6678894.744,6673158.31,6672373.282,6678190.237,6678271.983,6675234.682,6679372.106,6672101.753,6681059.694,6677342.178,6679786.094,6678248.111,6674844.601,6675905.338,6677256.552,6678264.714,6682327.494,6673067.565,6685131.066,6683377.086,6673165.793,6673139.977,6675986.624,6676191.913,6678579.958,6671946.182,6672264.547,6674511.193,6681522.828,6672367.264,6672790.491,6675675.388,6679691.151,6676407.957,6680711.335,6672708.064,6682254.05,6685738.472,6683035.347,6673301.329,6681168.484,6675536.348,6677730.113,6672563.578,6670886.487,6676666.808,6677477.777,6682659.658,6671461.91,6680199.689,6675314.255,6672679.166,6680839.175,6672014.201,6678450.073,6673352.547,6673052.174,6672794.781,6675416.021,6677043.555,6678461.82,6680343.086,6678316.845,6673509.434,6675325.191,6674598.297,6675218.401,6675961.268,6683235.218,6683490.567,6684160.572,6677347.472,6679468.527,6681348.872,6681269.283,6681125.204,6673742.265,6683121.998,6680642.851,6673012.76,6677100.342,6677714.047,6681488.564,6678746.366,6681398.488,6682580.726,6685618.882,6683993.221,6677625.113,6678307.365,6684133.896,6680752.525,6674115.242,6673126.869,6675067.698,6684568.106,6672595.793,6679723.836,6677607.712,6679734.804,6683900.152,6683881.48,6673745.939,6680333.893,6683951.006,6681080.083,6680257.83,6682048.42,6682126.754,6676079.786,6679579.358,6677683.434,6679325.502,6674933.457,6678746.999,6672403.275,6676642.814,6675283.257,6681506.947,6677277.512,6681539.764,6678974.663,6677088.382,6672148.141,6679410.753,6680141.335,6684990.229,6673745.394,6684444.936,6685418.718,6675373.914,6679455.651,6670498.48,6683845.545,6677468.172,6672506.082,6672624.486,6682461.602,6671953.81,6675966.472,6678542.056,6684746.07,6677678.099,6678093.684,6680217.727,6678245.929,6672186.307,6674964.298,6677270.247,6678144.888,6674859.062,6679921.167,6681096.473,6675823.359,6673095.682,6673456.543,6675064.762,6683079.647,6679578.057,6684235.736,6683327.096,6675377.639,6674969.479,6680726.251,6677378.371,6673392.806,6674046.285,6682029.196,6684160.615,6685732.167,6672776.834,6677543.497,6676873.595,6672408.012,6684129.688,6673752.419,6685504.392,6672212.224,6675366.607,6673141.278,6673375.663,6675460.979,6681003.735,6685108.448,6675507.626,6674911.944,6680156.965,6684371.779,6683991.506,6677690.32,6676643.84,6675192.887,6672009.981,6683448.907,6677596.21,6672766.598,6672855.792,6674868.647,6675129.664,6678801.314,6677284.333,6676755.816,6673284.636,6676600.975,6671825.9,6675061.994,6675827.591,6677716.003,6680199.684,6672403.635,6681539.674,6678584.952,6681550.541,6674759.714,6671605.861,6672621.226,6672953.006,6675124.564,6676788.547,6672249.277,6674851.598,6674592.559,6674920.366,6676139.742,6678786.597,6678014.117,6678738.75,6678213.298,6677782.626,6677541.673,6681344.988,6679776.562,6682491.608,6677711.649,6672365.72,6673168.388,6677269.886,6682682.385,6676648.778,6682089.275,6674175.503,6675383.063,6677279.942,6672443.98,6671688.245,6682848.604,6672815.445,6684613.011,6673178.913,6682704.293,6679992.883,6679539.859,6672885.596,6676979.084,6673150.401,6672758.047,6672671.399,6672907.792,6685796.948,6674941.365,6677345.859,6683652.506,6678503.775,6674929.667,6679101.491,6676250.536,6671785.931,6679245.361,6675290.386,6684690.976,6677503.324,6681126.936,6677732.364,6679842.589,6674354.257,6671652.909,6675511.484,6680746.421,6674693.054,6684673.254,6682062.812,6673810.318,6678317.785,6677788.096,6672812.364,6675680.439,6674545.752,6673838.007,6685050.85,6672425.401,6676692.024,6676541.991,6671407.424,6672391.785,6675031.737,6675309.632,6678079.234,6677816.498,6676723.762,6672244.09,6682567.52,6676700.626,6674702.936,6674976.232,6684313.72,6681024.89,6677278.064,6672422.056,6678138.765,6681040.962,6685710.144,6680859.829,6675285.806,6671454.097,6672415.61,6678486.051,6680608.822,6684239.58,6674393.494,6674391.796,6682415.138,6673725.821,6679589.364,6677656.922,6672236.835,6681900.486,6676872.136,6676679.409,6672119.773,6675049.833,6677025.718,6676102.806,6681210.169,6671104.674,6680443.932,6672224.469,6671661.945,6677906.972,6673927.853,6681527.408,6674197.113,6685561.658,6677026.499,6681504.08,6675796.568,6678829.28,6674640.741,6677166.814,6671979.855,6672807.504,6680217.049,6684428.461,6681125.629,6672253.674,6674220.228,6680810.41,6680980.89,6675515.545,6679845.795,6672397.597,6672838.364,6672262.032,6684184.309,6673516.444,6672985.241,6678481.728,6672847.28,6679745.384,6682764.563,6679545.058,6671253.567,6677936.687,6677896.577,6679291.92,6674974.475,6676928.754,6671708.494,6672382.216,6672720.034,6680506.859,6672639.949,6678499.764,6671954.78,6673944.984,6677345.752,6675628.155,6675783.338,6674970.679,6675103.821,6677188.537,6672324.335,6673648.594,6677809.348,6679380.286,6676582.22,6685766.792,6672987.317,6677968.469,6674053.377,6680215.404,6677287.152,6682719.826,6678625.776,6676270.502,6674062.615,6674930.672,6684302.31,6685014.165,6678777.547,6675108.54,6678415.587,6679538.605,6671268.262,6677137.273,6678531.781,6679164.018,6677189.571,6678826.72,6680470.94,6673606.235,6682841.577,6672580.372,6672054.012,6680355.897,6672846.498,6672429.81,6672652.267,6684675.572,6672719.553,6683844.331,6675532.862,6671370.462,6675126.582,6676742.741,6675213.193,6675549.144,6681455.921,6680189.614,6672025.138,6684455.545,6671855.432,6673805.108,6672778.804,6672827.742,6677141.754,6673446.448,6674789.366,6677378.129,6676673.33,6681048.438,6683333.556,6683149.472,6674384.909,6678990.329,6676772.812,6679070.664,6680217.718,6675948.359,6681800.675,6673364.23,6681046.124,6680886.598,6678660.735,6681274.237,6685693.026,6676126.805,6675024.921,6674367.426,6678682.122,6684671.672,6681042.646,6683515.673,6674591.79,6671928.676,6676074.514,6681150.711,6673120.348,6681483.431,6676137.864,6682416.535,6674319.692,6678605.692,6675506.334,6685711.887,6680873.695,6680326.881,6685437.047,6677028.203,6679758.935,6683894.589,6671324.402,6684838.843,6677089.196,6674603.044,6680084.081,6675178.495,6675393.576,6674674.7,6675920.396,6682684.964,6672805.322,6672422.086,6675972.172,6674683.703,6681315.232,6684022.964,6675380.851,6678812.047,6676648.869,6674073.321,6672101.541,6678779.682,6680512.201,6684688.007,6672049.259,6672396.989,6681975.315,6680727.735,6673270.347,6680380.321,6677941.99,6673462.142,6673942.977,6679060.22,6681730.513,6674504.126,6672917.78,6673079.39,6676143.711,6672351.876,6672688.457,6674582.743,6678334.069,6672263.369,6675951.389,6677645.415,6675057.468,6681019.107,6674713.635,6672193.704,6672230.464,6675439.579,6677407.548,6679951.609,6685927.876,6683252.806,6672138.626,6675408.659,6676769.339,6671407.376,6680498.467,6672383.337,6676773.999,6675005.893,6677358.194,6676081.876,6678334.016,6682915.097,6680231.352,6678470.452,6672691.826,6673049.786,6678509.213,6679083.771,6682878.635,6681325.593,6672781.858,6673878.271,6680419.172,6671883.255,6673098.822,6672805.826,6681255.097,6673288.421,6673475.412,6672070.003,6675473.029,6676707.582,6683283.621,6681259.018,6675226.986,6672677.106,6677586.664,6672998.398,6677330.289,6680102.255,6672216.001,6680207.001,6673521.334,6673994.49,6675163.347,6672294.281,6683582.949,6675368.581,6675831.112,6672354.244,6681622.817,6673569.142,6681768.463,6675610.939,6671281.075,6671461.91,6674197.053,6674603.597,6672770.904,6676714.49,6680803.669,6671325.981,6675145.955,6675529.73,6685726.018,6671019.424,6677753.487,6684663.387,6675450.165,6678030.245,6678646.798,6678717.222,6671830.629,6671458.123,6677116.739,6675295.59,6679560.507,6683702.04,6675735.681,6672272.318,6672651.637,6684245.701,6679738.961,6673768.205,6676191.973,6673240.434,6678057.608,6672157.291,6676188.368,6677928.84,6671655.424,6677433.52,6683927.443,6678701.151,6679890.381,6676650.722,6671549.391,6681612.146,6681766.182,6673898.511,6676958.76,6676049.55,6677433.944,6672384.291,6681787.714,6677175.954,6672588.954,6672553.49,6679419.358,6672666.536,6676469.672,6674381.909,6676686.168,6673650.097,6677083.214,6677275.938,6673255.2,6679108.751,6672659.689,6672306.683,6676715.532,6682364.545,6671331.92,6676495.601,6680158.637,6674536.031,6683821.628,6677522.915,6680605.213,6680069.798,6677627.202,6680597.385,6680205.008,6675119.787,6674586.566,6682493.523,6676191.276,6674231.668,6677812.651,6672743.884,6676460.249,6681143.306,6678872.586,6683676.664,6683548.624,6679986.798,6678320.071,6680852.922,6675289.379,6680880.096,6673498.977,6681407.176,6681365.499,6681078.638,6680397.474,6677049.436,6678636.35,6676983.193,6679486.106,6678648.68,6684257.668,6675362.668,6678822.814,6672402.124,6674317.51,6675262.599,6677948.755,6672817.502,6678462.293,6675948.602,6685923.482,6671524.046,6675583.105,6680285.218,6680379.397,6677367.175,6675921.64,6676528.808,6673940.4,6672307.436,6682511.075,6682383.161,6672237.896,6676627.459,6681661.521,6683241.99,6679545.479,6683547.36,6676343.395,6682347.758,6675321.37,6674194.718,6681273.186,6675768.46,6677712.329,6676227.905,6676763.971,6677963.721,6682124.257,6681615.785,6680613.792,6683632.837,6674179.691,6681453.358,6680085.69,6675255.114,6676518.571,6682943.404,6681248.978,6681367.482,6681302.546,6678704.735,6675527.998,6675514.594,6679280.214,6674484.158,6681444.706,6683893.334,6672462.906,6681999.086,6681125.556,6683320.882,6672986.631,6684160.631,6679752.141,6672547.775,6674676.463,6676945.538,6682197.487,6682114.473,6677378.109,6681102.012,6680516.849,6672742.837,6677506.742,6682663.959,6678150.796,6675017.265,6680930.21,6680938.303,6678184.822,6681569.851,6673326.623,6676601.79,6678281.882,6680440.17,6679500.522,6678208.432,6682461.34,6679769.127,6673289.271,6681108.54,6682549.676,6674480.253,6674912.25,6681232.61,6675272.375,6681408.78,6675744.736,6674821.004,6682378.484,6672893.31,6674530.915,6676330.337,6676832.84,6677718.187,6677568.182,6677817.24,6677903.909,6680168.322,6672780.774,6675551.769,6673884.425,6681009.34,6683541.931,6679694.161,6680202.011,6681145.154,6678657.128,6680397.053,6683035.196,6681745.26,6675226.223,6676933.856,6675820.661,6670908.027,6680447.022,6672418.388,6674331.346,6684688.946,6682095.388,6674928.808,6682847.758,6675497.264,6672437.637,6679305.465,6673984.854,6674588.115,6679443.958,6683366.083,6671852.106,6672618.488,6672774.791,6674434.779,6681038.918,6682675.614,6683655.82,6683781.44,6674709.759,6675813.087,6682371.031,6679900.237,6674384.829,6682141.718,6680898.728,6675820.902,6677981.942,6673381.281,6674807.694,6676727.489,6672782.235,6672264.212,6674872.604,6679821.1785,6680815.9336,6677747.1364,6680998.3911,6678152.1913,6677027.4956,6681146.9916,6681162.7727,6677412.7821,6673611.3324,6675388.3002,6674572.5055,6677236.1541,6672829.4453,6674220.0716,6678579.4967,6672437.9458,6675562.9129,6678709.3414,6675721.5313,6680275.4382,6675189.1515,6678793.519,6682728.2897,6683892.2136,6683011.2653,6679968.0447,6683112.174,6677762.6482,6677853.1558,6672778.3339,6677088.5788,6683208.0429,6677091.2187,6677033.0773,6672400.0327,6677292.9914,6677878.2603,6680603.936,6679857.406,6675257.7563,6676729.5441,6672825.7015,6679079.6161,6681475.9602,6681604.2352,6674889.2008,6674687.3648,6675315.565,6676098.4255,6676573.2227,6681536.8465,6672433.719,6675628.8418,6673551.03,6679123.4102,6681001.3528,6673481.0666,6675472.9041,6678188.8605,6681569.3933,6675208.5242,6672378.4533,6679658.3926,6680810.4216,6682715.1713,6680591.8526,6675630.8546,6673241.6913,6673316.4095,6679593.5696,6679339.7082,6680562.8501,6683467.0462,6676516.3894,6671250.5659,6681064.3091,6681788.3446,6673388.1911,6680070.4654,6674966.9408,6683232.1378,6678054.802,6671291.1358,6680354.6044,6682533.276,6673469.3152,6682099.441,6677089.3373,6674494.9941,6677143.6073,6672769.5593,6680126.8505,6672082.0345,6672066.8277,6674622.2549,6680933.6137,6679486.397,6680634.9369,6679454.5175,6681277.5863,6675112.327,6679697.1445,6684141.5158,6675218.0937,6678079.7464,6672772.131,6680957.0185,6682657.5976,6680157.2038,6675821.6749,6677934.6624,6680924.2877,6680159.0452,6685751.4249,6677497.0594,6684532.0415,6682621.7618,6680907.0326,6671951.5659,6674497.8873,6685733.114,6678700.8587,6675431.6209,6675637.5241,6682882.4147,6675017.9513,6675638.2556,6677585.1339,6679506.6548,6679160.6631,6672761.3046,6683123.5403,6678487.3886,6676950.4902,6680286.3877,6680452.9507,6677480.4677,6671956.7876,6672693.1946,6684702.6945,6678465.9556,6672679.1543,6682715.3854,6673830.8113,6681196.5486,6675264.4958,6680932.5148,6681650.5802,6678129.3628,6677874.6475,6673439.5119,6680062.8311,6681396.9595,6683703.9989,6678209.5543,6679242.4581,6685793.8006,6676986.6945,6677564.6508,6678234.2099,6681321.3927,6674448.9731,6674015.6179,6677320.9984,6680140.1074,6672755.3947,6677243.5161,6675576.9066,6679926.8329,6678235.2226,6677051.736,6677552.6015,6677677.8323,6674292.1651,6675354.8133,6679735.5356,6679285.2567,6680214.8973,6680347.4536,6671496.1456,6679135.1395,6675457.0477,6672907.4428,6681828.6438,6675137.9853,6672897.9542,6673634.3889,6674015.1486,6676233.5172,6673344.3035,6675052.6955,6675641.0253,6681143.9231,6677727.7958,6681522.0251,6680894.8994,6677350.6861,6672924.5938,6681786.6574,6676239.1113,6676520.7856,6673085.3044,6671759.4883,6681419.6056,6684155.5558,6681216.3777,6678837.0399,6684480.2869,6681871.6369,6678899.1854,6678048.0585,6673712.4543,6673542.2523,6672202.5682,6680212.8128,6676266.1116,6674986.3088,6674766.4865,6678153.0284,6681516.0798,6680947.7921,6680256.9289,6676982.1211,6676454.3001,6678736.3201,6677751.6973,6676763.7075,6680082.9684,6681117.13,6672387.815,6679755.714,6680745.7698,6679401.9318,6677316.3124,6681048.7179,6679131.7151,6673271.1708,6680517.4526,6680875.9227,6677519.7848,6685205.9064,6677217.7424,6679697.4849,6672733.9136,6671428.3239,6677718.9664,6683302.4582,6674370.219,6676810.1858,6674368.9364,6672249.8717,6680492.4913,6682619.8357,6671656.1912,6682545.9508,6682360.1117,6681070.7568,6674991.4422,6680367.9176,6675470.0187,6673681.077,6680209.3564,6683517.0791,6672688.6251,6678568.5415,6675876.2244,6679131.8753,6676899.5406,6676635.7921,6679890.5576,6672380.0286,6679725.6324,6681497.7979,6685718.6489,6672690.0013,6681046.9968,6672757.5631,6680452.2347,6678929.4959,6677705.3716,6678382.4951,6673633.6942,6672862.1128,6675381.1652,6676693.7229,6681050.8606,6677822.7601,6680230.698,6675092.811,6675730.4241,6675441.6933,6684369.2587,6680106.7151,6673035.827,6686021.8687,6681806.0292,6680220.0837,6671638.2858,6672460.6219,6683685.2802,6679936.628,6675365.4809,6682227.6035,6685702.2634,6681006.3252,6680056.5834,6681521.2643,6681436.8485,6683448.8811,6681641.0847,6682136.7406,6685244.9061,6679663.2944,6673047.0636,6680157.195,6680280.6074,6677112.5818,6680742.5839,6681437.3995,6680175.5876,6681748.332,6684217.724,6679877.7303,6683517.8649,6675448.652,6676469.7869,6683161.0497,6685033.9677,6677222.75,6672292.79,6679637.26,6682565.89,6681131.21,6677253.49,6684962.51,6674873.5,6681081.13,6683419.84,6680172.35,6677593.05,6677820.8,6675704.54,6681171.07,6675105.4,6679759.86,6676632.45,6680204.34,6683679.43,6682136.1,6673037.4,6676634.85,6677014.07,6676780.53,6684178.04,6682519.7,6682499.81,6680537.59,6683894.35,6680697.87,6677316.66,6677454.58,6674756.28,6671581.81,6677256.75,6675222.09,6680541.3,6680473.9,6677870.58,6679176.82,6674101.1,6680433.14,6677545.07,6685156.46,6677888.42,6681753.44,6675106.64,6683092.86,6676573.39,6673475.0,6680496.61,6683012.67,6679395.61,6680469.59,6677877.5,6674932.31,6678881.27,6682862.47,6675579.96,6679986.62,6677105.1,6678323.02,6679466.53,6678102.45,6673054.01,6683290.37,6682072.98,6676212.29,6682392.63,6676957.08,6677875.17,6677699.55,6682602.64,6675059.68,6675552.72,6675993.52,6684432.23,6680710.96,6674548.51,6680473.35,6683904.74,6677287.96,6673819.31,6680595.7,6676860.79,6680935.53,6674368.21,6680554.23,6680233.69,6679538.7,6678242.63,6672499.71,6672639.87,6675256.12,6675110.44,6676495.56,6681089.79,6678070.04,6676316.65,6681284.7,6681990.73,6674311.82,6675653.56,6674135.79,6675421.42,6683653.25,6677473.07,6675077.5,6680396.92,6676964.29,6681237.28,6682908.48,6680402.45,6677971.91,6677742.56,6678579.73,6681426.51,6671980.01,6680911.34,6677301.69,6674013.75,6676939.83,6683533.07,6683868.46,6679784.96,6679432.0,6680125.63,6679904.71,6677952.34,6680198.57,6675451.43,6680656.84,6674706.3,6673015.52,6671885.08,6672651.59,6675858.29,6677562.63,6673000.2,6672811.81,6674094.94,6675164.4,6678230.09,6680681.22,6682205.32,6680258.75,6684162.39,6676925.94,6679154.23,6681294.42,6675875.38,6678817.26,6678792.8,6671641.4,6681155.39,6685769.97,6684098.96,6680762.41,6677023.63,6685149.72,6680983.31,6677295.74,6682181.69,6673929.42,6681549.91,6678882.0,6683315.32,6681271.95,6680492.91,6673678.34,6676356.51,6674236.8,6675457.55,6680665.33,6680294.63,6675129.26,6678679.92,6684436.28,6675510.66,6680998.64,6674837.36,6677653.36,6679127.99,6680089.94,6678662.93,6675751.4,6678767.92,6671791.35,6680421.37,6679247.35,6680722.66,6679643.53,6674738.52,6684069.3,6683304.81,6677607.68,6680816.29,6670554.24,6683802.97,6677119.77,6672588.13,6678646.57,6679429.09,6678248.59,6675612.07,6673479.41,6677864.26,6678753.87,6676264.8,6680397.56,6674763.0,6680252.9,6673636.71,6674623.61,6675057.91,6675005.98,6679327.35,6679968.5,6679232.64,6672406.64,6672820.71,6683701.14,6677416.11,6676141.62,6678411.79,6677437.31,6675006.1,6680139.07,6685928.91,6680797.36,6683658.64,6672389.59,6672414.57,6672588.69,6672619.22,6672788.18,6673665.37,6675047.88,6675874.83,6676122.73,6676707.23,6677036.22,6677745.24,6678842.86,6679176.97,6681029.07,6681251.26,6682246.1,6671387.39,6671965.11,6672381.43,6672457.98,6674172.48,6674271.15,6674625.05,6674769.8,6675320.67,6676798.35,6677179.05,6680342.99,6681176.44,6671976.18,6672299.52,6675971.17,6677274.3,6677376.43,6678529.19,6679562.75,6679595.02,6680527.11,6681202.51,6673622.31,6675585.66,6675674.61,6675757.75,6677814.15,6681042.61,6680446.7,6680325.02,6678879.75,6681223.34,6672195.73,6676963.85,6683706.8,6682371.12,6677954.44,6677315.1,6681161.2,6671916.55,6676911.3,6678702.38,6676980.86,6680831.54,6681007.53,6683516.48,6671278.72,6683088.48,6675573.44,6674200.32,6680143.9,6680032.3,6674598.98,6674465.31,6675465.77,6674710.12,6682283.55,6683401.9,6677737.27,6675728.04,6677752.67,6677517.84,6672595.41,6673667.61,6677640.19,6685256.12,6683452.39],\"marker\":{\"color\":\"fuchsia\"},\"mode\":\"markers\",\"name\":\"\",\"showlegend\":false,\"subplot\":\"mapbox\",\"type\":\"scattermapbox\"}],                        {\"template\":{\"data\":{\"bar\":[{\"error_x\":{\"color\":\"#2a3f5f\"},\"error_y\":{\"color\":\"#2a3f5f\"},\"marker\":{\"line\":{\"color\":\"#E5ECF6\",\"width\":0.5},\"pattern\":{\"fillmode\":\"overlay\",\"size\":10,\"solidity\":0.2}},\"type\":\"bar\"}],\"barpolar\":[{\"marker\":{\"line\":{\"color\":\"#E5ECF6\",\"width\":0.5},\"pattern\":{\"fillmode\":\"overlay\",\"size\":10,\"solidity\":0.2}},\"type\":\"barpolar\"}],\"carpet\":[{\"aaxis\":{\"endlinecolor\":\"#2a3f5f\",\"gridcolor\":\"white\",\"linecolor\":\"white\",\"minorgridcolor\":\"white\",\"startlinecolor\":\"#2a3f5f\"},\"baxis\":{\"endlinecolor\":\"#2a3f5f\",\"gridcolor\":\"white\",\"linecolor\":\"white\",\"minorgridcolor\":\"white\",\"startlinecolor\":\"#2a3f5f\"},\"type\":\"carpet\"}],\"choropleth\":[{\"colorbar\":{\"outlinewidth\":0,\"ticks\":\"\"},\"type\":\"choropleth\"}],\"contour\":[{\"colorbar\":{\"outlinewidth\":0,\"ticks\":\"\"},\"colorscale\":[[0.0,\"#0d0887\"],[0.1111111111111111,\"#46039f\"],[0.2222222222222222,\"#7201a8\"],[0.3333333333333333,\"#9c179e\"],[0.4444444444444444,\"#bd3786\"],[0.5555555555555556,\"#d8576b\"],[0.6666666666666666,\"#ed7953\"],[0.7777777777777778,\"#fb9f3a\"],[0.8888888888888888,\"#fdca26\"],[1.0,\"#f0f921\"]],\"type\":\"contour\"}],\"contourcarpet\":[{\"colorbar\":{\"outlinewidth\":0,\"ticks\":\"\"},\"type\":\"contourcarpet\"}],\"heatmap\":[{\"colorbar\":{\"outlinewidth\":0,\"ticks\":\"\"},\"colorscale\":[[0.0,\"#0d0887\"],[0.1111111111111111,\"#46039f\"],[0.2222222222222222,\"#7201a8\"],[0.3333333333333333,\"#9c179e\"],[0.4444444444444444,\"#bd3786\"],[0.5555555555555556,\"#d8576b\"],[0.6666666666666666,\"#ed7953\"],[0.7777777777777778,\"#fb9f3a\"],[0.8888888888888888,\"#fdca26\"],[1.0,\"#f0f921\"]],\"type\":\"heatmap\"}],\"heatmapgl\":[{\"colorbar\":{\"outlinewidth\":0,\"ticks\":\"\"},\"colorscale\":[[0.0,\"#0d0887\"],[0.1111111111111111,\"#46039f\"],[0.2222222222222222,\"#7201a8\"],[0.3333333333333333,\"#9c179e\"],[0.4444444444444444,\"#bd3786\"],[0.5555555555555556,\"#d8576b\"],[0.6666666666666666,\"#ed7953\"],[0.7777777777777778,\"#fb9f3a\"],[0.8888888888888888,\"#fdca26\"],[1.0,\"#f0f921\"]],\"type\":\"heatmapgl\"}],\"histogram\":[{\"marker\":{\"pattern\":{\"fillmode\":\"overlay\",\"size\":10,\"solidity\":0.2}},\"type\":\"histogram\"}],\"histogram2d\":[{\"colorbar\":{\"outlinewidth\":0,\"ticks\":\"\"},\"colorscale\":[[0.0,\"#0d0887\"],[0.1111111111111111,\"#46039f\"],[0.2222222222222222,\"#7201a8\"],[0.3333333333333333,\"#9c179e\"],[0.4444444444444444,\"#bd3786\"],[0.5555555555555556,\"#d8576b\"],[0.6666666666666666,\"#ed7953\"],[0.7777777777777778,\"#fb9f3a\"],[0.8888888888888888,\"#fdca26\"],[1.0,\"#f0f921\"]],\"type\":\"histogram2d\"}],\"histogram2dcontour\":[{\"colorbar\":{\"outlinewidth\":0,\"ticks\":\"\"},\"colorscale\":[[0.0,\"#0d0887\"],[0.1111111111111111,\"#46039f\"],[0.2222222222222222,\"#7201a8\"],[0.3333333333333333,\"#9c179e\"],[0.4444444444444444,\"#bd3786\"],[0.5555555555555556,\"#d8576b\"],[0.6666666666666666,\"#ed7953\"],[0.7777777777777778,\"#fb9f3a\"],[0.8888888888888888,\"#fdca26\"],[1.0,\"#f0f921\"]],\"type\":\"histogram2dcontour\"}],\"mesh3d\":[{\"colorbar\":{\"outlinewidth\":0,\"ticks\":\"\"},\"type\":\"mesh3d\"}],\"parcoords\":[{\"line\":{\"colorbar\":{\"outlinewidth\":0,\"ticks\":\"\"}},\"type\":\"parcoords\"}],\"pie\":[{\"automargin\":true,\"type\":\"pie\"}],\"scatter\":[{\"marker\":{\"colorbar\":{\"outlinewidth\":0,\"ticks\":\"\"}},\"type\":\"scatter\"}],\"scatter3d\":[{\"line\":{\"colorbar\":{\"outlinewidth\":0,\"ticks\":\"\"}},\"marker\":{\"colorbar\":{\"outlinewidth\":0,\"ticks\":\"\"}},\"type\":\"scatter3d\"}],\"scattercarpet\":[{\"marker\":{\"colorbar\":{\"outlinewidth\":0,\"ticks\":\"\"}},\"type\":\"scattercarpet\"}],\"scattergeo\":[{\"marker\":{\"colorbar\":{\"outlinewidth\":0,\"ticks\":\"\"}},\"type\":\"scattergeo\"}],\"scattergl\":[{\"marker\":{\"colorbar\":{\"outlinewidth\":0,\"ticks\":\"\"}},\"type\":\"scattergl\"}],\"scattermapbox\":[{\"marker\":{\"colorbar\":{\"outlinewidth\":0,\"ticks\":\"\"}},\"type\":\"scattermapbox\"}],\"scatterpolar\":[{\"marker\":{\"colorbar\":{\"outlinewidth\":0,\"ticks\":\"\"}},\"type\":\"scatterpolar\"}],\"scatterpolargl\":[{\"marker\":{\"colorbar\":{\"outlinewidth\":0,\"ticks\":\"\"}},\"type\":\"scatterpolargl\"}],\"scatterternary\":[{\"marker\":{\"colorbar\":{\"outlinewidth\":0,\"ticks\":\"\"}},\"type\":\"scatterternary\"}],\"surface\":[{\"colorbar\":{\"outlinewidth\":0,\"ticks\":\"\"},\"colorscale\":[[0.0,\"#0d0887\"],[0.1111111111111111,\"#46039f\"],[0.2222222222222222,\"#7201a8\"],[0.3333333333333333,\"#9c179e\"],[0.4444444444444444,\"#bd3786\"],[0.5555555555555556,\"#d8576b\"],[0.6666666666666666,\"#ed7953\"],[0.7777777777777778,\"#fb9f3a\"],[0.8888888888888888,\"#fdca26\"],[1.0,\"#f0f921\"]],\"type\":\"surface\"}],\"table\":[{\"cells\":{\"fill\":{\"color\":\"#EBF0F8\"},\"line\":{\"color\":\"white\"}},\"header\":{\"fill\":{\"color\":\"#C8D4E3\"},\"line\":{\"color\":\"white\"}},\"type\":\"table\"}]},\"layout\":{\"annotationdefaults\":{\"arrowcolor\":\"#2a3f5f\",\"arrowhead\":0,\"arrowwidth\":1},\"autotypenumbers\":\"strict\",\"coloraxis\":{\"colorbar\":{\"outlinewidth\":0,\"ticks\":\"\"}},\"colorscale\":{\"diverging\":[[0,\"#8e0152\"],[0.1,\"#c51b7d\"],[0.2,\"#de77ae\"],[0.3,\"#f1b6da\"],[0.4,\"#fde0ef\"],[0.5,\"#f7f7f7\"],[0.6,\"#e6f5d0\"],[0.7,\"#b8e186\"],[0.8,\"#7fbc41\"],[0.9,\"#4d9221\"],[1,\"#276419\"]],\"sequential\":[[0.0,\"#0d0887\"],[0.1111111111111111,\"#46039f\"],[0.2222222222222222,\"#7201a8\"],[0.3333333333333333,\"#9c179e\"],[0.4444444444444444,\"#bd3786\"],[0.5555555555555556,\"#d8576b\"],[0.6666666666666666,\"#ed7953\"],[0.7777777777777778,\"#fb9f3a\"],[0.8888888888888888,\"#fdca26\"],[1.0,\"#f0f921\"]],\"sequentialminus\":[[0.0,\"#0d0887\"],[0.1111111111111111,\"#46039f\"],[0.2222222222222222,\"#7201a8\"],[0.3333333333333333,\"#9c179e\"],[0.4444444444444444,\"#bd3786\"],[0.5555555555555556,\"#d8576b\"],[0.6666666666666666,\"#ed7953\"],[0.7777777777777778,\"#fb9f3a\"],[0.8888888888888888,\"#fdca26\"],[1.0,\"#f0f921\"]]},\"colorway\":[\"#636efa\",\"#EF553B\",\"#00cc96\",\"#ab63fa\",\"#FFA15A\",\"#19d3f3\",\"#FF6692\",\"#B6E880\",\"#FF97FF\",\"#FECB52\"],\"font\":{\"color\":\"#2a3f5f\"},\"geo\":{\"bgcolor\":\"white\",\"lakecolor\":\"white\",\"landcolor\":\"#E5ECF6\",\"showlakes\":true,\"showland\":true,\"subunitcolor\":\"white\"},\"hoverlabel\":{\"align\":\"left\"},\"hovermode\":\"closest\",\"mapbox\":{\"style\":\"light\"},\"paper_bgcolor\":\"white\",\"plot_bgcolor\":\"#E5ECF6\",\"polar\":{\"angularaxis\":{\"gridcolor\":\"white\",\"linecolor\":\"white\",\"ticks\":\"\"},\"bgcolor\":\"#E5ECF6\",\"radialaxis\":{\"gridcolor\":\"white\",\"linecolor\":\"white\",\"ticks\":\"\"}},\"scene\":{\"xaxis\":{\"backgroundcolor\":\"#E5ECF6\",\"gridcolor\":\"white\",\"gridwidth\":2,\"linecolor\":\"white\",\"showbackground\":true,\"ticks\":\"\",\"zerolinecolor\":\"white\"},\"yaxis\":{\"backgroundcolor\":\"#E5ECF6\",\"gridcolor\":\"white\",\"gridwidth\":2,\"linecolor\":\"white\",\"showbackground\":true,\"ticks\":\"\",\"zerolinecolor\":\"white\"},\"zaxis\":{\"backgroundcolor\":\"#E5ECF6\",\"gridcolor\":\"white\",\"gridwidth\":2,\"linecolor\":\"white\",\"showbackground\":true,\"ticks\":\"\",\"zerolinecolor\":\"white\"}},\"shapedefaults\":{\"line\":{\"color\":\"#2a3f5f\"}},\"ternary\":{\"aaxis\":{\"gridcolor\":\"white\",\"linecolor\":\"white\",\"ticks\":\"\"},\"baxis\":{\"gridcolor\":\"white\",\"linecolor\":\"white\",\"ticks\":\"\"},\"bgcolor\":\"#E5ECF6\",\"caxis\":{\"gridcolor\":\"white\",\"linecolor\":\"white\",\"ticks\":\"\"}},\"title\":{\"x\":0.05},\"xaxis\":{\"automargin\":true,\"gridcolor\":\"white\",\"linecolor\":\"white\",\"ticks\":\"\",\"title\":{\"standoff\":15},\"zerolinecolor\":\"white\",\"zerolinewidth\":2},\"yaxis\":{\"automargin\":true,\"gridcolor\":\"white\",\"linecolor\":\"white\",\"ticks\":\"\",\"title\":{\"standoff\":15},\"zerolinecolor\":\"white\",\"zerolinewidth\":2}}},\"mapbox\":{\"domain\":{\"x\":[0.0,1.0],\"y\":[0.0,1.0]},\"center\":{\"lat\":25498559.160396177,\"lon\":6677716.150039397},\"zoom\":3,\"style\":\"open-street-map\"},\"legend\":{\"tracegroupgap\":0},\"margin\":{\"t\":0,\"r\":0,\"l\":0,\"b\":0},\"height\":300},                        {\"responsive\": true}                    ).then(function(){\n",
              "                            \n",
              "var gd = document.getElementById('161ca401-1579-4bb9-b0df-cb46638d5e83');\n",
              "var x = new MutationObserver(function (mutations, observer) {{\n",
              "        var display = window.getComputedStyle(gd).display;\n",
              "        if (!display || display === 'none') {{\n",
              "            console.log([gd, 'removed!']);\n",
              "            Plotly.purge(gd);\n",
              "            observer.disconnect();\n",
              "        }}\n",
              "}});\n",
              "\n",
              "// Listen for the removal of the full notebook cells\n",
              "var notebookContainer = gd.closest('#notebook-container');\n",
              "if (notebookContainer) {{\n",
              "    x.observe(notebookContainer, {childList: true});\n",
              "}}\n",
              "\n",
              "// Listen for the clearing of the current output cell\n",
              "var outputEl = gd.closest('.output');\n",
              "if (outputEl) {{\n",
              "    x.observe(outputEl, {childList: true});\n",
              "}}\n",
              "\n",
              "                        })                };                            </script>        </div>\n",
              "</body>\n",
              "</html>"
            ]
          },
          "metadata": {}
        }
      ]
    },
    {
      "cell_type": "code",
      "source": [
        "import pyproj\n",
        "pyproj.transform(wgs84, isn2004, 63.983, -19.700)"
      ],
      "metadata": {
        "colab": {
          "base_uri": "https://localhost:8080/",
          "height": 182
        },
        "id": "KgjTj6j-eR1J",
        "outputId": "64f71dd6-3ca0-40d0-f8f6-eadf2e491d5e"
      },
      "execution_count": 99,
      "outputs": [
        {
          "output_type": "error",
          "ename": "NameError",
          "evalue": "ignored",
          "traceback": [
            "\u001b[0;31m---------------------------------------------------------------------------\u001b[0m",
            "\u001b[0;31mNameError\u001b[0m                                 Traceback (most recent call last)",
            "\u001b[0;32m<ipython-input-99-3821d9ee92f3>\u001b[0m in \u001b[0;36m<module>\u001b[0;34m()\u001b[0m\n\u001b[1;32m      1\u001b[0m \u001b[0;32mimport\u001b[0m \u001b[0mpyproj\u001b[0m\u001b[0;34m\u001b[0m\u001b[0;34m\u001b[0m\u001b[0m\n\u001b[0;32m----> 2\u001b[0;31m \u001b[0mpyproj\u001b[0m\u001b[0;34m.\u001b[0m\u001b[0mtransform\u001b[0m\u001b[0;34m(\u001b[0m\u001b[0mwgs84\u001b[0m\u001b[0;34m,\u001b[0m \u001b[0misn2004\u001b[0m\u001b[0;34m,\u001b[0m \u001b[0;36m63.983\u001b[0m\u001b[0;34m,\u001b[0m \u001b[0;34m-\u001b[0m\u001b[0;36m19.700\u001b[0m\u001b[0;34m)\u001b[0m\u001b[0;34m\u001b[0m\u001b[0;34m\u001b[0m\u001b[0m\n\u001b[0m",
            "\u001b[0;31mNameError\u001b[0m: name 'wgs84' is not defined"
          ]
        }
      ]
    },
    {
      "cell_type": "markdown",
      "source": [
        "---\n",
        "#### **Viikko 2**\n",
        "##### *Viikon 2 tapahtumat*\n",
        "Katselin keskiviikkoisen luennon ja perjantain koodi-klinikan jälkilähetyksenä.\n",
        "##### *Viikon 2 yhteenveto*\n",
        "Viisi keskeiseintä asiaa luennolta:\n",
        "1. Luennolla pohdittiin mistä kulmasta kannattaa datan hyödyntäminen aloittaa. Alkaako se siitä, että johdolla/operatiivisella puolella on kysymyksiä joihin halutaan vastauksia vai siitä että kerätään dataa ja jälkikäteen opitaan mitä siitä voitaisiin nähdä.\n",
        "On tärkeää löytää eri roolien tasapaino kun aletaan hyödyntämään dataa. Toisaalta on tärkeää, että kehityspuoli tekee valmistelevia toimia esim. datan keräämiseksi ja luo ympäristön joka mahdollistaa datan käsittelyn, visualisoinnin ja tulosten jakamisen. Toisaalta taas tämä pitää olla operatiivisen puolen ohjauksessa jotta kehittäjät ymmärtävät alusta alkaen mitä datalla aiotaan tehdä.\n",
        "Tällä hetkellä olen itse sitä mieltä että tarvitaan ihmisiä jotka toimivat tässä välimaastossa, eli ymmärtävät riittävästi datan mahdollisuudet ja käytännön toteutuksia yleisellä tasolla mutta pääosaaminen on operatiivisella puolella. Tämän jälkeen tiimiä voi vahvistaa kehittäjillä jotka osaavat toteuttaa halutut toiminnot.\n",
        "Käytäntö on osoittanut, että alkuperäinen datan hyödyntäminen laajenee huomattavasti kun dataa on saatu käyttöön. Uusia kysymyksiä ja mittareita joita voidaan datan hyödyntämisellä ratkaista nousee valtavalla tahdilla sitä mukaa kun organisaation ymmärrys kasvaa.\n",
        "2. Datan profilointi käsite - tutki/lue/ymmärrä\n",
        "3. Pohdittiin Suomalaisten yritysten maturiteettia datan ja analytiikan osalta. Ilmailussa ja etenkin lennonvarmistuksessa eletään nyt eräänlaista ajattelun muutosharppausta (\"paradigm shift\"). Viimeisten parin vuoden aikana on ollut häkellyttävää seurata miten ala on noussut poteroistaan ja tekee vahvaa siirtymää kohti nykyaikaa ja on kykenevä omaksumaan muilta aloilta tuttuja tekniikoita ja arkkitehtuureja.\n",
        "4. Esiteltiin ryömijät ja raapijat. Pohdittiin niiden käyttöä myös eettisyyden ja laillisuuden näkökulmasta.\n",
        "Itse olen ollut siinä uskossa, että niiden käyttö verkkosivuilta tiedon naaraamiseen ei ole enää juurikaan mahdollista koska sivut tehdään dynaamisesti latausvaiheessa. Tätä täytyy tutkia muutamalla esimerkillä.\n",
        "5. Esiteltiin datatyyppien tärkeyttä datan käsittelyssä. Tästä minulla onkin jo jonkin verran kokemusta ja voin vain liputtaa tämän puolesta.\n",
        "\n",
        "##### *Viikon 2 koodaus*\n",
        "Viikon 2 koodauskokeiluna toteutin raapijan, joka kirjautuu työtuntikirjanpitojärjestelmään ja raapii sieltä tuntimääräni 2 ja 4 viikon kuluttua.\n",
        "Järjestelmän tehtävänä on pitää kirjaa onko työntekijällä lupa tehdä töitä. Luvan ylläpitoon tulee olla 100 tuntia työskentelyä puolen vuoden aikana. Aina työpisteeseen mennessä työntekijä kirjautuu järjestelmään ja sieltä ulos pouistuessaan työpisteestä. Näin tallentuu työpisteessä vietetty aika ja vaatimus siis 100h / 6kk ylittyy joka hetki.\n",
        "Järjestelmään siirrettäessä selaimella tulee ensin vastaan kirjautumissivu. Kirjautuminen oli toteutettu formilla ja POST metodilla joka aktivoi javascriptin. Tässä olikin opettelua miten saan kirjautumisen toimimaan. Lukuisten tuntien ja satojen google-hakujen jälkeen onnistuin tekemään python skriptin joka hoiti kirjautumisen ja avasi etusivuni josta piti siis raapia tuntimäärät.\n",
        "XXTÄHÄN KOODI"
      ],
      "metadata": {
        "id": "5CL3Ua01P9RF"
      }
    },
    {
      "cell_type": "markdown",
      "source": [
        "---\n",
        "#### **Viikko 3**\n",
        "##### *Viikon 3 tapahtumat*\n",
        "Katselin keskiviikkoisen luennon ja perjantain koodi-klinikan jälkilähetyksenä.\n",
        "##### *Viikon 3 yhteenveto*\n",
        "Viisi keskeiseintä asiaa luennolta:\n",
        "1. Tilastollinen analyysi vs. tilastomatematiikka: analyysi on matematiikan soveltamista\n",
        "2. Tekoäly vs. koneoppiminen: tekoäly on todella laaja käsite, koneoppiminen on \"vain\" sitä että datasta tarkkaillaan piirteitä ja pystytään kertomaan miten piirteet vaikuttaa haluttuun muuttujaan. Suurin osa tekoälyn sovelluksista vielä tänään onkin itseasiassa pelkkää koneppimista.\n",
        "3. Tilastollinen analyysi vs. koneoppiminen: analysoimalla opitaan datasta, koneoppiminen auttaa ennustamaan (prediktiivinen analyysi). Koneoppimista voi myös käyttää lisäämään dataan piirteitä. \n",
        "\n",
        "##### *Viikon 3 koodaus*\n"
      ],
      "metadata": {
        "id": "DEvygG8BcVQq"
      }
    }
  ]
}