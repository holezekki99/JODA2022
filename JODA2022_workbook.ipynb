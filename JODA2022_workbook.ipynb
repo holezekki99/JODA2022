{
  "nbformat": 4,
  "nbformat_minor": 0,
  "metadata": {
    "colab": {
      "name": "JODA2022_workbook.ipynb",
      "provenance": [],
      "authorship_tag": "ABX9TyMWvGuyJL6COCEJEpyXeOSo",
      "include_colab_link": true
    },
    "kernelspec": {
      "name": "python3",
      "display_name": "Python 3"
    },
    "language_info": {
      "name": "python"
    }
  },
  "cells": [
    {
      "cell_type": "markdown",
      "metadata": {
        "id": "view-in-github",
        "colab_type": "text"
      },
      "source": [
        "<a href=\"https://colab.research.google.com/github/holezekki99/JODA2022/blob/main/JODA2022_workbook.ipynb\" target=\"_parent\"><img src=\"https://colab.research.google.com/assets/colab-badge.svg\" alt=\"Open In Colab\"/></a>"
      ]
    },
    {
      "cell_type": "markdown",
      "source": [
        "# JODA2022\n",
        "## Juha Holstila\n"
      ],
      "metadata": {
        "id": "n6ugCF2bKNfo"
      }
    },
    {
      "cell_type": "markdown",
      "source": [
        "\n",
        "---\n",
        "### Keskeiset oppimistavoitteet\n",
        "Tavoitteet keväälle:\n",
        "\n",
        "1. Omaksu datatieteen peruskäsitteet (määritelmiä, historiaa, pohdintaa nykytilasta ja tulevaisuudesta, ym.)\n",
        "2. Opi pystyttämään ja työskentelemään nykyään yleisesti käytössä olevilla työkaluilla (github, jupyter ym.).\n",
        "3. Opi ja laajenna ymmärrystä saatavilla olevista datasäilöistä (avoin data ym.)\n",
        "4. Paranna teoreettista ja käytännön osaamista datan muokkauksessa Pythonilla.\n",
        "5. Selvitä mitä eri tilastollisia menetelmiä on käytettävissä datan analysoinnissa.\n",
        "6. Opi ja laajenna ymmärrystä datan visualisoinnin työkaluista ja parhaista käytänteistä.\n",
        "\n",
        "\n",
        "\n"
      ],
      "metadata": {
        "id": "VDto043XNd7I"
      }
    },
    {
      "cell_type": "markdown",
      "source": [
        "### Lähtötilanne\n",
        "Olen viimeiset pari vuotta harrastuksena ja oman työni ohella tehnyt lentoliikenteen parissa jonkin sortin datatiedettä. Lentoliikenne on siitä hyvä ala tähän, että kaikki toimijat, ml. lentoyhtiöt, lennonvarmistuspalvelun tarjoajat ja ilmatieteenlaitokset toimittavat kaiken relevantin tietonsa keskitettyyn paikkaan Eurocontrolliin. Alan toimijoille on kehitetty tehokas rajapinta tähän dataan.\n",
        "Aluksi tarkoitus oli kerätä meitä kiinnostava data omalle alustalle jatkoa varten. Tarkoituksena on ensinnäkin muuttaa toimintamme nolliksi ja ykkösiksi, eräänlaiseksi digitaaliseksi kaksoseksi. Tämä antaa meille mahdollisuuden oikeasti ymmärtää mitä operatiivisessa ympäristössämme oikeasti tapahtuu.\n",
        "Datan hakemista, käsittelyä ja visualisointia tein aluksi excelillä joka vaatii paljon käsityötä. Viimeisen vuoden aikana olen alkanut muokkaamaan dataa pythonilla. Visualisointiin on toistaiseksi valikoitunut Power BI. "
      ],
      "metadata": {
        "id": "QMb3lSNFLci9"
      }
    },
    {
      "cell_type": "markdown",
      "source": [
        "---\n",
        "### Viikko 1\n"
      ],
      "metadata": {
        "id": "GBtZ4XcaK0xq"
      }
    },
    {
      "cell_type": "markdown",
      "source": [
        "#### Viikon 1 tapahtumat\n",
        "\n",
        "Opinnot alkoivat. Osallistuin 9.3. aloitusluennolle ja 11.3. demo-session katsoin nauhoituksena viikonloppuna.\n",
        "\n",
        "Kurssin sisältö esiteltiin riittävän kattavasti luennolla."
      ],
      "metadata": {
        "id": "HWWb-xxlKP_4"
      }
    },
    {
      "cell_type": "markdown",
      "source": [
        "#### Viikon 1 tavoitteet\n",
        "Tavoitteena oli saada ympäristö luotua. En ole ennen käyttänyt githubia, joten ensimmäinen tavoite oli saada se luotua.\n",
        "Jupyterista minulla oli vain vähän aikaisempaa käyttökokemusta. En halunnut asentaa Jupyteria koneelle vaan tutkiskelin mahdollisuuksia online versioihin. Löysin Googlen CoLabin, johon sain työkirjan tehtyä ja linkattua sen uusille Githubin sivuilleni. Onko tämä toimiva ratkaisu, selviää varmasti myöhemmin."
      ],
      "metadata": {
        "id": "1jh5wklFL9Ve"
      }
    },
    {
      "cell_type": "markdown",
      "source": [
        "---\n",
        "#### **Viikko 2**\n",
        "##### *Viikon 2 tapahtumat*\n",
        "Katselin keskiviikkoisen luennon ja perjantain koodi-klinikan jälkilähetyksenä.\n",
        "##### *Viikon 2 yhteenveto*\n",
        "Viisi keskeiseintä asiaa luennolta:\n",
        "1. Luennolla pohdittiin mistä kulmasta kannattaa datan hyödyntäminen aloittaa. Alkaako se siitä, että johdolla/operatiivisella puolella on kysymyksiä joihin halutaan vastauksia vai siitä että kerätään dataa ja jälkikäteen opitaan mitä siitä voitaisiin nähdä.\n",
        "On tärkeää löytää eri roolien tasapaino kun aletaan hyödyntämään dataa. Toisaalta on tärkeää, että kehityspuoli tekee valmistelevia toimia esim. datan keräämiseksi ja luo ympäristön joka mahdollistaa datan käsittelyn, visualisoinnin ja tulosten jakamisen. Toisaalta taas tämä pitää olla operatiivisen puolen ohjauksessa jotta kehittäjät ymmärtävät alusta alkaen mitä datalla aiotaan tehdä.\n",
        "Tällä hetkellä olen itse sitä mieltä että tarvitaan ihmisiä jotka toimivat tässä välimaastossa, eli ymmärtävät riittävästi datan mahdollisuudet ja käytännön toteutuksia yleisellä tasolla mutta pääosaaminen on operatiivisella puolella. Tämän jälkeen tiimiä voi vahvistaa kehittäjillä jotka osaavat toteuttaa halutut toiminnot.\n",
        "Käytäntö on osoittanut, että alkuperäinen datan hyödyntäminen laajenee huomattavasti kun dataa on saatu käyttöön. Uusia kysymyksiä ja mittareita joita voidaan datan hyödyntämisellä ratkaista nousee valtavalla tahdilla sitä mukaa kun organisaation ymmärrys kasvaa.\n",
        "2. Datan profilointi käsite - tutki/lue/ymmärrä\n",
        "3. Pohdittiin Suomalaisten yritysten maturiteettia datan ja analytiikan osalta. Ilmailussa ja etenkin lennonvarmistuksessa eletään nyt eräänlaista ajattelun muutosharppausta (\"paradigm shift\"). Viimeisten parin vuoden aikana on ollut häkellyttävää seurata miten ala on noussut poteroistaan ja tekee vahvaa siirtymää kohti nykyaikaa ja on kykenevä omaksumaan muilta aloilta tuttuja tekniikoita ja arkkitehtuureja.\n",
        "4. Esiteltiin ryömijät ja raapijat. Pohdittiin niiden käyttöä myös eettisyyden ja laillisuuden näkökulmasta.\n",
        "Itse olen ollut siinä uskossa, että niiden käyttö verkkosivuilta tiedon naaraamiseen ei ole enää juurikaan mahdollista koska sivut tehdään dynaamisesti latausvaiheessa. Tätä täytyy tutkia muutamalla esimerkillä.\n",
        "5. Esiteltiin datatyyppien tärkeyttä datan käsittelyssä. Tästä minulla onkin jo jonkin verran kokemusta ja voin vain liputtaa tämän puolesta.\n",
        "\n",
        "##### *Viikon 2 koodaus*\n",
        "Viikon 2 koodauskokeiluna toteutin raapijan, joka kirjautuu työtuntikirjanpitojärjestelmään ja raapii sieltä tuntimääräni 2 ja 4 viikon kuluttua.\n",
        "Järjestelmän tehtävänä on pitää kirjaa onko työntekijällä lupa tehdä töitä. Luvan ylläpitoon tulee olla 100 tuntia työskentelyä puolen vuoden aikana. Aina työpisteeseen mennessä työntekijä kirjautuu järjestelmään ja sieltä ulos pouistuessaan työpisteestä. Näin tallentuu työpisteessä vietetty aika ja vaatimus siis 100h / 6kk ylittyy joka hetki.\n",
        "Järjestelmään siirrettäessä selaimella tulee ensin vastaan kirjautumissivu. Kirjautuminen oli toteutettu formilla ja POST metodilla joka aktivoi javascriptin. Tässä olikin opettelua miten saan kirjautumisen toimimaan. Lukuisten tuntien ja satojen google-hakujen jälkeen onnistuin tekemään python skriptin joka hoiti kirjautumisen ja avasi etusivuni josta piti siis raapia tuntimäärät.\n",
        "XXTÄHÄN KOODI"
      ],
      "metadata": {
        "id": "5CL3Ua01P9RF"
      }
    },
    {
      "cell_type": "markdown",
      "source": [
        ""
      ],
      "metadata": {
        "id": "DEvygG8BcVQq"
      }
    }
  ]
}