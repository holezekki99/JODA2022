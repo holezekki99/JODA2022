{
  "nbformat": 4,
  "nbformat_minor": 0,
  "metadata": {
    "colab": {
      "name": "JODA2022_workbook.ipynb",
      "provenance": [],
      "authorship_tag": "ABX9TyPeeAdt1LFITR9S4ZPSTljn",
      "include_colab_link": true
    },
    "kernelspec": {
      "name": "python3",
      "display_name": "Python 3"
    },
    "language_info": {
      "name": "python"
    }
  },
  "cells": [
    {
      "cell_type": "markdown",
      "metadata": {
        "id": "view-in-github",
        "colab_type": "text"
      },
      "source": [
        "<a href=\"https://colab.research.google.com/github/holezekki99/JODA2022/blob/main/JODA2022_workbook.ipynb\" target=\"_parent\"><img src=\"https://colab.research.google.com/assets/colab-badge.svg\" alt=\"Open In Colab\"/></a>"
      ]
    },
    {
      "cell_type": "markdown",
      "source": [
        "# JODA2022\n",
        "## Juha Holstila\n"
      ],
      "metadata": {
        "id": "n6ugCF2bKNfo"
      }
    },
    {
      "cell_type": "markdown",
      "source": [
        "\n",
        "---\n",
        "### Keskeiset oppimistavoitteet\n",
        "Tavoitteet keväälle:\n",
        "\n",
        "1. Omaksu datatieteen peruskäsitteet (määritelmiä, historiaa, pohdintaa nykytilasta ja tulevaisuudesta, ym.)\n",
        "2. Opi pystyttämään ja työskentelemään nykyään yleisesti käytössä olevilla työkaluilla (github, jupyter ym.).\n",
        "3. Opi ja laajenna ymmärrystä saatavilla olevista datasäilöistä (avoin data ym.)\n",
        "4. Paranna teoreettista ja käytännön osaamista datan muokkauksessa Pythonilla.\n",
        "5. Selvitä mitä eri tilastollisia menetelmiä on käytettävissä datan analysoinnissa.\n",
        "6. Opi ja laajenna ymmärrystä datan visualisoinnin työkaluista ja parhaista käytänteistä.\n",
        "\n",
        "\n",
        "\n"
      ],
      "metadata": {
        "id": "VDto043XNd7I"
      }
    },
    {
      "cell_type": "markdown",
      "source": [
        "### Lähtötilanne\n",
        "Olen viimeiset pari vuotta harrastuksena ja oman työni ohella tehnyt lentoliikenteen parissa jonkin sortin datatiedettä. Lentoliikenne on siitä hyvä ala tähän, että kaikki toimijat, ml. lentoyhtiöt, lennonvarmistuspalvelun tarjoajat ja ilmatieteenlaitokset toimittavat kaiken relevantin tietonsa keskitettyyn paikkaan Eurocontrolliin. Alan toimijoille on kehitetty tehokas rajapinta tähän dataan.\n",
        "Aluksi tarkoitus oli kerätä meitä kiinnostava data omalle alustalle jatkoa varten. Tarkoituksena on ensinnäkin muuttaa toimintamme nolliksi ja ykkösiksi, eräänlaiseksi digitaaliseksi kaksoseksi. Tämä antaa meille mahdollisuuden oikeasti ymmärtää mitä operatiivisessa ympäristössämme oikeasti tapahtuu.\n",
        "Datan hakemista, käsittelyä ja visualisointia tein aluksi excelillä joka vaatii paljon käsityötä. Viimeisen vuoden aikana olen alkanut muokkaamaan dataa pythonilla. Visualisointiin on toistaiseksi valikoitunut Power BI. "
      ],
      "metadata": {
        "id": "QMb3lSNFLci9"
      }
    },
    {
      "cell_type": "markdown",
      "source": [
        "---\n",
        "### Viikko 1\n"
      ],
      "metadata": {
        "id": "GBtZ4XcaK0xq"
      }
    },
    {
      "cell_type": "markdown",
      "source": [
        "#### Viikon 1 tapahtumat\n",
        "\n",
        "Opinnot alkoivat. Osallistuin 9.3. aloitusluennolle ja 11.3. demo-session katsoin nauhoituksena viikonloppuna.\n",
        "\n",
        "Kurssin sisältö esiteltiin riittävän kattavasti luennolla."
      ],
      "metadata": {
        "id": "HWWb-xxlKP_4"
      }
    },
    {
      "cell_type": "markdown",
      "source": [
        "#### Viikon 1 tavoitteet\n",
        "Tavoitteena oli saada ympäristö luotua. "
      ],
      "metadata": {
        "id": "1jh5wklFL9Ve"
      }
    },
    {
      "cell_type": "markdown",
      "source": [
        "#### Viikon 1 koodaus - kehitys ja julkaisuympäristön pystyttäminen\n",
        "##### Julkaisuympäristö\n",
        "En ole ennen käyttänyt githubia, joten ensimmäinen tavoite oli saada se luotua.\n",
        "Jupyterista minulla oli vain vähän aikaisempaa käyttökokemusta. En halunnut ensin asentaa Jupyteria koneelle vaan tutkiskelin mahdollisuuksia online versioihin. Löysin Googlen CoLabin, johon sain työkirjan tehtyä ja linkattua sen uusille Githubin sivuilleni. Onko tämä toimiva ratkaisu, selviää varmasti myöhemmin.\n",
        "\n",
        "##### Kehitysympäristö\n",
        "Harjoitustyötä varten pystytin omalle koneelle Anacondan. Aikomuksenani on käyttää Traffic-kirjastoa, jonka..."
      ],
      "metadata": {
        "id": "545ynED5MdXE"
      }
    },
    {
      "cell_type": "markdown",
      "source": [
        "---\n",
        "#### **Viikko 2**\n",
        "##### *Viikon 2 tapahtumat*\n",
        "Katselin keskiviikkoisen luennon ja perjantain koodi-klinikan jälkilähetyksenä.\n",
        "##### *Viikon 2 yhteenveto*\n",
        "Viisi keskeiseintä asiaa luennolta:\n",
        "1. Luennolla pohdittiin mistä kulmasta kannattaa datan hyödyntäminen aloittaa. Alkaako se siitä, että johdolla/operatiivisella puolella on kysymyksiä joihin halutaan vastauksia vai siitä että kerätään dataa ja jälkikäteen opitaan mitä siitä voitaisiin nähdä.\n",
        "On tärkeää löytää eri roolien tasapaino kun aletaan hyödyntämään dataa. Toisaalta on tärkeää, että kehityspuoli tekee valmistelevia toimia esim. datan keräämiseksi ja luo ympäristön joka mahdollistaa datan käsittelyn, visualisoinnin ja tulosten jakamisen. Toisaalta taas tämä pitää olla operatiivisen puolen ohjauksessa jotta kehittäjät ymmärtävät alusta alkaen mitä datalla aiotaan tehdä.\n",
        "Tällä hetkellä olen itse sitä mieltä että tarvitaan ihmisiä jotka toimivat tässä välimaastossa, eli ymmärtävät riittävästi datan mahdollisuudet ja käytännön toteutuksia yleisellä tasolla mutta pääosaaminen on operatiivisella puolella. Tämän jälkeen tiimiä voi vahvistaa kehittäjillä jotka osaavat toteuttaa halutut toiminnot.\n",
        "Käytäntö on osoittanut, että alkuperäinen datan hyödyntäminen laajenee huomattavasti kun dataa on saatu käyttöön. Uusia kysymyksiä ja mittareita joita voidaan datan hyödyntämisellä ratkaista nousee valtavalla tahdilla sitä mukaa kun organisaation ymmärrys kasvaa.\n",
        "2. Datan profilointi käsite - tutki/lue/ymmärrä\n",
        "3. Pohdittiin Suomalaisten yritysten maturiteettia datan ja analytiikan osalta. Ilmailussa ja etenkin lennonvarmistuksessa eletään nyt eräänlaista ajattelun muutosharppausta (\"paradigm shift\"). Viimeisten parin vuoden aikana on ollut häkellyttävää seurata miten ala on noussut poteroistaan ja tekee vahvaa siirtymää kohti nykyaikaa ja on kykenevä omaksumaan muilta aloilta tuttuja tekniikoita ja arkkitehtuureja.\n",
        "4. Esiteltiin ryömijät ja raapijat. Pohdittiin niiden käyttöä myös eettisyyden ja laillisuuden näkökulmasta.\n",
        "Itse olen ollut siinä uskossa, että niiden käyttö verkkosivuilta tiedon naaraamiseen ei ole enää juurikaan mahdollista koska sivut tehdään dynaamisesti latausvaiheessa. Tätä täytyy tutkia muutamalla esimerkillä.\n",
        "5. Esiteltiin datatyyppien tärkeyttä datan käsittelyssä. Tästä minulla onkin jo jonkin verran kokemusta ja voin vain liputtaa tämän puolesta.\n",
        "\n",
        "##### *Viikon 2 koodaus*\n",
        "Viikon 2 koodauskokeiluna toteutin raapijan, joka kirjautuu työtuntikirjanpitojärjestelmään ja raapii sieltä tuntimääräni 2 ja 4 viikon kuluttua.\n",
        "Järjestelmän tehtävänä on pitää kirjaa onko työntekijällä lupa tehdä töitä. Luvan ylläpitoon tulee olla 100 tuntia työskentelyä puolen vuoden aikana. Aina työpisteeseen mennessä työntekijä kirjautuu järjestelmään ja sieltä ulos pouistuessaan työpisteestä. Näin tallentuu työpisteessä vietetty aika ja vaatimus siis 100h / 6kk ylittyy joka hetki.\n",
        "Järjestelmään siirrettäessä selaimella tulee ensin vastaan kirjautumissivu. Kirjautuminen oli toteutettu formilla ja POST metodilla joka aktivoi javascriptin. Tässä olikin opettelua miten saan kirjautumisen toimimaan. Lukuisten tuntien ja satojen google-hakujen jälkeen onnistuin tekemään python skriptin joka hoiti kirjautumisen ja avasi etusivuni josta piti siis raapia tuntimäärät.\n",
        "XXTÄHÄN KOODI"
      ],
      "metadata": {
        "id": "5CL3Ua01P9RF"
      }
    },
    {
      "cell_type": "markdown",
      "source": [
        "---\n",
        "#### **Viikko 3**\n",
        "##### *Viikon 3 tapahtumat*\n",
        "Katselin keskiviikkoisen luennon ja perjantain koodi-klinikan jälkilähetyksenä.\n",
        "##### *Viikon 3 yhteenveto*\n",
        "Viisi keskeiseintä asiaa luennolta:\n",
        "1. Tilastollinen analyysi vs. tilastomatematiikka: analyysi on matematiikan soveltamista\n",
        "2. Tekoäly vs. koneoppiminen: tekoäly on todella laaja käsite, koneoppiminen on \"vain\" sitä että datasta tarkkaillaan piirteitä ja pystytään kertomaan miten piirteet vaikuttaa haluttuun muuttujaan. Suurin osa tekoälyn sovelluksista vielä tänään onkin itseasiassa pelkkää koneppimista.\n",
        "3. Tilastollinen analyysi vs. koneoppiminen: analysoimalla opitaan datasta, koneoppiminen auttaa ennustamaan (prediktiivinen analyysi). Koneoppimista voi myös käyttää lisäämään dataan piirteitä. \n",
        "\n",
        "##### *Viikon 3 koodaus*\n"
      ],
      "metadata": {
        "id": "DEvygG8BcVQq"
      }
    },
    {
      "cell_type": "markdown",
      "source": [
        "Tämän viikon koodauksen tarkoitus on hakea joku datasetti ja käytännössä pandan metodeilla tarkkailla sitä."
      ],
      "metadata": {
        "id": "vlPwnA2O54bj"
      }
    },
    {
      "cell_type": "markdown",
      "source": [
        "Haeskelin avoindata.fi sivusta moottoripyöräaiheisia datasettejä ja vastaan tuli lista Helsingin kaupungin alueella tapahtuneista liikenneonnettomuuksista. \n",
        "Haetaan vastaus kysymykseen: \"Millaisia ja missäpäin Helsinkiä sattuu  moottoripyörällä liikenneoneettomuuksia\" "
      ],
      "metadata": {
        "id": "gvWXZrlrzr6L"
      }
    },
    {
      "cell_type": "markdown",
      "source": [
        "Haetaan tiedosto ja aletaan tutkia mitä pitää sisällään:"
      ],
      "metadata": {
        "id": "BUjVLPGC09Fo"
      }
    },
    {
      "cell_type": "code",
      "source": [
        "import pandas as pd\n",
        "\n",
        "DATAFILE = \"https://www.hel.fi/hel2/tietokeskus/data/helsinki/ksv/liikenneonnettomuudet_Helsingissa.csv\"\n",
        "df = pd.read_csv(DATAFILE, sep=';')"
      ],
      "metadata": {
        "id": "2h58dl0twzrA"
      },
      "execution_count": 14,
      "outputs": []
    },
    {
      "cell_type": "code",
      "source": [
        "df.info()"
      ],
      "metadata": {
        "id": "doUF7xMg0wne",
        "outputId": "9042c667-9d70-4e71-a4ac-1f27e1eec06f",
        "colab": {
          "base_uri": "https://localhost:8080/"
        }
      },
      "execution_count": 15,
      "outputs": [
        {
          "output_type": "stream",
          "name": "stdout",
          "text": [
            "<class 'pandas.core.frame.DataFrame'>\n",
            "RangeIndex: 50724 entries, 0 to 50723\n",
            "Data columns (total 5 columns):\n",
            " #   Column     Non-Null Count  Dtype  \n",
            "---  ------     --------------  -----  \n",
            " 0   LAJI       50724 non-null  object \n",
            " 1   pohj_etrs  50724 non-null  float64\n",
            " 2   ita_etrs   50724 non-null  float64\n",
            " 3   VAKAV_A    50724 non-null  int64  \n",
            " 4   VV         50724 non-null  int64  \n",
            "dtypes: float64(2), int64(2), object(1)\n",
            "memory usage: 1.9+ MB\n"
          ]
        }
      ]
    },
    {
      "cell_type": "code",
      "source": [
        "df.head()"
      ],
      "metadata": {
        "id": "ZhNtsnVr07O1",
        "outputId": "0c9a7bc8-eb56-4fe6-fcc4-ca56a25f9789",
        "colab": {
          "base_uri": "https://localhost:8080/",
          "height": 206
        }
      },
      "execution_count": 16,
      "outputs": [
        {
          "output_type": "execute_result",
          "data": {
            "text/plain": [
              "  LAJI    pohj_etrs      ita_etrs  VAKAV_A    VV\n",
              "0   MA  6679525.638  2.550357e+07        1  2010\n",
              "1   MA  6681957.849  2.550356e+07        2  2010\n",
              "2   MA  6684750.304  2.550004e+07        1  2010\n",
              "3   MA  6674428.942  2.549505e+07        1  2010\n",
              "4   MA  6674447.788  2.550076e+07        1  2010"
            ],
            "text/html": [
              "\n",
              "  <div id=\"df-d4af7b73-b05c-49a6-8020-251ae6f6cd3c\">\n",
              "    <div class=\"colab-df-container\">\n",
              "      <div>\n",
              "<style scoped>\n",
              "    .dataframe tbody tr th:only-of-type {\n",
              "        vertical-align: middle;\n",
              "    }\n",
              "\n",
              "    .dataframe tbody tr th {\n",
              "        vertical-align: top;\n",
              "    }\n",
              "\n",
              "    .dataframe thead th {\n",
              "        text-align: right;\n",
              "    }\n",
              "</style>\n",
              "<table border=\"1\" class=\"dataframe\">\n",
              "  <thead>\n",
              "    <tr style=\"text-align: right;\">\n",
              "      <th></th>\n",
              "      <th>LAJI</th>\n",
              "      <th>pohj_etrs</th>\n",
              "      <th>ita_etrs</th>\n",
              "      <th>VAKAV_A</th>\n",
              "      <th>VV</th>\n",
              "    </tr>\n",
              "  </thead>\n",
              "  <tbody>\n",
              "    <tr>\n",
              "      <th>0</th>\n",
              "      <td>MA</td>\n",
              "      <td>6679525.638</td>\n",
              "      <td>2.550357e+07</td>\n",
              "      <td>1</td>\n",
              "      <td>2010</td>\n",
              "    </tr>\n",
              "    <tr>\n",
              "      <th>1</th>\n",
              "      <td>MA</td>\n",
              "      <td>6681957.849</td>\n",
              "      <td>2.550356e+07</td>\n",
              "      <td>2</td>\n",
              "      <td>2010</td>\n",
              "    </tr>\n",
              "    <tr>\n",
              "      <th>2</th>\n",
              "      <td>MA</td>\n",
              "      <td>6684750.304</td>\n",
              "      <td>2.550004e+07</td>\n",
              "      <td>1</td>\n",
              "      <td>2010</td>\n",
              "    </tr>\n",
              "    <tr>\n",
              "      <th>3</th>\n",
              "      <td>MA</td>\n",
              "      <td>6674428.942</td>\n",
              "      <td>2.549505e+07</td>\n",
              "      <td>1</td>\n",
              "      <td>2010</td>\n",
              "    </tr>\n",
              "    <tr>\n",
              "      <th>4</th>\n",
              "      <td>MA</td>\n",
              "      <td>6674447.788</td>\n",
              "      <td>2.550076e+07</td>\n",
              "      <td>1</td>\n",
              "      <td>2010</td>\n",
              "    </tr>\n",
              "  </tbody>\n",
              "</table>\n",
              "</div>\n",
              "      <button class=\"colab-df-convert\" onclick=\"convertToInteractive('df-d4af7b73-b05c-49a6-8020-251ae6f6cd3c')\"\n",
              "              title=\"Convert this dataframe to an interactive table.\"\n",
              "              style=\"display:none;\">\n",
              "        \n",
              "  <svg xmlns=\"http://www.w3.org/2000/svg\" height=\"24px\"viewBox=\"0 0 24 24\"\n",
              "       width=\"24px\">\n",
              "    <path d=\"M0 0h24v24H0V0z\" fill=\"none\"/>\n",
              "    <path d=\"M18.56 5.44l.94 2.06.94-2.06 2.06-.94-2.06-.94-.94-2.06-.94 2.06-2.06.94zm-11 1L8.5 8.5l.94-2.06 2.06-.94-2.06-.94L8.5 2.5l-.94 2.06-2.06.94zm10 10l.94 2.06.94-2.06 2.06-.94-2.06-.94-.94-2.06-.94 2.06-2.06.94z\"/><path d=\"M17.41 7.96l-1.37-1.37c-.4-.4-.92-.59-1.43-.59-.52 0-1.04.2-1.43.59L10.3 9.45l-7.72 7.72c-.78.78-.78 2.05 0 2.83L4 21.41c.39.39.9.59 1.41.59.51 0 1.02-.2 1.41-.59l7.78-7.78 2.81-2.81c.8-.78.8-2.07 0-2.86zM5.41 20L4 18.59l7.72-7.72 1.47 1.35L5.41 20z\"/>\n",
              "  </svg>\n",
              "      </button>\n",
              "      \n",
              "  <style>\n",
              "    .colab-df-container {\n",
              "      display:flex;\n",
              "      flex-wrap:wrap;\n",
              "      gap: 12px;\n",
              "    }\n",
              "\n",
              "    .colab-df-convert {\n",
              "      background-color: #E8F0FE;\n",
              "      border: none;\n",
              "      border-radius: 50%;\n",
              "      cursor: pointer;\n",
              "      display: none;\n",
              "      fill: #1967D2;\n",
              "      height: 32px;\n",
              "      padding: 0 0 0 0;\n",
              "      width: 32px;\n",
              "    }\n",
              "\n",
              "    .colab-df-convert:hover {\n",
              "      background-color: #E2EBFA;\n",
              "      box-shadow: 0px 1px 2px rgba(60, 64, 67, 0.3), 0px 1px 3px 1px rgba(60, 64, 67, 0.15);\n",
              "      fill: #174EA6;\n",
              "    }\n",
              "\n",
              "    [theme=dark] .colab-df-convert {\n",
              "      background-color: #3B4455;\n",
              "      fill: #D2E3FC;\n",
              "    }\n",
              "\n",
              "    [theme=dark] .colab-df-convert:hover {\n",
              "      background-color: #434B5C;\n",
              "      box-shadow: 0px 1px 3px 1px rgba(0, 0, 0, 0.15);\n",
              "      filter: drop-shadow(0px 1px 2px rgba(0, 0, 0, 0.3));\n",
              "      fill: #FFFFFF;\n",
              "    }\n",
              "  </style>\n",
              "\n",
              "      <script>\n",
              "        const buttonEl =\n",
              "          document.querySelector('#df-d4af7b73-b05c-49a6-8020-251ae6f6cd3c button.colab-df-convert');\n",
              "        buttonEl.style.display =\n",
              "          google.colab.kernel.accessAllowed ? 'block' : 'none';\n",
              "\n",
              "        async function convertToInteractive(key) {\n",
              "          const element = document.querySelector('#df-d4af7b73-b05c-49a6-8020-251ae6f6cd3c');\n",
              "          const dataTable =\n",
              "            await google.colab.kernel.invokeFunction('convertToInteractive',\n",
              "                                                     [key], {});\n",
              "          if (!dataTable) return;\n",
              "\n",
              "          const docLinkHtml = 'Like what you see? Visit the ' +\n",
              "            '<a target=\"_blank\" href=https://colab.research.google.com/notebooks/data_table.ipynb>data table notebook</a>'\n",
              "            + ' to learn more about interactive tables.';\n",
              "          element.innerHTML = '';\n",
              "          dataTable['output_type'] = 'display_data';\n",
              "          await google.colab.output.renderOutput(dataTable, element);\n",
              "          const docLink = document.createElement('div');\n",
              "          docLink.innerHTML = docLinkHtml;\n",
              "          element.appendChild(docLink);\n",
              "        }\n",
              "      </script>\n",
              "    </div>\n",
              "  </div>\n",
              "  "
            ]
          },
          "metadata": {},
          "execution_count": 16
        }
      ]
    },
    {
      "cell_type": "markdown",
      "source": [
        "Muuttujat\n",
        "\n",
        "Alla oleva tieto oli annettuna:\n",
        "\n",
        "vakav_a = vakavuusaste, (1 = omaisuusvahinko, 2 = loukkaantumiseen johtanut, 3 = kuolemaan johtanut)\n",
        "POHJ_ETRS = Pohjoiskoordinaatti ETRS-GK25-järjestelmässä\n",
        "ITA_ETRS = Itäkoordinaatti ETRS-GK25-järjestelmässä\n",
        "vv = vuosi\n",
        "laji = onnettomuuslaji heikoimman osallisen mukaan, (jk = jalankulkijaonnettomuus, pp = polkupyöräonnettomuus, mp = mopo/moottoripyöräonnettomuus, ma = moottoriajoneuvo-onnettomuus)"
      ],
      "metadata": {
        "id": "8AQzgR3b1lSh"
      }
    },
    {
      "cell_type": "markdown",
      "source": [
        "Monta onnettomuutta per onnettomuuslaji:"
      ],
      "metadata": {
        "id": "wHWYPW4t5pF1"
      }
    },
    {
      "cell_type": "code",
      "source": [
        "df['LAJI'].unique()"
      ],
      "metadata": {
        "id": "-OA58eNe4276",
        "outputId": "63f8a7ff-f358-4c93-b46f-37c970192ee8",
        "colab": {
          "base_uri": "https://localhost:8080/"
        }
      },
      "execution_count": 24,
      "outputs": [
        {
          "output_type": "execute_result",
          "data": {
            "text/plain": [
              "array(['MA', 'JK', 'PP', 'MP'], dtype=object)"
            ]
          },
          "metadata": {},
          "execution_count": 24
        }
      ]
    },
    {
      "cell_type": "code",
      "source": [
        "df['LAJI'].value_counts()"
      ],
      "metadata": {
        "id": "qbjuZ9tF5PEX",
        "outputId": "f4bb34c2-37e2-4259-ab40-daafa61fec93",
        "colab": {
          "base_uri": "https://localhost:8080/"
        }
      },
      "execution_count": 26,
      "outputs": [
        {
          "output_type": "execute_result",
          "data": {
            "text/plain": [
              "MA    42435\n",
              "PP     3291\n",
              "JK     2970\n",
              "MP     2028\n",
              "Name: LAJI, dtype: int64"
            ]
          },
          "metadata": {},
          "execution_count": 26
        }
      ]
    },
    {
      "cell_type": "markdown",
      "source": [
        "Tehdään kuvaaja josta näkee eri vuosina onnettomuuslajien kehittymisen:"
      ],
      "metadata": {
        "id": "I6BcJnGp6HQ6"
      }
    },
    {
      "cell_type": "code",
      "source": [
        "import matplotlib.pyplot as plt\n",
        "\n",
        "df_mp = df[df.LAJI == 'MP']\n",
        "df_mp.plot()\n",
        "plt.show()"
      ],
      "metadata": {
        "id": "eVPKaPg26NzA",
        "outputId": "e2f72ebd-0041-45ea-e8d9-e46cfafdc9f0",
        "colab": {
          "base_uri": "https://localhost:8080/",
          "height": 294
        }
      },
      "execution_count": 34,
      "outputs": [
        {
          "output_type": "display_data",
          "data": {
            "text/plain": [
              "<Figure size 432x288 with 1 Axes>"
            ],
            "image/png": "[encoded data removed]"
          },
          "metadata": {
            "needs_background": "light"
          }
        }
      ]
    }
  ]
}